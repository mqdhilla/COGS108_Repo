{
 "cells": [
  {
   "cell_type": "markdown",
   "metadata": {},
   "source": [
    "# COGS 108 - EDA Checkpoint"
   ]
  },
  {
   "cell_type": "markdown",
   "metadata": {},
   "source": [
    "# Names\n",
    "\n",
    "- Maria Dhilla\n",
    "- Eunice Lee\n",
    "- Prem Shelat\n",
    "- Maryam Amin\n",
    "- Najma Adeeb"
   ]
  },
  {
   "cell_type": "markdown",
   "metadata": {},
   "source": [
    "<a id='research_question'></a>\n",
    "# Research Question"
   ]
  },
  {
   "cell_type": "markdown",
   "metadata": {},
   "source": [
    "*Revised research question*\n",
    "\n",
    "What is the relationship between visitation numbers to six national parks (Grand Canyon, Mesa Verde, Guadalupe Mountain, Yosemite, Crater Lake, and Pinnacles) and the COVID-19 case numbers in the counties those parks are located in from 2012-2021?"
   ]
  },
  {
   "cell_type": "markdown",
   "metadata": {},
   "source": [
    "# Background & Prior Work\n",
    "\n",
    "<b>Why it is of interest to us.</b>\n",
    "\n",
    "As a group we are passionate about the welfare of our National Park’s system. Established in 1916 by President Wilson, the creation of the National Park Service ushered in a new era of environmentalism ensuring the safety of our nation's natural beauty.\n",
    "\n",
    "During the last few decades, several heavily trafficked national parks, such as Yosemite, have experienced tourist overcrowding and understaffing that was exacerbated by the pandemic. Based on research done by researchers published in Biological Conservation, there has been a shift in the way national parks are operated due to the pandemic, mainly due to reduced staff and pandemic related closures (4).\n",
    "\n",
    "Our group came to realize that we all enjoy spending time outdoors in nature, whether it be hiking, running, biking, or merely going for long walks. A few of us have visited many national parks and, after discussing with park rangers, know firsthand the resources and staffing required to maintain them. This inspired us to investigate how the recent emergence of COVID-19 plays into the visitation of these landmarks.\n",
    "\n",
    "<b>What background information led you to your hypothesis?</b>\n",
    "By the time it was summer of 2020, restrictions were lifted and many people drove to national parks. There was about a 335% increase in park visits nationally in July of 2020 compared to May of 2020 (4). It can be assumed that most of these visitors traveled by car due to air travel restrictions as well as the fear of air travel that was prevalent in mid-2020, and therefore, visitation may have increased. CNN reports have also shown that in June 2021, visitation, hiking, and camping numbers increased between 2019 and 2021 (8).\n",
    "\n",
    "In addition to record breaking visitation rates after the emergence of the pandemic, many national parks typically receive large crowds of visitors during the summer time already. During summer months such as June and July, many families opt to go on road trips to a national park as this time coincides with most schools’ summer vacation times. Therefore, it is also important to consider and analyze national park visitation during certain seasons.\n",
    "\n",
    "<b>Why is this important?</b>\n",
    "Overcrowding at national parks lead to several consequences for both tourists and the land itself. Many tourists enjoy taking pictures during their trips to the parks, but certain ideal photo spots can be overrun by tourists who don’t know proper procedures for visitation. A tragic example of this would be the death of a man from Phoenix who fell to his death at the very popular Horseshoe Bend, which has a steep open cliff edge . Another example would be the fact that many tourists have “tossed rocks and debris into Yellowstone’s sensitive geothermal features, which risks destroying them forever” (9). The land is also affected by overcrowding. One example of this would be when too many people walked around the famous Sequoia trees and damaged their roots at Yosemite (10). This issue becomes a bigger problem when taking into consideration recent budget cuts and understaffing due to the COVID-19 pandemic, despite record setting visitation numbers (11).\n",
    "\n",
    "Analyzing the impact of the past twenty years and the COVID-19 restrictions on national parks would help us better understand how the national parks system should take various travel and health restrictions into consideration in the near future. Studying these impacts will also help national parks have a better idea of how busy they will be for the next few years and help them prepare to meet those crowds. Our project aims to solidify the link between the restrictions brought on by the pandemic and the increase of tourism in National Parks, in part because tourists were unable to go to usual tourist attractions due to social distancing regulations.\n",
    "\n",
    "<b>What has already been done on this topic? What is already known?</b>\n",
    "Research published by the International Hospitality Review Journal discusses the economic impact of visits to Utah national parks and the tourism sector at large. Instead of recording “an immediate drop in visitation, as was experienced elsewhere across the USA,” the research explains how “visitors flocked to the national parks as a means to ‘safely social distance’ in the outdoors” (12). These crowds were of concern to locals who were worried about tourists spreading the virus.\n",
    "\n",
    "A study investigating what factors impacted park visitation rates in the western states of the U.S. and how park visits can affect wellbeing was published in the journal Wellbeing, Space and Society in 2021. Visiting parks is tied to people’s overall wellbeing and mental health and “parks often serve as places of restoration for those dealing with crisis”, and a common crisis everyone faced was the pandemic and all of its impacts to their daily lives (13). For urban residents facing strong travel restrictions during the beginning of the pandemic, their outdoor activity was affected significantly more and most likely helped contribute to the overcrowding at national parks when restrictions eased up."
   ]
  },
  {
   "cell_type": "markdown",
   "metadata": {},
   "source": [
    "# Hypothesis\n",
    "\n",
    "*need to edit*\n",
    "\n",
    "We hypothesize that over the next 3 years, the visitation rates will decrease due to the COVID-19 pandemic. We think that due to the prevalence of new COVID-19 variants and ongoing restrictions throughout the country, visitation rates should continue to decline over the next 3 years. However, after 3 years we believe visitation rates will increase for the following 2 years due to the normalization of the impacts of COVID-19, such as looser restrictions and more effective booster shots. "
   ]
  },
  {
   "cell_type": "markdown",
   "metadata": {},
   "source": [
    "# Dataset(s)\n",
    "\n",
    "Intermountain Region:\n",
    "\n",
    "- Dataset Name: Recreation Visits by Month, Grand Canyon NP\n",
    "- Link to the dataset: https://irma.nps.gov/STATS/SSRSReports/Park%20Specific%20Reports/Recreation%20Visitors%20By%20Month%20(1979%20-%20Last%20Calendar%20Year)?Park=GRCA\n",
    "- Number of observations: 42 rows (1979-2021), 12 columns (months)\n",
    "\n",
    "This dataset contains the visitation data for Grand Canyon NP from 1979 to 2021. This park receives a large number of vistors (>400,000 in Jun 2019).\n",
    "\n",
    "<p></p>\n",
    "\n",
    "- Dataset Name: Recreation Visits by Month, Mesa Verde NP\n",
    "- Link to the dataset: https://irma.nps.gov/STATS/SSRSReports/Park%20Specific%20Reports/Recreation%20Visitors%20By%20Month%20(1979%20-%20Last%20Calendar%20Year)?Park=MEVE\n",
    "- Number of observations: 42 rows (1979-2021), 12 columns (months)\n",
    "\n",
    "This dataset contains the visitation data for Mesa Verde NP from 1979 to 2021. This park receives a medium number of vistors (~100,000 in Jun 2019).\n",
    "\n",
    "<p></p>\n",
    "\n",
    "- Dataset Name: Recreation Visits by Month, Guadalupe Mountain NP\n",
    "- Link to the dataset: https://irma.nps.gov/STATS/SSRSReports/Park%20Specific%20Reports/Recreation%20Visitors%20By%20Month%20(1979%20-%20Last%20Calendar%20Year)?Park=GUMO\n",
    "- Number of observations: 42 rows (1979-2021), 12 columns (months)\n",
    "\n",
    "This dataset contains the visitation data for Guadalupe Mountain NP from 1979 to 2021. This park receives a smaller number of vistors (<20,000 in Jun 2019).\n",
    "\n",
    "<p></p>\n",
    "\n",
    "<b>Pacific West Region:</b>\n",
    "\n",
    "- Dataset Name: Recreation Visits by Month, Yosemite NP\n",
    "- Link to the dataset: https://irma.nps.gov/STATS/SSRSReports/Park%20Specific%20Reports/Recreation%20Visitors%20By%20Month%20(1979%20-%20Last%20Calendar%20Year)?Park=YOSE\n",
    "- Number of observations: 42 rows (1979-2021), 12 columns (months)\n",
    "\n",
    "This dataset contains the visitation data for Yosemite NP from 1979 to 2021. This park receives a large number of vistors (>400,000 in Jun 2019).\n",
    "\n",
    "<p></p>\n",
    "\n",
    "- Dataset Name: Recreation Visits by Month, Crater Lake NP\n",
    "- Link to the dataset: https://irma.nps.gov/STATS/SSRSReports/Park%20Specific%20Reports/Recreation%20Visitors%20By%20Month%20(1979%20-%20Last%20Calendar%20Year)?Park=CRLA\n",
    "- Number of observations: 42 rows (1979-2021), 12 columns (months)\n",
    "\n",
    "This dataset contains the visitation data for Crater Lake NP from 1979 to 2021. This park receives a medium number of vistors (~100,000 in Jun 2019).\n",
    "\n",
    "<p></p>\n",
    "\n",
    "- Dataset Name: Recreation Visits by Month, Pinnacles NP\n",
    "- Link to the dataset: https://irma.nps.gov/STATS/SSRSReports/Park%20Specific%20Reports/Recreation%20Visitors%20By%20Month%20(1979%20-%20Last%20Calendar%20Year)?Park=PINN\n",
    "- Number of observations: 42 rows (1979-2021), 12 columns (months)\n",
    "\n",
    "This dataset contains the visitation data for Pinnacles NP from 1979 to 2021. This park receives a smaller number of vistors (<20,000 in Jun 2019).\n",
    "\n",
    "We plan on combining the above six datasets to get a better picture of how specific national parks in two different regions (Pacific West and Intermountain) that have a range of visitor traffic numbers. These datasets do not require cleaning, as they are already well organized. \n",
    "\n",
    "- Dataset Name: Current Year Monthly and Annual Summary Report, Total Recreation Visits for Dec 2020 (Note: we went through the drop-down menu to get month-to-month data)\n",
    "- Link to the dataset: https://irma.nps.gov/STATS/SSRSReports/National%20Reports/Current%20Year%20Monthly%20and%20Annual%20Summary%20Report%20(1979%20-%20Present) \n",
    "- Number of observations: 386 rows (National Parks, etc), 7 columns\n",
    "\n",
    "We collected visitation data for all national parks, monuments, and other sites based on region. We downloaded individual datasets for each month that compared visitation between 2019 and 2020 (e.g. Apr 2019 vs Apr 2020 was one dataset). We then combined these datasets to form one large set that contained month to month visitation data for all parks between 2019 and 2020. We intend to use this data to get a closer look at the pandemic related fluctuations in park visitation."
   ]
  },
  {
   "cell_type": "markdown",
   "metadata": {},
   "source": [
    "# Setup"
   ]
  },
  {
   "cell_type": "code",
   "execution_count": null,
   "metadata": {},
   "outputs": [],
   "source": [
    "# import pandas & numpy library\n",
    "import pandas as pd\n",
    "import numpy as np\n",
    "\n",
    "# Import seaborn and apply its plotting styles\n",
    "import seaborn as sns\n",
    "sns.set(font_scale=2, style=\"white\")\n",
    "\n",
    "# import matplotlib\n",
    "import matplotlib as mpl\n",
    "import matplotlib.pyplot as plt\n",
    "import matplotlib.style as style\n",
    "# set plotting size parameter\n",
    "plt.rcParams['figure.figsize'] = (12, 5)\n",
    "\n",
    "#Import Datetime to help access Dates easier\n",
    "import datetime"
   ]
  },
  {
   "cell_type": "markdown",
   "metadata": {},
   "source": [
    "# Data Cleaning"
   ]
  },
  {
   "cell_type": "markdown",
   "metadata": {},
   "source": [
    "Describe your data cleaning steps here."
   ]
  },
  {
   "cell_type": "markdown",
   "metadata": {},
   "source": [
    "Here, we started by reading in our CSV files that were downloaded from the National Park Service's Statistics page. Fortunately, there is a lot of data to work with. Some of data we wanted to look at is split up into multiple CSVs, while other datasets are entirely clean. Therefore, we are mostly going to be merging datasets and cleaning unwanted columns of data for the sets that are split up."
   ]
  },
  {
   "cell_type": "code",
   "execution_count": null,
   "metadata": {},
   "outputs": [],
   "source": [
    "# NOTE: may be useful later\n",
    "# full year total data for 2019-2021, split by year\n",
    "# df_2019_2020 = pd.read_csv('https://raw.githubusercontent.com/mqdhilla/COGS108_Repo/main/2019-2020%20Current%20Year%20Monthly%20and%20Annual%20Summary%20Report%20(1979%20-%20Present).csv')\n",
    "# df_2020_2021 = pd.read_csv('https://raw.githubusercontent.com/mqdhilla/COGS108_Repo/main/2020-2021%20Current%20Year%20Monthly%20and%20Annual%20Summary%20Report%20(1979%20-%20Present)%20(1).csv')\n",
    "\n",
    "# import month-to-month data, split by region\n",
    "df_jan19_20 = pd.read_csv('https://raw.githubusercontent.com/mqdhilla/COGS108_Repo/main/Jan2019-2020.csv')\n",
    "df_feb19_20 = pd.read_csv('https://raw.githubusercontent.com/mqdhilla/COGS108_Repo/main/Feb2019-2020.csv')\n",
    "df_mar19_20 = pd.read_csv('https://raw.githubusercontent.com/mqdhilla/COGS108_Repo/main/Mar2019-2020.csv')\n",
    "df_apr19_20 = pd.read_csv('https://raw.githubusercontent.com/mqdhilla/COGS108_Repo/main/Apr2019-2020.csv')\n",
    "df_may19_20 = pd.read_csv('https://raw.githubusercontent.com/mqdhilla/COGS108_Repo/main/May2019-2020.csv')\n",
    "df_jun19_20 = pd.read_csv('https://raw.githubusercontent.com/mqdhilla/COGS108_Repo/main/Jun2019-2020.csv')\n",
    "df_jul19_20 = pd.read_csv('https://raw.githubusercontent.com/mqdhilla/COGS108_Repo/main/Jul2019-2020.csv')\n",
    "df_aug19_20 = pd.read_csv('https://raw.githubusercontent.com/mqdhilla/COGS108_Repo/main/Aug2019-2020.csv')\n",
    "df_sep19_20 = pd.read_csv('https://raw.githubusercontent.com/mqdhilla/COGS108_Repo/main/Sep2019-2020.csv')\n",
    "df_oct19_20 = pd.read_csv('https://raw.githubusercontent.com/mqdhilla/COGS108_Repo/main/Oct2019-2020.csv')\n",
    "df_nov19_20 = pd.read_csv('https://raw.githubusercontent.com/mqdhilla/COGS108_Repo/main/Nov2019-2020.csv')\n",
    "df_dec19_20 = pd.read_csv('https://raw.githubusercontent.com/mqdhilla/COGS108_Repo/main/Dec2019-2020.csv')"
   ]
  },
  {
   "cell_type": "code",
   "execution_count": null,
   "metadata": {},
   "outputs": [],
   "source": [
    "# clean csv dataframes of visitation for each of the parks of interest\n",
    "df_GRCA = pd.read_csv('https://raw.githubusercontent.com/mqdhilla/COGS108_Repo/main/GRCA.csv') # grand canyon\n",
    "df_MEVE = pd.read_csv('https://raw.githubusercontent.com/mqdhilla/COGS108_Repo/main/MEVE.csv') # mesa verde\n",
    "df_GUMO = pd.read_csv('https://raw.githubusercontent.com/mqdhilla/COGS108_Repo/main/GUMO.csv') # guadalupe mtns\n",
    "df_YOSE = pd.read_csv('https://raw.githubusercontent.com/mqdhilla/COGS108_Repo/main/YOSE.csv') # yosemite\n",
    "df_CRLA = pd.read_csv('https://raw.githubusercontent.com/mqdhilla/COGS108_Repo/main/CRLA.csv') # crater lake\n",
    "df_PINN = pd.read_csv('https://raw.githubusercontent.com/mqdhilla/COGS108_Repo/main/PINN.csv') # pinnacles"
   ]
  },
  {
   "cell_type": "code",
   "execution_count": null,
   "metadata": {},
   "outputs": [],
   "source": [
    "# import daily covid case data by counties and states\n",
    "df_covid_cases = pd.read_csv('https://raw.githubusercontent.com/nytimes/covid-19-data/master/us-counties.csv')"
   ]
  },
  {
   "cell_type": "code",
   "execution_count": null,
   "metadata": {},
   "outputs": [],
   "source": [
    "# take a look at the first five observations of the covid cases data\n",
    "df_covid_cases.head()"
   ]
  },
  {
   "cell_type": "markdown",
   "metadata": {},
   "source": [
    "There are some minor fixes for the data of the parks of interest:"
   ]
  },
  {
   "cell_type": "code",
   "execution_count": null,
   "metadata": {},
   "outputs": [],
   "source": [
    "# these 3 NPs have a row for 2022 data but only have numbers for jan and is null for the rest\n",
    "# so we drop the null row for each\n",
    "df_MEVE = df_MEVE.dropna().reset_index().drop(labels='index', axis=1)\n",
    "df_CRLA = df_CRLA.dropna().reset_index().drop(labels='index', axis=1)\n",
    "df_PINN = df_PINN.dropna().reset_index().drop(labels='index', axis=1)\n",
    "\n",
    "# rename last column as 'total'\n",
    "df_GRCA.rename(columns = {'Textbox5': 'Total'}, inplace = True)\n",
    "df_MEVE.rename(columns = {'Textbox5': 'Total'}, inplace = True)\n",
    "df_GUMO.rename(columns = {'Textbox5': 'Total'}, inplace = True)\n",
    "df_YOSE.rename(columns = {'Textbox5': 'Total'}, inplace = True)\n",
    "df_CRLA.rename(columns = {'Textbox5': 'Total'}, inplace = True)\n",
    "df_PINN.rename(columns = {'Textbox5': 'Total'}, inplace = True)\n",
    "\n",
    "# all of the monthly and total data are objects so we convert them into int types\n",
    "df_GRCA.replace(',', '', regex=True, inplace=True)\n",
    "df_GRCA = df_GRCA.apply(pd.to_numeric)\n",
    "\n",
    "df_MEVE.replace(',', '', regex=True, inplace=True)\n",
    "df_MEVE = df_MEVE.apply(pd.to_numeric)\n",
    "\n",
    "df_GUMO.replace(',', '', regex=True, inplace=True)\n",
    "df_GUMO = df_GUMO.apply(pd.to_numeric)\n",
    "\n",
    "df_YOSE.replace(',', '', regex=True, inplace=True)\n",
    "df_YOSE = df_YOSE.apply(pd.to_numeric)\n",
    "\n",
    "df_CRLA.replace(',', '', regex=True, inplace=True)\n",
    "df_CRLA = df_CRLA.apply(pd.to_numeric)\n",
    "\n",
    "df_PINN.replace(',', '', regex=True, inplace=True)\n",
    "df_PINN = df_PINN.apply(pd.to_numeric)"
   ]
  },
  {
   "cell_type": "code",
   "execution_count": null,
   "metadata": {},
   "outputs": [],
   "source": [
    "# take a look at the cleaned dataset\n",
    "df_GRCA.head()"
   ]
  },
  {
   "cell_type": "code",
   "execution_count": null,
   "metadata": {},
   "outputs": [],
   "source": [
    "# check that all columns are ints\n",
    "df_GRCA.dtypes"
   ]
  },
  {
   "cell_type": "markdown",
   "metadata": {},
   "source": [
    "The month-to-month datasets are not formatted properly and don't translate well to CSV. There are many empty rows that show up when we download the data, so we drop null rows, reset index, and drop unnecessary columns. These unnecesssary columns contain redundant data and are formed as a result of the incorrect formatting. We made a function and cleaned up each month's dataframe. "
   ]
  },
  {
   "cell_type": "code",
   "execution_count": null,
   "metadata": {},
   "outputs": [],
   "source": [
    "# create a function that takes in parameters dataframe and month name\n",
    "# and returns a dataframe without null values and with needed data only\n",
    "def clean_data(dframe, month_name):\n",
    "\n",
    "  # remove observations with null values and reset index\n",
    "  dframe = dframe.dropna().reset_index()\n",
    "\n",
    "  # remove columns that aren't needed\n",
    "  dframe = dframe.drop(dframe.columns[[0, 1, 2, 3, 4, 10, 11, 12, 13, 14, 15, 16, 17, 18, 19]], axis=1)\n",
    "\n",
    "  # rename column names for easier readability\n",
    "  dframe = dframe.rename(columns={'Field6':'region', 'Field7':'park_name', 'Field8': month_name + '_2019', 'Field9': month_name + '_2020', 'Field10': month_name + '_diff'})\n",
    "  return dframe\n",
    "\n",
    "# store month names into a list named months\n",
    "months = ['jan', 'feb', 'mar', 'apr', 'may', 'jun', 'jul', 'aug', 'sep', 'oct', 'nov', 'dec']"
   ]
  },
  {
   "cell_type": "code",
   "execution_count": null,
   "metadata": {},
   "outputs": [],
   "source": [
    "df_jan19_20 = clean_data(df_jan19_20, months[0])\n",
    "df_feb19_20 = clean_data(df_feb19_20, months[1])\n",
    "df_mar19_20 = clean_data(df_mar19_20, months[2])\n",
    "df_apr19_20 = clean_data(df_apr19_20, months[3])\n",
    "df_may19_20 = clean_data(df_may19_20, months[4])\n",
    "df_jun19_20 = clean_data(df_jun19_20, months[5])"
   ]
  },
  {
   "cell_type": "code",
   "execution_count": null,
   "metadata": {},
   "outputs": [],
   "source": [
    "df_jul19_20 = clean_data(df_jul19_20, months[6])\n",
    "df_aug19_20 = clean_data(df_aug19_20, months[7])\n",
    "df_sep19_20 = clean_data(df_sep19_20, months[8])\n",
    "df_oct19_20 = clean_data(df_oct19_20, months[9])\n",
    "df_nov19_20 = clean_data(df_nov19_20, months[10])\n",
    "df_dec19_20 = clean_data(df_dec19_20, months[11])"
   ]
  },
  {
   "cell_type": "markdown",
   "metadata": {},
   "source": [
    "Next, in order to get one clean dataframe, we merge the different months into a single dataframe that contain all monthly data for 2019 and 2020. This dataframe contains data for all regions."
   ]
  },
  {
   "cell_type": "code",
   "execution_count": null,
   "metadata": {},
   "outputs": [],
   "source": [
    "complete_df = df_jan19_20.merge(df_feb19_20)\n",
    "complete_df = complete_df.merge(df_mar19_20)\n",
    "complete_df = complete_df.merge(df_apr19_20)\n",
    "complete_df = complete_df.merge(df_may19_20)\n",
    "complete_df = complete_df.merge(df_jun19_20)\n",
    "complete_df = complete_df.merge(df_jul19_20)\n",
    "complete_df = complete_df.merge(df_aug19_20)\n",
    "complete_df = complete_df.merge(df_sep19_20)\n",
    "complete_df = complete_df.merge(df_oct19_20)\n",
    "complete_df = complete_df.merge(df_nov19_20)\n",
    "complete_df = complete_df.merge(df_dec19_20)"
   ]
  },
  {
   "cell_type": "code",
   "execution_count": null,
   "metadata": {},
   "outputs": [],
   "source": [
    "# check the merged dataset\n",
    "complete_df.head()"
   ]
  },
  {
   "cell_type": "markdown",
   "metadata": {},
   "source": [
    "Next, we create dataframes for each of the regions of interest for our project: the Pacific West and Intermountain Regions. This data will help us get a good look at broad trends for all national parks and monuments in these regions before and during the pandemic."
   ]
  },
  {
   "cell_type": "code",
   "execution_count": null,
   "metadata": {},
   "outputs": [],
   "source": [
    "condition_pacwest = complete_df['region'] == 'Pacific West  Region'\n",
    "pacwest_df = complete_df[condition_pacwest].reset_index().drop(labels='index', axis=1)\n",
    "\n",
    "condition_intmtn = complete_df['region'] == 'Intermountain  Region'\n",
    "intmtn_df = complete_df[condition_intmtn].reset_index().drop(labels='index', axis=1)"
   ]
  },
  {
   "cell_type": "code",
   "execution_count": null,
   "metadata": {},
   "outputs": [],
   "source": [
    "# look at Pacific West Region data\n",
    "pacwest_df.head()"
   ]
  },
  {
   "cell_type": "code",
   "execution_count": null,
   "metadata": {},
   "outputs": [],
   "source": [
    "# look at Intermountain Region data\n",
    "intmtn_df.head()"
   ]
  },
  {
   "cell_type": "markdown",
   "metadata": {},
   "source": [
    "Finally, we clean the covid case dataframe from New York Times. Looking at the last few variables in the date column, the data includes February 2022 covid case records. We remove 2022 data from the dataframe because we will use 2020-2021 data as our pandemic data."
   ]
  },
  {
   "cell_type": "code",
   "execution_count": null,
   "metadata": {},
   "outputs": [],
   "source": [
    "# take a look at the last five observations of the covid cases data\n",
    "df_covid_cases.tail()"
   ]
  },
  {
   "cell_type": "code",
   "execution_count": null,
   "metadata": {},
   "outputs": [],
   "source": [
    "# drop rows based on 2022 column value\n",
    "df_2022_indexes = df_covid_cases[df_covid_cases['date'].str.contains('2022')].index\n",
    "df_covid_cases.drop(df_2022_indexes, inplace=True)"
   ]
  },
  {
   "cell_type": "code",
   "execution_count": null,
   "metadata": {},
   "outputs": [],
   "source": [
    "# verify that there is no 2022 data\n",
    "check_year_data = df_covid_cases['date'].str.contains('2022').any()\n",
    "check_year_data"
   ]
  },
  {
   "cell_type": "code",
   "execution_count": null,
   "metadata": {},
   "outputs": [],
   "source": [
    "# take a look at the last five observations of the updated covid cases data\n",
    "df_covid_cases.tail()"
   ]
  },
  {
   "cell_type": "markdown",
   "metadata": {},
   "source": [
    "Now, we filter through the counties to only work with covid cases across counties that are in proximity to the NPs and store them into new dataframes. This data will be useful for identifying covid trends before and during the pandemic in counties where our NPs reside in or are nearby."
   ]
  },
  {
   "cell_type": "code",
   "execution_count": null,
   "metadata": {},
   "outputs": [],
   "source": [
    "# filter out the counties that the NPs are located in/near\n",
    "# Grand Canyon is in Coconino County, AZ\n",
    "df_covid_cases_AR = df_covid_cases[df_covid_cases['state'] == 'Arizona']\n",
    "df_covid_cases_CN = df_covid_cases_AR[df_covid_cases_AR['county'] == 'Coconino']"
   ]
  },
  {
   "cell_type": "code",
   "execution_count": null,
   "metadata": {},
   "outputs": [],
   "source": [
    "# check Coconino County data\n",
    "df_covid_cases_CN.head()"
   ]
  },
  {
   "cell_type": "code",
   "execution_count": null,
   "metadata": {},
   "outputs": [],
   "source": [
    "# Mesa Verde is in Montezuma County, CO\n",
    "df_covid_cases_CO = df_covid_cases[df_covid_cases['state'] == 'Colorado']\n",
    "df_covid_cases_MO = df_covid_cases_CO[df_covid_cases_CO['county'] == 'Montezuma']"
   ]
  },
  {
   "cell_type": "code",
   "execution_count": null,
   "metadata": {},
   "outputs": [],
   "source": [
    "# check Montezuma county data\n",
    "df_covid_cases_MO.head()"
   ]
  },
  {
   "cell_type": "code",
   "execution_count": null,
   "metadata": {},
   "outputs": [],
   "source": [
    "# Guadalupe Mountains is in Hudspeth and Culberson counties, NM\n",
    "df_covid_cases_NM = df_covid_cases[df_covid_cases['state'] == 'New Mexico']"
   ]
  },
  {
   "cell_type": "markdown",
   "metadata": {},
   "source": [
    "Looking at the counties in New Mexico, we see that that NYT dataframe doesn't contain Hudspeth and Culberson counties."
   ]
  },
  {
   "cell_type": "code",
   "execution_count": null,
   "metadata": {},
   "outputs": [],
   "source": [
    "# look at the different counties in New Mexico\n",
    "df_covid_cases_NM['county'].unique()"
   ]
  },
  {
   "cell_type": "markdown",
   "metadata": {},
   "source": [
    "Therefore, we choose to use Guadalupa Mountains NP's surrounding counties: Eddy and Otero counties."
   ]
  },
  {
   "cell_type": "code",
   "execution_count": null,
   "metadata": {},
   "outputs": [],
   "source": [
    "df_covid_cases_HC = df_covid_cases_NM[(df_covid_cases_NM['county'] == 'Eddy') | (df_covid_cases_NM['county'] == 'Otero')]"
   ]
  },
  {
   "cell_type": "code",
   "execution_count": null,
   "metadata": {},
   "outputs": [],
   "source": [
    "# check Eddy and Otero counties data\n",
    "df_covid_cases_HC.head()"
   ]
  },
  {
   "cell_type": "code",
   "execution_count": null,
   "metadata": {},
   "outputs": [],
   "source": [
    "# Yosemite is in Mariposa County, CA\n",
    "df_covid_cases_CA = df_covid_cases[df_covid_cases['state'] == 'California']\n",
    "df_covid_cases_MR = df_covid_cases_CA[df_covid_cases_CA['county'] == 'Mariposa']"
   ]
  },
  {
   "cell_type": "code",
   "execution_count": null,
   "metadata": {},
   "outputs": [],
   "source": [
    "# check Mariposa County\n",
    "df_covid_cases_MR.head()"
   ]
  },
  {
   "cell_type": "code",
   "execution_count": null,
   "metadata": {},
   "outputs": [],
   "source": [
    "# Crater Lake is in Klamath County, Oregon\n",
    "df_covid_cases_OR = df_covid_cases[df_covid_cases['state'] == 'Oregon']\n",
    "df_covid_cases_KL = df_covid_cases_OR[df_covid_cases_OR['county'] == 'Klamath']"
   ]
  },
  {
   "cell_type": "code",
   "execution_count": null,
   "metadata": {},
   "outputs": [],
   "source": [
    "# check Klamath County data\n",
    "df_covid_cases_KL.head()"
   ]
  },
  {
   "cell_type": "code",
   "execution_count": null,
   "metadata": {},
   "outputs": [],
   "source": [
    "# Pinnacles is San Benito County, CA\n",
    "df_covid_cases_CA = df_covid_cases[df_covid_cases['state'] == 'California']\n",
    "df_covid_cases_SB = df_covid_cases_CA[(df_covid_cases_CA['county'] == 'San Benito')]"
   ]
  },
  {
   "cell_type": "code",
   "execution_count": null,
   "metadata": {},
   "outputs": [],
   "source": [
    "# check San Benito county data\n",
    "df_covid_cases_SB.head()"
   ]
  },
  {
   "cell_type": "markdown",
   "metadata": {},
   "source": [
    "# Data Analysis & Results (EDA)"
   ]
  },
  {
   "cell_type": "markdown",
   "metadata": {},
   "source": [
    "Carry out EDA on your dataset(s); Describe in this section"
   ]
  },
  {
   "cell_type": "markdown",
   "metadata": {},
   "source": [
    "To observe average yearly visitation rates of NPs of our choice, we get year data before the COVID-19 pandemic (2012-2019). We will later compare this data to pandemic rates to determine whether there was a visitation drop between these two time periods."
   ]
  },
  {
   "cell_type": "code",
   "execution_count": null,
   "metadata": {},
   "outputs": [],
   "source": [
    "# filter out data before 2012 and after 2019\n",
    "df_GRCA_12_19 = df_GRCA.loc[(df_GRCA['Year'] >= 2012) & (df_GRCA['Year'] <= 2019)]\n",
    "df_MEVE_12_19 = df_MEVE.loc[(df_MEVE['Year'] >= 2012) & (df_MEVE['Year'] <= 2019)]\n",
    "df_GUMO_12_19 = df_GUMO.loc[(df_GUMO['Year'] >= 2012) & (df_GUMO['Year'] <= 2019)]\n",
    "df_YOSE_12_19 = df_YOSE.loc[(df_YOSE['Year'] >= 2012) & (df_YOSE['Year'] <= 2019)]\n",
    "df_CRLA_12_19 = df_CRLA.loc[(df_CRLA['Year'] >= 2012) & (df_CRLA['Year'] <= 2019)]\n",
    "df_PINN_12_19 = df_PINN.loc[(df_PINN['Year'] >= 2012) & (df_PINN['Year'] <= 2019)]"
   ]
  },
  {
   "cell_type": "code",
   "execution_count": null,
   "metadata": {},
   "outputs": [],
   "source": [
    "# check that the stored dataset contains only 2012-2019 data\n",
    "df_GRCA_12_19['Year'].unique()"
   ]
  },
  {
   "cell_type": "markdown",
   "metadata": {},
   "source": [
    "Since the dataframes already contain a column with the total year data, we calculate the yearly averages of NP visitation rates by dividing the total monthly visitation count by 12 months, and store this data into new dataframes."
   ]
  },
  {
   "cell_type": "code",
   "execution_count": null,
   "metadata": {},
   "outputs": [],
   "source": [
    "# create a function that takes in parameters dataframe and NP name\n",
    "# and returns a dataframe yearly average NP visitation numbers\n",
    "def yearly_avg(dframe, NP_name):\n",
    "    \n",
    "    # create a new dataframe with selected columns\n",
    "    dframe = dframe.loc[:, ['Year', 'Total']]\n",
    "    \n",
    "    # divide the yearly visitation numbers by the number of months in an year\n",
    "    dframe['Total'] = dframe['Total'] / 12\n",
    "    \n",
    "    # rename column names for easier readibility, drop index column, and reset index\n",
    "    dframe = dframe.rename(columns={'Total': NP_name + ' Yearly Average Visitation Numbers'}).reset_index().drop(labels='index', axis=1)\n",
    "    return dframe\n",
    "\n",
    "# store NP names into a list named NPs\n",
    "NPs = ['GRCA', 'MEVE', 'GUMO', 'YOSE', 'CRLA', 'PINN']"
   ]
  },
  {
   "cell_type": "code",
   "execution_count": null,
   "metadata": {},
   "outputs": [],
   "source": [
    "df_GRCA_12_19 = yearly_avg(df_GRCA_12_19, NPs[0])\n",
    "df_MEVE_12_19 = yearly_avg(df_MEVE_12_19, NPs[1])\n",
    "df_GUMO_12_19 = yearly_avg(df_GUMO_12_19, NPs[2])\n",
    "df_YOSE_12_19 = yearly_avg(df_YOSE_12_19, NPs[3])\n",
    "df_CRLA_12_19 = yearly_avg(df_CRLA_12_19, NPs[4])\n",
    "df_PINN_12_19 = yearly_avg(df_PINN_12_19, NPs[5])"
   ]
  },
  {
   "cell_type": "code",
   "execution_count": null,
   "metadata": {},
   "outputs": [],
   "source": [
    "# look at the yearly average NP visitation rates for years 2012-2019\n",
    "df_GRCA_12_19.head()"
   ]
  },
  {
   "cell_type": "markdown",
   "metadata": {},
   "source": [
    "Next, we plot the dataframes"
   ]
  },
  {
   "cell_type": "code",
   "execution_count": null,
   "metadata": {},
   "outputs": [],
   "source": [
    "plt.plot('Year', 'GRCA Yearly Average Visitation Numbers', data=df_GRCA_12_19)\n",
    "plt.xlabel('Year (2012-2019)')\n",
    "plt.ylabel('Avg Visitation Numbers')\n",
    "plt.show()"
   ]
  },
  {
   "cell_type": "code",
   "execution_count": null,
   "metadata": {},
   "outputs": [],
   "source": [
    "plt.plot('Year', 'MEVE Yearly Average Visitation Numbers', data=df_MEVE_12_19)\n",
    "plt.xlabel('Year (2012-2019)')\n",
    "plt.ylabel('Avg Visitation Numbers')\n",
    "plt.show()"
   ]
  },
  {
   "cell_type": "code",
   "execution_count": null,
   "metadata": {},
   "outputs": [],
   "source": [
    "plt.plot('Year', 'GUMO Yearly Average Visitation Numbers', data=df_GUMO_12_19)\n",
    "plt.xlabel('Year (2012-2019)')\n",
    "plt.ylabel('Avg Visitation Numbers')\n",
    "plt.show()"
   ]
  },
  {
   "cell_type": "code",
   "execution_count": null,
   "metadata": {},
   "outputs": [],
   "source": [
    "plt.plot('Year', 'YOSE Yearly Average Visitation Numbers', data=df_YOSE_12_19)\n",
    "plt.xlabel('Year (2012-2019)')\n",
    "plt.ylabel('Avg Visitation Numbers')\n",
    "plt.show()"
   ]
  },
  {
   "cell_type": "code",
   "execution_count": null,
   "metadata": {},
   "outputs": [],
   "source": [
    "plt.plot('Year', 'CRLA Yearly Average Visitation Numbers', data=df_CRLA_12_19)\n",
    "plt.xlabel('Year (2012-2019)')\n",
    "plt.ylabel('Avg Visitation Numbers')\n",
    "plt.show()"
   ]
  },
  {
   "cell_type": "code",
   "execution_count": null,
   "metadata": {},
   "outputs": [],
   "source": [
    "plt.plot('Year', 'PINN Yearly Average Visitation Numbers', data=df_PINN_12_19)\n",
    "plt.xlabel('Year (2012-2019)')\n",
    "plt.ylabel('Avg Visitation Numbers')\n",
    "plt.show()"
   ]
  },
  {
   "cell_type": "code",
   "execution_count": null,
   "metadata": {},
   "outputs": [],
   "source": [
    "plt.plot('Year', 'GRCA Yearly Average Visitation Numbers', data=df_GRCA_12_19)\n",
    "plt.plot('Year', 'MEVE Yearly Average Visitation Numbers', data=df_MEVE_12_19)\n",
    "plt.plot('Year', 'YOSE Yearly Average Visitation Numbers', data=df_YOSE_12_19)\n",
    "plt.plot('Year', 'CRLA Yearly Average Visitation Numbers', data=df_CRLA_12_19)\n",
    "plt.xlabel('Year (2012-2019)')\n",
    "plt.ylabel('Avg Visitation Numbers')\n",
    "plt.show()"
   ]
  },
  {
   "cell_type": "markdown",
   "metadata": {},
   "source": [
    "Next, we get the yearly park visitation averages during the pandemic (2020-2021) and display the data."
   ]
  },
  {
   "cell_type": "code",
   "execution_count": null,
   "metadata": {},
   "outputs": [],
   "source": [
    "# filter out data before 2020\n",
    "df_GRCA_20_21 = df_GRCA[df_GRCA['Year'] > 2019]\n",
    "df_MEVE_20_21 = df_MEVE[df_MEVE['Year'] > 2019]\n",
    "df_GUMO_20_21 = df_GUMO[df_GUMO['Year'] > 2019]\n",
    "df_YOSE_20_21 = df_YOSE[df_YOSE['Year'] > 2019]\n",
    "df_CRLA_20_21 = df_CRLA[df_CRLA['Year'] > 2019]\n",
    "df_PINN_20_21 = df_PINN[df_PINN['Year'] > 2019]\n"
   ]
  },
  {
   "cell_type": "code",
   "execution_count": null,
   "metadata": {},
   "outputs": [],
   "source": [
    "# check that the stored dataset contains only 2020-2021 data\n",
    "df_GRCA_20_21['Year'].unique()"
   ]
  },
  {
   "cell_type": "code",
   "execution_count": null,
   "metadata": {},
   "outputs": [],
   "source": [
    "# apply the yearly_avg function from earlier\n",
    "df_GRCA_20_21 = yearly_avg(df_GRCA_20_21, NPs[0])\n",
    "df_MEVE_20_21 = yearly_avg(df_MEVE_20_21, NPs[1])\n",
    "df_GUMO_20_21 = yearly_avg(df_GUMO_20_21, NPs[2])\n",
    "df_YOSE_20_21 = yearly_avg(df_YOSE_20_21, NPs[3])\n",
    "df_CRLA_20_21 = yearly_avg(df_CRLA_20_21, NPs[4])\n",
    "df_PINN_20_21 = yearly_avg(df_PINN_20_21, NPs[5])"
   ]
  },
  {
   "cell_type": "code",
   "execution_count": null,
   "metadata": {},
   "outputs": [],
   "source": [
    "# look at the yearly average NP visitation rates for years 2020-2021\n",
    "df_GRCA_20_21.head()"
   ]
  },
  {
   "cell_type": "code",
   "execution_count": null,
   "metadata": {},
   "outputs": [],
   "source": [
    "plt.plot('Year', 'GRCA Yearly Average Visitation Numbers', data=df_GRCA_20_21)\n",
    "plt.xlabel('Year (2020-2021)')\n",
    "plt.ylabel('Avg Visitation Numbers')\n",
    "plt.show()"
   ]
  },
  {
   "cell_type": "code",
   "execution_count": null,
   "metadata": {},
   "outputs": [],
   "source": [
    "plt.plot('Year', 'MEVE Yearly Average Visitation Numbers', data=df_MEVE_20_21)\n",
    "plt.xlabel('Year (2020-2021)')\n",
    "plt.ylabel('Avg Visitation Numbers')\n",
    "plt.show()"
   ]
  },
  {
   "cell_type": "code",
   "execution_count": null,
   "metadata": {},
   "outputs": [],
   "source": [
    "plt.plot('Year', 'GUMO Yearly Average Visitation Numbers', data=df_GUMO_20_21)\n",
    "plt.xlabel('Year (2020-2021)')\n",
    "plt.ylabel('Avg Visitation Numbers')\n",
    "plt.show()"
   ]
  },
  {
   "cell_type": "code",
   "execution_count": null,
   "metadata": {},
   "outputs": [],
   "source": [
    "plt.plot('Year', 'YOSE Yearly Average Visitation Numbers', data=df_YOSE_20_21)\n",
    "plt.xlabel('Year (2020-2021)')\n",
    "plt.ylabel('Avg Visitation Numbers')\n",
    "plt.show()"
   ]
  },
  {
   "cell_type": "code",
   "execution_count": null,
   "metadata": {},
   "outputs": [],
   "source": [
    "plt.plot('Year', 'CRLA Yearly Average Visitation Numbers', data=df_CRLA_20_21)\n",
    "plt.xlabel('Year (2020-2021)')\n",
    "plt.ylabel('Avg Visitation Numbers')\n",
    "plt.show()"
   ]
  },
  {
   "cell_type": "code",
   "execution_count": null,
   "metadata": {},
   "outputs": [],
   "source": [
    "plt.plot('Year', 'PINN Yearly Average Visitation Numbers', data=df_PINN_20_21)\n",
    "plt.xlabel('Year (2020-2021)')\n",
    "plt.ylabel('Avg Visitation Numbers')\n",
    "plt.show()"
   ]
  },
  {
   "cell_type": "code",
   "execution_count": null,
   "metadata": {},
   "outputs": [],
   "source": [
    "plt.plot('Year', 'GRCA Yearly Average Visitation Numbers', data=df_GRCA_20_21)\n",
    "plt.plot('Year', 'MEVE Yearly Average Visitation Numbers', data=df_MEVE_20_21)\n",
    "plt.plot('Year', 'GUMO Yearly Average Visitation Numbers', data=df_GUMO_20_21)\n",
    "plt.plot('Year', 'YOSE Yearly Average Visitation Numbers', data=df_YOSE_20_21)\n",
    "plt.plot('Year', 'CRLA Yearly Average Visitation Numbers', data=df_CRLA_20_21)\n",
    "plt.plot('Year', 'PINN Yearly Average Visitation Numbers', data=df_PINN_20_21)\n",
    "plt.xlabel('Year (2020-2021)')\n",
    "plt.ylabel('Avg Visitation Numbers')\n",
    "plt.show()"
   ]
  },
  {
   "cell_type": "markdown",
   "metadata": {},
   "source": [
    "Now, we want to explore the relationship between the 2012-2019 and 2020-2021 dataframes. # ideas: lmplot, scatterplot, lineplot, subplot"
   ]
  },
  {
   "cell_type": "code",
   "execution_count": null,
   "metadata": {},
   "outputs": [],
   "source": [
    "# NOTE : possibly merge the dataframes by time periods (i.e. 1979-2019 and 1979-2021)"
   ]
  },
  {
   "cell_type": "markdown",
   "metadata": {},
   "source": [
    "We also plot Covid cases in our NP counties to look for any general trends. "
   ]
  },
  {
   "cell_type": "code",
   "execution_count": null,
   "metadata": {},
   "outputs": [],
   "source": [
    "df_covid_cases_CN.head()"
   ]
  },
  {
   "cell_type": "markdown",
   "metadata": {},
   "source": [
    "We will convert the date from an object to a datetime type for all six parks."
   ]
  },
  {
   "cell_type": "code",
   "execution_count": null,
   "metadata": {},
   "outputs": [],
   "source": [
    "#Converting the dates from string to datetime types to make data easier to access by year\n",
    "\n",
    "#Coconino County\n",
    "df_covid_cases_CN['date']=pd.to_datetime(df_covid_cases_CN['date']).dt.year"
   ]
  },
  {
   "cell_type": "code",
   "execution_count": null,
   "metadata": {},
   "outputs": [],
   "source": [
    "#Montezuma County\n",
    "df_covid_cases_MO['date']=pd.to_datetime(df_covid_cases_MO['date']).dt.year"
   ]
  },
  {
   "cell_type": "code",
   "execution_count": null,
   "metadata": {},
   "outputs": [],
   "source": [
    "#Eddy and Otero Counties\n",
    "df_covid_cases_HC['date']=pd.to_datetime(df_covid_cases_HC['date']).dt.year"
   ]
  },
  {
   "cell_type": "code",
   "execution_count": null,
   "metadata": {},
   "outputs": [],
   "source": [
    "#Mariposa County\n",
    "df_covid_cases_MR['date']=pd.to_datetime(df_covid_cases_MR['date']).dt.year"
   ]
  },
  {
   "cell_type": "code",
   "execution_count": null,
   "metadata": {},
   "outputs": [],
   "source": [
    "#Klamath County\n",
    "df_covid_cases_KL['date']=pd.to_datetime(df_covid_cases_KL['date']).dt.year"
   ]
  },
  {
   "cell_type": "code",
   "execution_count": null,
   "metadata": {},
   "outputs": [],
   "source": [
    "#San Benito County\n",
    "df_covid_cases_SB['date']=pd.to_datetime(df_covid_cases_SB['date']).dt.year"
   ]
  },
  {
   "cell_type": "code",
   "execution_count": null,
   "metadata": {},
   "outputs": [],
   "source": [
    "#Checking if datetime conversion to year worked\n",
    "\n",
    "#Coconino County\n",
    "df_covid_cases_CN['date'].dtypes"
   ]
  },
  {
   "cell_type": "code",
   "execution_count": null,
   "metadata": {},
   "outputs": [],
   "source": [
    "##Coconino County Plot that shows cases in 2020 vs 2021\n",
    "cov_cases_CN = sns.barplot(x= 'date', y= 'cases', data = df_covid_cases_CN)\n",
    "cov_cases_CN.set(xlabel = 'Year')\n",
    "plt.show()"
   ]
  },
  {
   "cell_type": "code",
   "execution_count": null,
   "metadata": {},
   "outputs": [],
   "source": [
    "##Montezuma county Plot that shows cases in 2020 vs 2021\n",
    "cov_cases_MO = sns.barplot(x= 'date', y= 'cases', data = df_covid_cases_MO)\n",
    "cov_cases_MO.set(xlabel = 'Year')\n",
    "plt.show()"
   ]
  },
  {
   "cell_type": "code",
   "execution_count": null,
   "metadata": {},
   "outputs": [],
   "source": [
    "##Eddy and Otera counties Plot that shows cases in 2020 vs 2021\n",
    "cov_cases_HC = sns.barplot(x= 'date', y= 'cases', data = df_covid_cases_HC)\n",
    "cov_cases_HC.set(xlabel = 'Year')\n",
    "plt.show()"
   ]
  },
  {
   "cell_type": "code",
   "execution_count": null,
   "metadata": {},
   "outputs": [],
   "source": [
    "##Mariposa county Plot that shows cases in 2020 vs 2021\n",
    "cov_cases_MR = sns.barplot(x= 'date', y= 'cases', data = df_covid_cases_MR)\n",
    "cov_cases_MR.set(xlabel = 'Year')\n",
    "plt.show()"
   ]
  },
  {
   "cell_type": "code",
   "execution_count": null,
   "metadata": {},
   "outputs": [],
   "source": [
    "##Klamath county Plot that shows cases in 2020 vs 2021\n",
    "cov_cases_KL = sns.barplot(x= 'date', y= 'cases', data = df_covid_cases_KL)\n",
    "cov_cases_KL.set(xlabel = 'Year')\n",
    "plt.show()"
   ]
  },
  {
   "cell_type": "code",
   "execution_count": null,
   "metadata": {},
   "outputs": [],
   "source": [
    "##San Benito county Plot that shows cases in 2020 vs 2021\n",
    "cov_cases_SB = sns.barplot(x= 'date', y= 'cases', data = df_covid_cases_SB)\n",
    "cov_cases_SB.set(xlabel = 'Year')\n",
    "plt.show()"
   ]
  },
  {
   "cell_type": "code",
   "execution_count": null,
   "metadata": {},
   "outputs": [],
   "source": [
    "#NOTE: need to figure out how to put 2020-2021 years grouped by counties in one plot to show clearer comparison of case numbers"
   ]
  },
  {
   "cell_type": "markdown",
   "metadata": {},
   "source": [
    "The six plots above show that different counties had different amounts of cases in each year. In general, there was a big spike in cases in 2021 compared to 2020 across all counties. Some counties were hit harder in 2021 like Coconino County which had almost 20,000 cases while Mariposa County had around 800 cases in 2021. Further research is needed to understand why this observation occurs but our preliminary guess is that Mariposa County is a small county compared to Coconino County, which is why there are less cases because there are less people in Mariposa. "
   ]
  }
 ],
 "metadata": {
  "kernelspec": {
   "display_name": "Python 3",
   "language": "python",
   "name": "python3"
  },
  "language_info": {
   "codemirror_mode": {
    "name": "ipython",
    "version": 3
   },
   "file_extension": ".py",
   "mimetype": "text/x-python",
   "name": "python",
   "nbconvert_exporter": "python",
   "pygments_lexer": "ipython3",
   "version": "3.10.2"
  }
 },
 "nbformat": 4,
 "nbformat_minor": 2
}
