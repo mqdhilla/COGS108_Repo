{
 "cells": [
  {
   "cell_type": "markdown",
   "metadata": {},
   "source": [
    "# COGS 108 - Impact of COVID-19 on National Park Visitation Rates"
   ]
  },
  {
   "cell_type": "markdown",
   "metadata": {},
   "source": [
    "## Video\n",
    "TBA"
   ]
  },
  {
   "cell_type": "markdown",
   "metadata": {},
   "source": [
    "## Permissions\n",
    "\n",
    "Place an `X` in the appropriate bracket below to specify if you would like your group's project to be made available to the public. (Note that student names will be included (but PIDs will be scraped from any groups who include their PIDs).\n",
    "\n",
    "* [  ] YES - make available\n",
    "* [ X ] NO - keep private"
   ]
  },
  {
   "cell_type": "markdown",
   "metadata": {},
   "source": [
    "# Overview"
   ]
  },
  {
   "cell_type": "markdown",
   "metadata": {},
   "source": [
    "This project focuses on the relationship between visitation rates of National Parks within the United States and the COVID-19 cases within the counties of those National Parks. We used publicly available park visitation data from the National Park Service for the years 2012-2021 and investigated the relationship for 6 specific National Parks. Our analysis revealed that... --*TODO*--"
   ]
  },
  {
   "cell_type": "markdown",
   "metadata": {},
   "source": [
    "# Names\n",
    "\n",
    "- Maria Dhilla\n",
    "- Eunice Lee\n",
    "- Prem Shelat\n",
    "- Maryam Amin\n",
    "- Najma Adeeb"
   ]
  },
  {
   "cell_type": "markdown",
   "metadata": {},
   "source": [
    "<a id='research_question'></a>\n",
    "# Research Question"
   ]
  },
  {
   "cell_type": "markdown",
   "metadata": {},
   "source": [
    "\n",
    "What is the relationship between visitation numbers to six national parks (Grand Canyon, Mesa Verde, Guadalupe Mountain, Yosemite, Crater Lake, and Pinnacles) and the COVID-19 case numbers in the counties those parks are located in from 2012-2021?"
   ]
  },
  {
   "cell_type": "markdown",
   "metadata": {},
   "source": [
    "<a id='background'></a>\n",
    "\n",
    "## Background & Prior Work"
   ]
  },
  {
   "cell_type": "markdown",
   "metadata": {},
   "source": [
    "<b>Why it is of interest to us.</b>\n",
    "\n",
    "As a group we are passionate about the welfare of our National Park’s system. Established in 1916 by President Wilson, the creation of the National Park Service ushered in a new era of environmentalism ensuring the safety of our nation's natural beauty.\n",
    "\n",
    "During the last few decades, several heavily trafficked national parks, such as Yosemite, have experienced tourist overcrowding and understaffing that was exacerbated by the pandemic. Based on research done by researchers published in Biological Conservation, there has been a shift in the way national parks are operated due to the pandemic, mainly due to reduced staff and pandemic related closures (4).\n",
    "\n",
    "Our group came to realize that we all enjoy spending time outdoors in nature, whether it be hiking, running, biking, or merely going for long walks. A few of us have visited many national parks and, after discussing with park rangers, know firsthand the resources and staffing required to maintain them. This inspired us to investigate how the recent emergence of COVID-19 plays into the visitation of these landmarks.\n",
    "\n",
    "<b>Background information that led us to our hypothesis.</b>\n",
    "\n",
    "By the time it was summer of 2020, restrictions were lifted and many people drove to national parks. There was about a 335% increase in park visits nationally in July of 2020 compared to May of 2020 (4). It can be assumed that most of these visitors traveled by car due to air travel restrictions as well as the fear of air travel that was prevalent in mid-2020, and therefore, visitation may have increased. CNN reports have also shown that in June 2021, visitation, hiking, and camping numbers increased between 2019 and 2021 (8).\n",
    "\n",
    "In addition to record breaking visitation rates after the emergence of the pandemic, many national parks typically receive large crowds of visitors during the summer time already. During summer months such as June and July, many families opt to go on road trips to a national park as this time coincides with most schools’ summer vacation times. Therefore, it is also important to consider and analyze national park visitation during certain seasons.\n",
    "\n",
    "<b>Why it is important.</b>\n",
    "\n",
    "Overcrowding at national parks lead to several consequences for both tourists and the land itself. Many tourists enjoy taking pictures during their trips to the parks, but certain ideal photo spots can be overrun by tourists who don’t know proper procedures for visitation. A tragic example of this would be the death of a man from Phoenix who fell to his death at the very popular Horseshoe Bend, which has a steep open cliff edge . Another example would be the fact that many tourists have “tossed rocks and debris into Yellowstone’s sensitive geothermal features, which risks destroying them forever” (9). The land is also affected by overcrowding. One example of this would be when too many people walked around the famous Sequoia trees and damaged their roots at Yosemite (10). This issue becomes a bigger problem when taking into consideration recent budget cuts and understaffing due to the COVID-19 pandemic, despite record setting visitation numbers (11).\n",
    "\n",
    "Analyzing the impact of the past nine years and the COVID-19 restrictions on national parks would help us better understand how the national parks system should take various travel and health restrictions into consideration in the near future. Studying these impacts will also help national parks have a better idea of how busy they will be for the next few years and help them prepare to meet those crowds. Our project aims to solidify the link between the restrictions brought on by the pandemic and the increase of tourism in National Parks, in part because tourists were unable to go to usual tourist attractions due to social distancing regulations.\n",
    "\n",
    "<b>What is already known and done on this topic.</b>\n",
    "\n",
    "Research published by the International Hospitality Review Journal discusses the economic impact of visits to Utah national parks and the tourism sector at large. Instead of recording “an immediate drop in visitation, as was experienced elsewhere across the USA,” the research explains how “visitors flocked to the national parks as a means to ‘safely social distance’ in the outdoors” (12). These crowds were of concern to locals who were worried about tourists spreading the virus.\n",
    "\n",
    "A study investigating what factors impacted park visitation rates in the western states of the U.S. and how park visits can affect wellbeing was published in the journal Wellbeing, Space and Society in 2021. Visiting parks is tied to people’s overall wellbeing and mental health and “parks often serve as places of restoration for those dealing with crisis”, and a common crisis everyone faced was the pandemic and all of its impacts to their daily lives (13). For urban residents facing strong travel restrictions during the beginning of the pandemic, their outdoor activity was affected significantly more and most likely helped contribute to the overcrowding at national parks when restrictions eased up.\n",
    "\n",
    "<b>References:</b>\n",
    "\n",
    "1. https://www.iata.org/en/iata-repository/publications/economic-reports/air-passenger-monthly-analysis---apr-20202/ \n",
    "2. https://www.iea.org/articles/changes-in-transport-behaviour-during-the-covid-19-crisis \n",
    "3. https://www.bts.gov/browse-statistical-products-and-data/covid-related/effects-covid-19-telework-state \n",
    "4. https://www.sciencedirect.com/science/article/pii/S0006320721000902#s0150 \n",
    "5. https://www.unwto.org/covid-19-travel-restrictions \n",
    "6. https://www.transtats.bts.gov/Data_Elements.aspx?Data=1 \n",
    "7. https://swnsdigital.com/us/2020/08/pandemic-driving-americans-to-take-more-road-trips/\n",
    "8. https://www.cnn.com/travel/article/national-park-visitors-surge/index.html\n",
    "​​\n",
    "9. https://www.theguardian.com/environment/2018/nov/20/national-parks-america-overcrowding-crisis-tourism-visitation-solutions\n",
    "10. https://www.livescience.com/overcrowding-us-national-parks.html\n",
    "11. https://www.usatoday.com/story/travel/experience/national-parks/2021/10/23/yellowstone-national-park-workforce-labor-shortage-staff-record-tourism-year/6154890001/\n",
    "12. https://www.emerald.com/insight/content/doi/10.1108/IHR-08-2020-0039/full/html\n",
    "13. https://www.sciencedirect.com/science/article/pii/S2666558121000105"
   ]
  },
  {
   "cell_type": "markdown",
   "metadata": {},
   "source": [
    "# Hypothesis\n"
   ]
  },
  {
   "cell_type": "markdown",
   "metadata": {},
   "source": [
    "We hypothesize that the national park visitation leading up to the end of 2019 will gradually rise over time regardless of the park size or location, as there were no widespread public health crises. From the beginning of 2020, the visitation of all 6 national parks should decline as the number of COVID-19 cases per county rises. After this initial decline in visitation rates, we think that in 2021 the prevalence of new COVID-19 variants and ongoing restrictions throughout the country will continue to keep visitation rates below pre-COVID-19 levels. However, the visitation rates will slowly rise (while still remaining below pre-COVID-19 levels) during 2021 as the COVID-19 cases per county become manageable for the health infastructre. During the entire observed time period, we expect each of the 6 parks to maintain their own levels of visitation rates as their respective counties’ COVID-19 cases fluctuate. "
   ]
  },
  {
   "cell_type": "markdown",
   "metadata": {},
   "source": [
    "# Dataset(s)"
   ]
  },
  {
   "cell_type": "markdown",
   "metadata": {},
   "source": [
    "<b>Intermountain Region:</b>\n",
    "\n",
    "- Dataset Name: Recreation Visits by Month, Grand Canyon NP\n",
    "- Link to the dataset: https://irma.nps.gov/STATS/SSRSReports/Park%20Specific%20Reports/Recreation%20Visitors%20By%20Month%20(1979%20-%20Last%20Calendar%20Year)?Park=GRCA\n",
    "- Number of observations: 42\n",
    "\n",
    "This dataset contains the visitation data for Grand Canyon NP from 1979 to 2021. This park receives a large number of vistors (>400,000 in Jun 2019).\n",
    "\n",
    "<p></p>\n",
    "\n",
    "- Dataset Name: Recreation Visits by Month, Mesa Verde NP\n",
    "- Link to the dataset: https://irma.nps.gov/STATS/SSRSReports/Park%20Specific%20Reports/Recreation%20Visitors%20By%20Month%20(1979%20-%20Last%20Calendar%20Year)?Park=MEVE\n",
    "- Number of observations: 42\n",
    "\n",
    "This dataset contains the visitation data for Mesa Verde NP from 1979 to 2021. This park receives a medium number of vistors (~100,000 in Jun 2019).\n",
    "\n",
    "<p></p>\n",
    "\n",
    "- Dataset Name: Recreation Visits by Month, Guadalupe Mountain NP\n",
    "- Link to the dataset: https://irma.nps.gov/STATS/SSRSReports/Park%20Specific%20Reports/Recreation%20Visitors%20By%20Month%20(1979%20-%20Last%20Calendar%20Year)?Park=GUMO\n",
    "- Number of observations: 42\n",
    "\n",
    "This dataset contains the visitation data for Guadalupe Mountain NP from 1979 to 2021. This park receives a smaller number of vistors (<20,000 in Jun 2019).\n",
    "\n",
    "<p></p>\n",
    "\n",
    "<b>Pacific West Region:</b>\n",
    "\n",
    "- Dataset Name: Recreation Visits by Month, Yosemite NP\n",
    "- Link to the dataset: https://irma.nps.gov/STATS/SSRSReports/Park%20Specific%20Reports/Recreation%20Visitors%20By%20Month%20(1979%20-%20Last%20Calendar%20Year)?Park=YOSE\n",
    "- Number of observations: 42\n",
    "\n",
    "This dataset contains the visitation data for Yosemite NP from 1979 to 2021. This park receives a large number of vistors (>400,000 in Jun 2019).\n",
    "\n",
    "<p></p>\n",
    "\n",
    "- Dataset Name: Recreation Visits by Month, Crater Lake NP\n",
    "- Link to the dataset: https://irma.nps.gov/STATS/SSRSReports/Park%20Specific%20Reports/Recreation%20Visitors%20By%20Month%20(1979%20-%20Last%20Calendar%20Year)?Park=CRLA\n",
    "- Number of observations: 42\n",
    "\n",
    "This dataset contains the visitation data for Crater Lake NP from 1979 to 2021. This park receives a medium number of vistors (~100,000 in Jun 2019).\n",
    "\n",
    "<p></p>\n",
    "\n",
    "- Dataset Name: Recreation Visits by Month, Pinnacles NP\n",
    "- Link to the dataset: https://irma.nps.gov/STATS/SSRSReports/Park%20Specific%20Reports/Recreation%20Visitors%20By%20Month%20(1979%20-%20Last%20Calendar%20Year)?Park=PINN\n",
    "- Number of observations: 42\n",
    "\n",
    "This dataset contains the visitation data for Pinnacles NP from 1979 to 2021. This park receives a smaller number of vistors (<20,000 in Jun 2019).\n",
    "\n",
    "We plan on combining the above six datasets to get a better picture of how specific national parks in two different regions (Pacific West and Intermountain) have a range of visitor traffic numbers. These datasets do not require a lot of cleaning, as they are already well organized. \n",
    "\n",
    "<b>Covid-19 Data in the United States:</b>\n",
    "\n",
    "- Dataset Name: us-counties.csv\n",
    "- Link to the dataset: https://github.com/nytimes/covid-19-data/blob/master/us-counties.csv\n",
    "- Number of observations: 2288013\n",
    "\n",
    "This dataset contains covid fips, cases, and deaths data for all U.S. counties and states from 2020 to 2022. While the github page frequently updates the dataset, we removed all data from 2022 as we don't think there is enough data as of early 2022 that will be useful in our data analysis. We intend to use this data to observe whether there is a relationship between visitation numbers and covid case numbers across counties.\n",
    "\n"
   ]
  },
  {
   "cell_type": "markdown",
   "metadata": {},
   "source": [
    "# Setup"
   ]
  },
  {
   "cell_type": "code",
   "execution_count": 158,
   "metadata": {},
   "outputs": [],
   "source": [
    "# import pandas & numpy library\n",
    "import pandas as pd\n",
    "import numpy as np\n",
    "pd.options.mode.chained_assignment = None  # default='warn'\n",
    "\n",
    "# Import seaborn and apply its plotting styles\n",
    "import seaborn as sns\n",
    "sns.set(font_scale=2, style=\"white\")\n",
    "\n",
    "# import matplotlib\n",
    "import matplotlib as mpl\n",
    "import matplotlib.pyplot as plt\n",
    "import matplotlib.style as style\n",
    "# set plotting size parameter\n",
    "plt.rcParams['figure.figsize'] = (12, 5)\n",
    "\n",
    "# import Statsmodels and patsy\n",
    "import patsy\n",
    "import statsmodels.api as sm"
   ]
  },
  {
   "cell_type": "markdown",
   "metadata": {},
   "source": [
    "# Data Cleaning"
   ]
  },
  {
   "cell_type": "markdown",
   "metadata": {},
   "source": [
    "<b>National Park Datasets (1979-2021)</b>\n",
    "\n",
    "We start by reading in our CSV files that were downloaded from the National Park Service's Statistics page. Fortunately, there is a lot of data to work with. Some of data we want to look at are split up into multiple CSVs, while other datasets are entirely clean. Therefore, we are mostly going to be merging datasets and cleaning unwanted columns of data for the sets that are split up."
   ]
  },
  {
   "cell_type": "code",
   "execution_count": 159,
   "metadata": {},
   "outputs": [],
   "source": [
    "# import csv dataframes of visitation for each of the parks of interest\n",
    "df_GRCA = pd.read_csv('https://raw.githubusercontent.com/mqdhilla/COGS108_Repo/main/GRCA.csv') # grand canyon\n",
    "df_MEVE = pd.read_csv('https://raw.githubusercontent.com/mqdhilla/COGS108_Repo/main/MEVE.csv') # mesa verde\n",
    "df_GUMO = pd.read_csv('https://raw.githubusercontent.com/mqdhilla/COGS108_Repo/main/GUMO.csv') # guadalupe mtns\n",
    "df_YOSE = pd.read_csv('https://raw.githubusercontent.com/mqdhilla/COGS108_Repo/main/YOSE.csv') # yosemite\n",
    "df_CRLA = pd.read_csv('https://raw.githubusercontent.com/mqdhilla/COGS108_Repo/main/CRLA.csv') # crater lake\n",
    "df_PINN = pd.read_csv('https://raw.githubusercontent.com/mqdhilla/COGS108_Repo/main/PINN.csv') # pinnacles"
   ]
  },
  {
   "cell_type": "markdown",
   "metadata": {},
   "source": [
    "There are some minor fixes for the data of the parks of interest:"
   ]
  },
  {
   "cell_type": "code",
   "execution_count": 160,
   "metadata": {},
   "outputs": [],
   "source": [
    "# these 3 NPs have a row for 2022 data but only have numbers for jan and is null for the rest\n",
    "# so we drop the null row for each\n",
    "df_MEVE = df_MEVE.dropna().reset_index().drop(labels='index', axis=1)\n",
    "df_CRLA = df_CRLA.dropna().reset_index().drop(labels='index', axis=1)\n",
    "df_PINN = df_PINN.dropna().reset_index().drop(labels='index', axis=1)\n",
    "\n",
    "# rename the last column as 'total'\n",
    "df_GRCA.rename(columns = {'Textbox5': 'Total'}, inplace = True)\n",
    "df_MEVE.rename(columns = {'Textbox5': 'Total'}, inplace = True)\n",
    "df_GUMO.rename(columns = {'Textbox5': 'Total'}, inplace = True)\n",
    "df_YOSE.rename(columns = {'Textbox5': 'Total'}, inplace = True)\n",
    "df_CRLA.rename(columns = {'Textbox5': 'Total'}, inplace = True)\n",
    "df_PINN.rename(columns = {'Textbox5': 'Total'}, inplace = True)\n",
    "\n",
    "# all of the monthly and total data are objects so we convert them into int types\n",
    "df_GRCA.replace(',', '', regex=True, inplace=True)\n",
    "df_GRCA = df_GRCA.apply(pd.to_numeric)\n",
    "\n",
    "df_MEVE.replace(',', '', regex=True, inplace=True)\n",
    "df_MEVE = df_MEVE.apply(pd.to_numeric)\n",
    "\n",
    "df_GUMO.replace(',', '', regex=True, inplace=True)\n",
    "df_GUMO = df_GUMO.apply(pd.to_numeric)\n",
    "\n",
    "df_YOSE.replace(',', '', regex=True, inplace=True)\n",
    "df_YOSE = df_YOSE.apply(pd.to_numeric)\n",
    "\n",
    "df_CRLA.replace(',', '', regex=True, inplace=True)\n",
    "df_CRLA = df_CRLA.apply(pd.to_numeric)\n",
    "\n",
    "df_PINN.replace(',', '', regex=True, inplace=True)\n",
    "df_PINN = df_PINN.apply(pd.to_numeric)"
   ]
  },
  {
   "cell_type": "code",
   "execution_count": 161,
   "metadata": {},
   "outputs": [
    {
     "data": {
      "text/html": [
       "<div>\n",
       "<style scoped>\n",
       "    .dataframe tbody tr th:only-of-type {\n",
       "        vertical-align: middle;\n",
       "    }\n",
       "\n",
       "    .dataframe tbody tr th {\n",
       "        vertical-align: top;\n",
       "    }\n",
       "\n",
       "    .dataframe thead th {\n",
       "        text-align: right;\n",
       "    }\n",
       "</style>\n",
       "<table border=\"1\" class=\"dataframe\">\n",
       "  <thead>\n",
       "    <tr style=\"text-align: right;\">\n",
       "      <th></th>\n",
       "      <th>Year</th>\n",
       "      <th>JAN</th>\n",
       "      <th>FEB</th>\n",
       "      <th>MAR</th>\n",
       "      <th>APR</th>\n",
       "      <th>MAY</th>\n",
       "      <th>JUN</th>\n",
       "      <th>JUL</th>\n",
       "      <th>AUG</th>\n",
       "      <th>SEP</th>\n",
       "      <th>OCT</th>\n",
       "      <th>NOV</th>\n",
       "      <th>DEC</th>\n",
       "      <th>Total</th>\n",
       "    </tr>\n",
       "  </thead>\n",
       "  <tbody>\n",
       "    <tr>\n",
       "      <th>0</th>\n",
       "      <td>2021</td>\n",
       "      <td>164922</td>\n",
       "      <td>161428</td>\n",
       "      <td>317054</td>\n",
       "      <td>421232</td>\n",
       "      <td>484442</td>\n",
       "      <td>538530</td>\n",
       "      <td>556766</td>\n",
       "      <td>430684</td>\n",
       "      <td>399321</td>\n",
       "      <td>430734</td>\n",
       "      <td>346971</td>\n",
       "      <td>280593</td>\n",
       "      <td>4532677</td>\n",
       "    </tr>\n",
       "    <tr>\n",
       "      <th>1</th>\n",
       "      <td>2020</td>\n",
       "      <td>246460</td>\n",
       "      <td>252897</td>\n",
       "      <td>276002</td>\n",
       "      <td>0</td>\n",
       "      <td>43397</td>\n",
       "      <td>232267</td>\n",
       "      <td>350003</td>\n",
       "      <td>303900</td>\n",
       "      <td>249010</td>\n",
       "      <td>421568</td>\n",
       "      <td>275764</td>\n",
       "      <td>245830</td>\n",
       "      <td>2897098</td>\n",
       "    </tr>\n",
       "    <tr>\n",
       "      <th>2</th>\n",
       "      <td>2019</td>\n",
       "      <td>225056</td>\n",
       "      <td>213050</td>\n",
       "      <td>451228</td>\n",
       "      <td>562265</td>\n",
       "      <td>618598</td>\n",
       "      <td>643821</td>\n",
       "      <td>756860</td>\n",
       "      <td>700896</td>\n",
       "      <td>578852</td>\n",
       "      <td>551558</td>\n",
       "      <td>347847</td>\n",
       "      <td>324380</td>\n",
       "      <td>5974411</td>\n",
       "    </tr>\n",
       "    <tr>\n",
       "      <th>3</th>\n",
       "      <td>2018</td>\n",
       "      <td>257366</td>\n",
       "      <td>265949</td>\n",
       "      <td>503284</td>\n",
       "      <td>549416</td>\n",
       "      <td>637703</td>\n",
       "      <td>673474</td>\n",
       "      <td>799765</td>\n",
       "      <td>744826</td>\n",
       "      <td>615783</td>\n",
       "      <td>555094</td>\n",
       "      <td>408794</td>\n",
       "      <td>369041</td>\n",
       "      <td>6380495</td>\n",
       "    </tr>\n",
       "    <tr>\n",
       "      <th>4</th>\n",
       "      <td>2017</td>\n",
       "      <td>217102</td>\n",
       "      <td>239154</td>\n",
       "      <td>502739</td>\n",
       "      <td>590006</td>\n",
       "      <td>606247</td>\n",
       "      <td>726916</td>\n",
       "      <td>837258</td>\n",
       "      <td>745613</td>\n",
       "      <td>571946</td>\n",
       "      <td>529825</td>\n",
       "      <td>349326</td>\n",
       "      <td>338106</td>\n",
       "      <td>6254238</td>\n",
       "    </tr>\n",
       "  </tbody>\n",
       "</table>\n",
       "</div>"
      ],
      "text/plain": [
       "   Year     JAN     FEB     MAR     APR     MAY     JUN     JUL     AUG  \\\n",
       "0  2021  164922  161428  317054  421232  484442  538530  556766  430684   \n",
       "1  2020  246460  252897  276002       0   43397  232267  350003  303900   \n",
       "2  2019  225056  213050  451228  562265  618598  643821  756860  700896   \n",
       "3  2018  257366  265949  503284  549416  637703  673474  799765  744826   \n",
       "4  2017  217102  239154  502739  590006  606247  726916  837258  745613   \n",
       "\n",
       "      SEP     OCT     NOV     DEC    Total  \n",
       "0  399321  430734  346971  280593  4532677  \n",
       "1  249010  421568  275764  245830  2897098  \n",
       "2  578852  551558  347847  324380  5974411  \n",
       "3  615783  555094  408794  369041  6380495  \n",
       "4  571946  529825  349326  338106  6254238  "
      ]
     },
     "execution_count": 161,
     "metadata": {},
     "output_type": "execute_result"
    }
   ],
   "source": [
    "# take a look at Grand Canyon dataset\n",
    "df_GRCA.head()"
   ]
  },
  {
   "cell_type": "code",
   "execution_count": 162,
   "metadata": {},
   "outputs": [
    {
     "data": {
      "text/plain": [
       "Year     int64\n",
       "JAN      int64\n",
       "FEB      int64\n",
       "MAR      int64\n",
       "APR      int64\n",
       "MAY      int64\n",
       "JUN      int64\n",
       "JUL      int64\n",
       "AUG      int64\n",
       "SEP      int64\n",
       "OCT      int64\n",
       "NOV      int64\n",
       "DEC      int64\n",
       "Total    int64\n",
       "dtype: object"
      ]
     },
     "execution_count": 162,
     "metadata": {},
     "output_type": "execute_result"
    }
   ],
   "source": [
    "# check that all columns are ints\n",
    "df_GRCA.dtypes"
   ]
  },
  {
   "cell_type": "code",
   "execution_count": 163,
   "metadata": {},
   "outputs": [
    {
     "data": {
      "text/html": [
       "<div>\n",
       "<style scoped>\n",
       "    .dataframe tbody tr th:only-of-type {\n",
       "        vertical-align: middle;\n",
       "    }\n",
       "\n",
       "    .dataframe tbody tr th {\n",
       "        vertical-align: top;\n",
       "    }\n",
       "\n",
       "    .dataframe thead th {\n",
       "        text-align: right;\n",
       "    }\n",
       "</style>\n",
       "<table border=\"1\" class=\"dataframe\">\n",
       "  <thead>\n",
       "    <tr style=\"text-align: right;\">\n",
       "      <th></th>\n",
       "      <th>Year</th>\n",
       "      <th>JAN</th>\n",
       "      <th>FEB</th>\n",
       "      <th>MAR</th>\n",
       "      <th>APR</th>\n",
       "      <th>MAY</th>\n",
       "      <th>JUN</th>\n",
       "      <th>JUL</th>\n",
       "      <th>AUG</th>\n",
       "      <th>SEP</th>\n",
       "      <th>OCT</th>\n",
       "      <th>NOV</th>\n",
       "      <th>DEC</th>\n",
       "      <th>Total</th>\n",
       "    </tr>\n",
       "  </thead>\n",
       "  <tbody>\n",
       "    <tr>\n",
       "      <th>0</th>\n",
       "      <td>2021</td>\n",
       "      <td>7038</td>\n",
       "      <td>6331</td>\n",
       "      <td>15533</td>\n",
       "      <td>27916</td>\n",
       "      <td>60106</td>\n",
       "      <td>111115</td>\n",
       "      <td>108828</td>\n",
       "      <td>78743</td>\n",
       "      <td>64533</td>\n",
       "      <td>43012</td>\n",
       "      <td>16850</td>\n",
       "      <td>8472</td>\n",
       "      <td>548477</td>\n",
       "    </tr>\n",
       "    <tr>\n",
       "      <th>1</th>\n",
       "      <td>2020</td>\n",
       "      <td>6872</td>\n",
       "      <td>7422</td>\n",
       "      <td>10193</td>\n",
       "      <td>0</td>\n",
       "      <td>3029</td>\n",
       "      <td>48110</td>\n",
       "      <td>49824</td>\n",
       "      <td>56923</td>\n",
       "      <td>44557</td>\n",
       "      <td>37794</td>\n",
       "      <td>13803</td>\n",
       "      <td>8950</td>\n",
       "      <td>287477</td>\n",
       "    </tr>\n",
       "    <tr>\n",
       "      <th>2</th>\n",
       "      <td>2019</td>\n",
       "      <td>95</td>\n",
       "      <td>3414</td>\n",
       "      <td>14992</td>\n",
       "      <td>32428</td>\n",
       "      <td>60665</td>\n",
       "      <td>108231</td>\n",
       "      <td>113166</td>\n",
       "      <td>87133</td>\n",
       "      <td>70865</td>\n",
       "      <td>47270</td>\n",
       "      <td>10201</td>\n",
       "      <td>7743</td>\n",
       "      <td>556203</td>\n",
       "    </tr>\n",
       "    <tr>\n",
       "      <th>3</th>\n",
       "      <td>2018</td>\n",
       "      <td>8309</td>\n",
       "      <td>7400</td>\n",
       "      <td>21048</td>\n",
       "      <td>34517</td>\n",
       "      <td>64623</td>\n",
       "      <td>99530</td>\n",
       "      <td>106001</td>\n",
       "      <td>84092</td>\n",
       "      <td>70929</td>\n",
       "      <td>45178</td>\n",
       "      <td>13382</td>\n",
       "      <td>8411</td>\n",
       "      <td>563420</td>\n",
       "    </tr>\n",
       "    <tr>\n",
       "      <th>4</th>\n",
       "      <td>2017</td>\n",
       "      <td>5601</td>\n",
       "      <td>5737</td>\n",
       "      <td>21016</td>\n",
       "      <td>34568</td>\n",
       "      <td>64239</td>\n",
       "      <td>111130</td>\n",
       "      <td>119918</td>\n",
       "      <td>96470</td>\n",
       "      <td>77036</td>\n",
       "      <td>51351</td>\n",
       "      <td>14824</td>\n",
       "      <td>11898</td>\n",
       "      <td>613788</td>\n",
       "    </tr>\n",
       "  </tbody>\n",
       "</table>\n",
       "</div>"
      ],
      "text/plain": [
       "   Year   JAN   FEB    MAR    APR    MAY     JUN     JUL    AUG    SEP    OCT  \\\n",
       "0  2021  7038  6331  15533  27916  60106  111115  108828  78743  64533  43012   \n",
       "1  2020  6872  7422  10193      0   3029   48110   49824  56923  44557  37794   \n",
       "2  2019    95  3414  14992  32428  60665  108231  113166  87133  70865  47270   \n",
       "3  2018  8309  7400  21048  34517  64623   99530  106001  84092  70929  45178   \n",
       "4  2017  5601  5737  21016  34568  64239  111130  119918  96470  77036  51351   \n",
       "\n",
       "     NOV    DEC   Total  \n",
       "0  16850   8472  548477  \n",
       "1  13803   8950  287477  \n",
       "2  10201   7743  556203  \n",
       "3  13382   8411  563420  \n",
       "4  14824  11898  613788  "
      ]
     },
     "execution_count": 163,
     "metadata": {},
     "output_type": "execute_result"
    }
   ],
   "source": [
    "# take a look at Mesa Verde NP dataset\n",
    "df_MEVE.head()"
   ]
  },
  {
   "cell_type": "code",
   "execution_count": 164,
   "metadata": {},
   "outputs": [
    {
     "data": {
      "text/plain": [
       "Year     int64\n",
       "JAN      int64\n",
       "FEB      int64\n",
       "MAR      int64\n",
       "APR      int64\n",
       "MAY      int64\n",
       "JUN      int64\n",
       "JUL      int64\n",
       "AUG      int64\n",
       "SEP      int64\n",
       "OCT      int64\n",
       "NOV      int64\n",
       "DEC      int64\n",
       "Total    int64\n",
       "dtype: object"
      ]
     },
     "execution_count": 164,
     "metadata": {},
     "output_type": "execute_result"
    }
   ],
   "source": [
    "# check that all columns are ints\n",
    "df_MEVE.dtypes"
   ]
  },
  {
   "cell_type": "code",
   "execution_count": 165,
   "metadata": {},
   "outputs": [
    {
     "data": {
      "text/html": [
       "<div>\n",
       "<style scoped>\n",
       "    .dataframe tbody tr th:only-of-type {\n",
       "        vertical-align: middle;\n",
       "    }\n",
       "\n",
       "    .dataframe tbody tr th {\n",
       "        vertical-align: top;\n",
       "    }\n",
       "\n",
       "    .dataframe thead th {\n",
       "        text-align: right;\n",
       "    }\n",
       "</style>\n",
       "<table border=\"1\" class=\"dataframe\">\n",
       "  <thead>\n",
       "    <tr style=\"text-align: right;\">\n",
       "      <th></th>\n",
       "      <th>Year</th>\n",
       "      <th>JAN</th>\n",
       "      <th>FEB</th>\n",
       "      <th>MAR</th>\n",
       "      <th>APR</th>\n",
       "      <th>MAY</th>\n",
       "      <th>JUN</th>\n",
       "      <th>JUL</th>\n",
       "      <th>AUG</th>\n",
       "      <th>SEP</th>\n",
       "      <th>OCT</th>\n",
       "      <th>NOV</th>\n",
       "      <th>DEC</th>\n",
       "      <th>Total</th>\n",
       "    </tr>\n",
       "  </thead>\n",
       "  <tbody>\n",
       "    <tr>\n",
       "      <th>0</th>\n",
       "      <td>2021</td>\n",
       "      <td>13801</td>\n",
       "      <td>12590</td>\n",
       "      <td>31321</td>\n",
       "      <td>26595</td>\n",
       "      <td>23686</td>\n",
       "      <td>15384</td>\n",
       "      <td>16755</td>\n",
       "      <td>15734</td>\n",
       "      <td>13701</td>\n",
       "      <td>25150</td>\n",
       "      <td>22906</td>\n",
       "      <td>25668</td>\n",
       "      <td>243291</td>\n",
       "    </tr>\n",
       "    <tr>\n",
       "      <th>1</th>\n",
       "      <td>2020</td>\n",
       "      <td>14151</td>\n",
       "      <td>14716</td>\n",
       "      <td>19505</td>\n",
       "      <td>2321</td>\n",
       "      <td>0</td>\n",
       "      <td>1588</td>\n",
       "      <td>8285</td>\n",
       "      <td>7767</td>\n",
       "      <td>14552</td>\n",
       "      <td>25654</td>\n",
       "      <td>25402</td>\n",
       "      <td>17315</td>\n",
       "      <td>151256</td>\n",
       "    </tr>\n",
       "    <tr>\n",
       "      <th>2</th>\n",
       "      <td>2019</td>\n",
       "      <td>1049</td>\n",
       "      <td>9462</td>\n",
       "      <td>27831</td>\n",
       "      <td>20970</td>\n",
       "      <td>25204</td>\n",
       "      <td>14376</td>\n",
       "      <td>13540</td>\n",
       "      <td>10532</td>\n",
       "      <td>12157</td>\n",
       "      <td>23513</td>\n",
       "      <td>15161</td>\n",
       "      <td>15038</td>\n",
       "      <td>188833</td>\n",
       "    </tr>\n",
       "    <tr>\n",
       "      <th>3</th>\n",
       "      <td>2018</td>\n",
       "      <td>8327</td>\n",
       "      <td>13443</td>\n",
       "      <td>12275</td>\n",
       "      <td>19718</td>\n",
       "      <td>16579</td>\n",
       "      <td>16341</td>\n",
       "      <td>11514</td>\n",
       "      <td>13945</td>\n",
       "      <td>12322</td>\n",
       "      <td>19438</td>\n",
       "      <td>21512</td>\n",
       "      <td>6933</td>\n",
       "      <td>172347</td>\n",
       "    </tr>\n",
       "    <tr>\n",
       "      <th>4</th>\n",
       "      <td>2017</td>\n",
       "      <td>12105</td>\n",
       "      <td>21610</td>\n",
       "      <td>51285</td>\n",
       "      <td>18856</td>\n",
       "      <td>18076</td>\n",
       "      <td>14733</td>\n",
       "      <td>12234</td>\n",
       "      <td>14183</td>\n",
       "      <td>10114</td>\n",
       "      <td>17643</td>\n",
       "      <td>20336</td>\n",
       "      <td>14082</td>\n",
       "      <td>225257</td>\n",
       "    </tr>\n",
       "  </tbody>\n",
       "</table>\n",
       "</div>"
      ],
      "text/plain": [
       "   Year    JAN    FEB    MAR    APR    MAY    JUN    JUL    AUG    SEP    OCT  \\\n",
       "0  2021  13801  12590  31321  26595  23686  15384  16755  15734  13701  25150   \n",
       "1  2020  14151  14716  19505   2321      0   1588   8285   7767  14552  25654   \n",
       "2  2019   1049   9462  27831  20970  25204  14376  13540  10532  12157  23513   \n",
       "3  2018   8327  13443  12275  19718  16579  16341  11514  13945  12322  19438   \n",
       "4  2017  12105  21610  51285  18856  18076  14733  12234  14183  10114  17643   \n",
       "\n",
       "     NOV    DEC   Total  \n",
       "0  22906  25668  243291  \n",
       "1  25402  17315  151256  \n",
       "2  15161  15038  188833  \n",
       "3  21512   6933  172347  \n",
       "4  20336  14082  225257  "
      ]
     },
     "execution_count": 165,
     "metadata": {},
     "output_type": "execute_result"
    }
   ],
   "source": [
    "# take a look at Guadalupe Mountains NP dataset\n",
    "df_GUMO.head()"
   ]
  },
  {
   "cell_type": "code",
   "execution_count": 166,
   "metadata": {},
   "outputs": [
    {
     "data": {
      "text/plain": [
       "Year     int64\n",
       "JAN      int64\n",
       "FEB      int64\n",
       "MAR      int64\n",
       "APR      int64\n",
       "MAY      int64\n",
       "JUN      int64\n",
       "JUL      int64\n",
       "AUG      int64\n",
       "SEP      int64\n",
       "OCT      int64\n",
       "NOV      int64\n",
       "DEC      int64\n",
       "Total    int64\n",
       "dtype: object"
      ]
     },
     "execution_count": 166,
     "metadata": {},
     "output_type": "execute_result"
    }
   ],
   "source": [
    "# check that all columns are ints\n",
    "df_GUMO.dtypes"
   ]
  },
  {
   "cell_type": "code",
   "execution_count": 167,
   "metadata": {},
   "outputs": [
    {
     "data": {
      "text/html": [
       "<div>\n",
       "<style scoped>\n",
       "    .dataframe tbody tr th:only-of-type {\n",
       "        vertical-align: middle;\n",
       "    }\n",
       "\n",
       "    .dataframe tbody tr th {\n",
       "        vertical-align: top;\n",
       "    }\n",
       "\n",
       "    .dataframe thead th {\n",
       "        text-align: right;\n",
       "    }\n",
       "</style>\n",
       "<table border=\"1\" class=\"dataframe\">\n",
       "  <thead>\n",
       "    <tr style=\"text-align: right;\">\n",
       "      <th></th>\n",
       "      <th>Year</th>\n",
       "      <th>JAN</th>\n",
       "      <th>FEB</th>\n",
       "      <th>MAR</th>\n",
       "      <th>APR</th>\n",
       "      <th>MAY</th>\n",
       "      <th>JUN</th>\n",
       "      <th>JUL</th>\n",
       "      <th>AUG</th>\n",
       "      <th>SEP</th>\n",
       "      <th>OCT</th>\n",
       "      <th>NOV</th>\n",
       "      <th>DEC</th>\n",
       "      <th>Total</th>\n",
       "    </tr>\n",
       "  </thead>\n",
       "  <tbody>\n",
       "    <tr>\n",
       "      <th>0</th>\n",
       "      <td>2021</td>\n",
       "      <td>67284</td>\n",
       "      <td>128222</td>\n",
       "      <td>159906</td>\n",
       "      <td>257158</td>\n",
       "      <td>348006</td>\n",
       "      <td>429980</td>\n",
       "      <td>509874</td>\n",
       "      <td>432038</td>\n",
       "      <td>356030</td>\n",
       "      <td>284611</td>\n",
       "      <td>185213</td>\n",
       "      <td>129273</td>\n",
       "      <td>3287595</td>\n",
       "    </tr>\n",
       "    <tr>\n",
       "      <th>1</th>\n",
       "      <td>2020</td>\n",
       "      <td>132742</td>\n",
       "      <td>167778</td>\n",
       "      <td>92324</td>\n",
       "      <td>0</td>\n",
       "      <td>0</td>\n",
       "      <td>236534</td>\n",
       "      <td>501068</td>\n",
       "      <td>375226</td>\n",
       "      <td>258561</td>\n",
       "      <td>249827</td>\n",
       "      <td>136799</td>\n",
       "      <td>117454</td>\n",
       "      <td>2268313</td>\n",
       "    </tr>\n",
       "    <tr>\n",
       "      <th>2</th>\n",
       "      <td>2019</td>\n",
       "      <td>116746</td>\n",
       "      <td>111665</td>\n",
       "      <td>173610</td>\n",
       "      <td>297207</td>\n",
       "      <td>393004</td>\n",
       "      <td>496625</td>\n",
       "      <td>717462</td>\n",
       "      <td>703153</td>\n",
       "      <td>584664</td>\n",
       "      <td>448939</td>\n",
       "      <td>230598</td>\n",
       "      <td>149188</td>\n",
       "      <td>4422861</td>\n",
       "    </tr>\n",
       "    <tr>\n",
       "      <th>3</th>\n",
       "      <td>2018</td>\n",
       "      <td>129432</td>\n",
       "      <td>143321</td>\n",
       "      <td>170681</td>\n",
       "      <td>278349</td>\n",
       "      <td>385670</td>\n",
       "      <td>543690</td>\n",
       "      <td>504230</td>\n",
       "      <td>441867</td>\n",
       "      <td>524387</td>\n",
       "      <td>360776</td>\n",
       "      <td>215854</td>\n",
       "      <td>311179</td>\n",
       "      <td>4009436</td>\n",
       "    </tr>\n",
       "    <tr>\n",
       "      <th>4</th>\n",
       "      <td>2017</td>\n",
       "      <td>120025</td>\n",
       "      <td>119421</td>\n",
       "      <td>166793</td>\n",
       "      <td>302553</td>\n",
       "      <td>471844</td>\n",
       "      <td>565702</td>\n",
       "      <td>633351</td>\n",
       "      <td>615892</td>\n",
       "      <td>566279</td>\n",
       "      <td>429827</td>\n",
       "      <td>217927</td>\n",
       "      <td>127276</td>\n",
       "      <td>4336890</td>\n",
       "    </tr>\n",
       "  </tbody>\n",
       "</table>\n",
       "</div>"
      ],
      "text/plain": [
       "   Year     JAN     FEB     MAR     APR     MAY     JUN     JUL     AUG  \\\n",
       "0  2021   67284  128222  159906  257158  348006  429980  509874  432038   \n",
       "1  2020  132742  167778   92324       0       0  236534  501068  375226   \n",
       "2  2019  116746  111665  173610  297207  393004  496625  717462  703153   \n",
       "3  2018  129432  143321  170681  278349  385670  543690  504230  441867   \n",
       "4  2017  120025  119421  166793  302553  471844  565702  633351  615892   \n",
       "\n",
       "      SEP     OCT     NOV     DEC    Total  \n",
       "0  356030  284611  185213  129273  3287595  \n",
       "1  258561  249827  136799  117454  2268313  \n",
       "2  584664  448939  230598  149188  4422861  \n",
       "3  524387  360776  215854  311179  4009436  \n",
       "4  566279  429827  217927  127276  4336890  "
      ]
     },
     "execution_count": 167,
     "metadata": {},
     "output_type": "execute_result"
    }
   ],
   "source": [
    "# take a look at Yosemite NP dataset\n",
    "df_YOSE.head()"
   ]
  },
  {
   "cell_type": "code",
   "execution_count": 168,
   "metadata": {},
   "outputs": [
    {
     "data": {
      "text/plain": [
       "Year     int64\n",
       "JAN      int64\n",
       "FEB      int64\n",
       "MAR      int64\n",
       "APR      int64\n",
       "MAY      int64\n",
       "JUN      int64\n",
       "JUL      int64\n",
       "AUG      int64\n",
       "SEP      int64\n",
       "OCT      int64\n",
       "NOV      int64\n",
       "DEC      int64\n",
       "Total    int64\n",
       "dtype: object"
      ]
     },
     "execution_count": 168,
     "metadata": {},
     "output_type": "execute_result"
    }
   ],
   "source": [
    "# check that all columns are ints\n",
    "df_YOSE.dtypes"
   ]
  },
  {
   "cell_type": "code",
   "execution_count": 169,
   "metadata": {},
   "outputs": [
    {
     "data": {
      "text/html": [
       "<div>\n",
       "<style scoped>\n",
       "    .dataframe tbody tr th:only-of-type {\n",
       "        vertical-align: middle;\n",
       "    }\n",
       "\n",
       "    .dataframe tbody tr th {\n",
       "        vertical-align: top;\n",
       "    }\n",
       "\n",
       "    .dataframe thead th {\n",
       "        text-align: right;\n",
       "    }\n",
       "</style>\n",
       "<table border=\"1\" class=\"dataframe\">\n",
       "  <thead>\n",
       "    <tr style=\"text-align: right;\">\n",
       "      <th></th>\n",
       "      <th>Year</th>\n",
       "      <th>JAN</th>\n",
       "      <th>FEB</th>\n",
       "      <th>MAR</th>\n",
       "      <th>APR</th>\n",
       "      <th>MAY</th>\n",
       "      <th>JUN</th>\n",
       "      <th>JUL</th>\n",
       "      <th>AUG</th>\n",
       "      <th>SEP</th>\n",
       "      <th>OCT</th>\n",
       "      <th>NOV</th>\n",
       "      <th>DEC</th>\n",
       "      <th>Total</th>\n",
       "    </tr>\n",
       "  </thead>\n",
       "  <tbody>\n",
       "    <tr>\n",
       "      <th>0</th>\n",
       "      <td>2021</td>\n",
       "      <td>8026</td>\n",
       "      <td>7803</td>\n",
       "      <td>15312</td>\n",
       "      <td>25680</td>\n",
       "      <td>56746</td>\n",
       "      <td>95155</td>\n",
       "      <td>194712</td>\n",
       "      <td>106379</td>\n",
       "      <td>64152</td>\n",
       "      <td>47196</td>\n",
       "      <td>19410</td>\n",
       "      <td>7180</td>\n",
       "      <td>647751</td>\n",
       "    </tr>\n",
       "    <tr>\n",
       "      <th>1</th>\n",
       "      <td>2020</td>\n",
       "      <td>3492</td>\n",
       "      <td>3351</td>\n",
       "      <td>5304</td>\n",
       "      <td>686</td>\n",
       "      <td>814</td>\n",
       "      <td>59731</td>\n",
       "      <td>209678</td>\n",
       "      <td>222368</td>\n",
       "      <td>59093</td>\n",
       "      <td>61613</td>\n",
       "      <td>18270</td>\n",
       "      <td>26100</td>\n",
       "      <td>670500</td>\n",
       "    </tr>\n",
       "    <tr>\n",
       "      <th>2</th>\n",
       "      <td>2019</td>\n",
       "      <td>3120</td>\n",
       "      <td>2436</td>\n",
       "      <td>4800</td>\n",
       "      <td>15898</td>\n",
       "      <td>44808</td>\n",
       "      <td>103442</td>\n",
       "      <td>201191</td>\n",
       "      <td>163472</td>\n",
       "      <td>98266</td>\n",
       "      <td>41635</td>\n",
       "      <td>16843</td>\n",
       "      <td>8601</td>\n",
       "      <td>704512</td>\n",
       "    </tr>\n",
       "    <tr>\n",
       "      <th>3</th>\n",
       "      <td>2018</td>\n",
       "      <td>9220</td>\n",
       "      <td>8000</td>\n",
       "      <td>11143</td>\n",
       "      <td>19790</td>\n",
       "      <td>52298</td>\n",
       "      <td>110842</td>\n",
       "      <td>179570</td>\n",
       "      <td>134628</td>\n",
       "      <td>110911</td>\n",
       "      <td>58308</td>\n",
       "      <td>21309</td>\n",
       "      <td>4640</td>\n",
       "      <td>720659</td>\n",
       "    </tr>\n",
       "    <tr>\n",
       "      <th>4</th>\n",
       "      <td>2017</td>\n",
       "      <td>1935</td>\n",
       "      <td>1402</td>\n",
       "      <td>8716</td>\n",
       "      <td>15043</td>\n",
       "      <td>38145</td>\n",
       "      <td>136567</td>\n",
       "      <td>208237</td>\n",
       "      <td>157429</td>\n",
       "      <td>84340</td>\n",
       "      <td>41231</td>\n",
       "      <td>9687</td>\n",
       "      <td>9017</td>\n",
       "      <td>711749</td>\n",
       "    </tr>\n",
       "  </tbody>\n",
       "</table>\n",
       "</div>"
      ],
      "text/plain": [
       "   Year   JAN   FEB    MAR    APR    MAY     JUN     JUL     AUG     SEP  \\\n",
       "0  2021  8026  7803  15312  25680  56746   95155  194712  106379   64152   \n",
       "1  2020  3492  3351   5304    686    814   59731  209678  222368   59093   \n",
       "2  2019  3120  2436   4800  15898  44808  103442  201191  163472   98266   \n",
       "3  2018  9220  8000  11143  19790  52298  110842  179570  134628  110911   \n",
       "4  2017  1935  1402   8716  15043  38145  136567  208237  157429   84340   \n",
       "\n",
       "     OCT    NOV    DEC   Total  \n",
       "0  47196  19410   7180  647751  \n",
       "1  61613  18270  26100  670500  \n",
       "2  41635  16843   8601  704512  \n",
       "3  58308  21309   4640  720659  \n",
       "4  41231   9687   9017  711749  "
      ]
     },
     "execution_count": 169,
     "metadata": {},
     "output_type": "execute_result"
    }
   ],
   "source": [
    "# take a look at Crater Lake NP dataset\n",
    "df_CRLA.head()"
   ]
  },
  {
   "cell_type": "code",
   "execution_count": 170,
   "metadata": {},
   "outputs": [
    {
     "data": {
      "text/plain": [
       "Year     int64\n",
       "JAN      int64\n",
       "FEB      int64\n",
       "MAR      int64\n",
       "APR      int64\n",
       "MAY      int64\n",
       "JUN      int64\n",
       "JUL      int64\n",
       "AUG      int64\n",
       "SEP      int64\n",
       "OCT      int64\n",
       "NOV      int64\n",
       "DEC      int64\n",
       "Total    int64\n",
       "dtype: object"
      ]
     },
     "execution_count": 170,
     "metadata": {},
     "output_type": "execute_result"
    }
   ],
   "source": [
    "# check that all columns are ints\n",
    "df_CRLA.dtypes"
   ]
  },
  {
   "cell_type": "code",
   "execution_count": 171,
   "metadata": {},
   "outputs": [
    {
     "data": {
      "text/html": [
       "<div>\n",
       "<style scoped>\n",
       "    .dataframe tbody tr th:only-of-type {\n",
       "        vertical-align: middle;\n",
       "    }\n",
       "\n",
       "    .dataframe tbody tr th {\n",
       "        vertical-align: top;\n",
       "    }\n",
       "\n",
       "    .dataframe thead th {\n",
       "        text-align: right;\n",
       "    }\n",
       "</style>\n",
       "<table border=\"1\" class=\"dataframe\">\n",
       "  <thead>\n",
       "    <tr style=\"text-align: right;\">\n",
       "      <th></th>\n",
       "      <th>Year</th>\n",
       "      <th>JAN</th>\n",
       "      <th>FEB</th>\n",
       "      <th>MAR</th>\n",
       "      <th>APR</th>\n",
       "      <th>MAY</th>\n",
       "      <th>JUN</th>\n",
       "      <th>JUL</th>\n",
       "      <th>AUG</th>\n",
       "      <th>SEP</th>\n",
       "      <th>OCT</th>\n",
       "      <th>NOV</th>\n",
       "      <th>DEC</th>\n",
       "      <th>Total</th>\n",
       "    </tr>\n",
       "  </thead>\n",
       "  <tbody>\n",
       "    <tr>\n",
       "      <th>0</th>\n",
       "      <td>2021</td>\n",
       "      <td>26793</td>\n",
       "      <td>31316</td>\n",
       "      <td>38402</td>\n",
       "      <td>39597</td>\n",
       "      <td>40064</td>\n",
       "      <td>37029</td>\n",
       "      <td>29502</td>\n",
       "      <td>18765</td>\n",
       "      <td>21721</td>\n",
       "      <td>23448</td>\n",
       "      <td>23187</td>\n",
       "      <td>19033</td>\n",
       "      <td>348857</td>\n",
       "    </tr>\n",
       "    <tr>\n",
       "      <th>1</th>\n",
       "      <td>2020</td>\n",
       "      <td>23959</td>\n",
       "      <td>22021</td>\n",
       "      <td>18537</td>\n",
       "      <td>1635</td>\n",
       "      <td>4640</td>\n",
       "      <td>10364</td>\n",
       "      <td>10508</td>\n",
       "      <td>8526</td>\n",
       "      <td>5850</td>\n",
       "      <td>15722</td>\n",
       "      <td>23139</td>\n",
       "      <td>20839</td>\n",
       "      <td>165740</td>\n",
       "    </tr>\n",
       "    <tr>\n",
       "      <th>2</th>\n",
       "      <td>2019</td>\n",
       "      <td>1154</td>\n",
       "      <td>11735</td>\n",
       "      <td>24681</td>\n",
       "      <td>16234</td>\n",
       "      <td>19398</td>\n",
       "      <td>19061</td>\n",
       "      <td>13016</td>\n",
       "      <td>16795</td>\n",
       "      <td>14165</td>\n",
       "      <td>14084</td>\n",
       "      <td>14786</td>\n",
       "      <td>12115</td>\n",
       "      <td>177224</td>\n",
       "    </tr>\n",
       "    <tr>\n",
       "      <th>3</th>\n",
       "      <td>2018</td>\n",
       "      <td>15909</td>\n",
       "      <td>18793</td>\n",
       "      <td>22351</td>\n",
       "      <td>25902</td>\n",
       "      <td>24843</td>\n",
       "      <td>27164</td>\n",
       "      <td>12797</td>\n",
       "      <td>15122</td>\n",
       "      <td>13192</td>\n",
       "      <td>13799</td>\n",
       "      <td>15851</td>\n",
       "      <td>16429</td>\n",
       "      <td>222152</td>\n",
       "    </tr>\n",
       "    <tr>\n",
       "      <th>4</th>\n",
       "      <td>2017</td>\n",
       "      <td>12696</td>\n",
       "      <td>13476</td>\n",
       "      <td>28618</td>\n",
       "      <td>34773</td>\n",
       "      <td>24776</td>\n",
       "      <td>20556</td>\n",
       "      <td>20705</td>\n",
       "      <td>15826</td>\n",
       "      <td>12781</td>\n",
       "      <td>15829</td>\n",
       "      <td>15473</td>\n",
       "      <td>17825</td>\n",
       "      <td>233334</td>\n",
       "    </tr>\n",
       "  </tbody>\n",
       "</table>\n",
       "</div>"
      ],
      "text/plain": [
       "   Year    JAN    FEB    MAR    APR    MAY    JUN    JUL    AUG    SEP    OCT  \\\n",
       "0  2021  26793  31316  38402  39597  40064  37029  29502  18765  21721  23448   \n",
       "1  2020  23959  22021  18537   1635   4640  10364  10508   8526   5850  15722   \n",
       "2  2019   1154  11735  24681  16234  19398  19061  13016  16795  14165  14084   \n",
       "3  2018  15909  18793  22351  25902  24843  27164  12797  15122  13192  13799   \n",
       "4  2017  12696  13476  28618  34773  24776  20556  20705  15826  12781  15829   \n",
       "\n",
       "     NOV    DEC   Total  \n",
       "0  23187  19033  348857  \n",
       "1  23139  20839  165740  \n",
       "2  14786  12115  177224  \n",
       "3  15851  16429  222152  \n",
       "4  15473  17825  233334  "
      ]
     },
     "execution_count": 171,
     "metadata": {},
     "output_type": "execute_result"
    }
   ],
   "source": [
    "# take a look at Pinnacles NP dataset\n",
    "df_PINN.head()"
   ]
  },
  {
   "cell_type": "code",
   "execution_count": 172,
   "metadata": {},
   "outputs": [
    {
     "data": {
      "text/plain": [
       "Year     int64\n",
       "JAN      int64\n",
       "FEB      int64\n",
       "MAR      int64\n",
       "APR      int64\n",
       "MAY      int64\n",
       "JUN      int64\n",
       "JUL      int64\n",
       "AUG      int64\n",
       "SEP      int64\n",
       "OCT      int64\n",
       "NOV      int64\n",
       "DEC      int64\n",
       "Total    int64\n",
       "dtype: object"
      ]
     },
     "execution_count": 172,
     "metadata": {},
     "output_type": "execute_result"
    }
   ],
   "source": [
    "# check that all columns are ints\n",
    "df_PINN.dtypes"
   ]
  },
  {
   "cell_type": "markdown",
   "metadata": {},
   "source": [
    "To observe average yearly visitation rates of NPs of our choice, we extract data from years before and including the COVID-19 pandemic (2012-2021). \n",
    "\n",
    "We will later compare earlier data (2012-2019) to pandemic rates (2020-2021) to determine whether there was a visitation drop between these two time periods."
   ]
  },
  {
   "cell_type": "code",
   "execution_count": 173,
   "metadata": {},
   "outputs": [
    {
     "data": {
      "text/plain": [
       "array([2021, 2020, 2019, 2018, 2017, 2016, 2015, 2014, 2013, 2012],\n",
       "      dtype=int64)"
      ]
     },
     "execution_count": 173,
     "metadata": {},
     "output_type": "execute_result"
    }
   ],
   "source": [
    "# filter out data before 2012\n",
    "df_GRCA_12_21 = df_GRCA.loc[(df_GRCA['Year'] >= 2012)]\n",
    "df_MEVE_12_21 = df_MEVE.loc[(df_MEVE['Year'] >= 2012)]\n",
    "df_GUMO_12_21 = df_GUMO.loc[(df_GUMO['Year'] >= 2012)]\n",
    "df_YOSE_12_21 = df_YOSE.loc[(df_YOSE['Year'] >= 2012)]\n",
    "df_CRLA_12_21 = df_CRLA.loc[(df_CRLA['Year'] >= 2012)]\n",
    "df_PINN_12_21 = df_PINN.loc[(df_PINN['Year'] >= 2012)]\n",
    "\n",
    "# check that the stored dataset contains only 2012-2021 data\n",
    "df_GRCA_12_21['Year'].unique()"
   ]
  },
  {
   "cell_type": "markdown",
   "metadata": {},
   "source": [
    "The way in which this data is organized is not ideal for later graphing, so we move it around."
   ]
  },
  {
   "cell_type": "code",
   "execution_count": 174,
   "metadata": {},
   "outputs": [
    {
     "data": {
      "text/html": [
       "<div>\n",
       "<style scoped>\n",
       "    .dataframe tbody tr th:only-of-type {\n",
       "        vertical-align: middle;\n",
       "    }\n",
       "\n",
       "    .dataframe tbody tr th {\n",
       "        vertical-align: top;\n",
       "    }\n",
       "\n",
       "    .dataframe thead th {\n",
       "        text-align: right;\n",
       "    }\n",
       "</style>\n",
       "<table border=\"1\" class=\"dataframe\">\n",
       "  <thead>\n",
       "    <tr style=\"text-align: right;\">\n",
       "      <th></th>\n",
       "      <th>Year</th>\n",
       "      <th>JAN</th>\n",
       "      <th>FEB</th>\n",
       "      <th>MAR</th>\n",
       "      <th>APR</th>\n",
       "      <th>MAY</th>\n",
       "      <th>JUN</th>\n",
       "      <th>JUL</th>\n",
       "      <th>AUG</th>\n",
       "      <th>SEP</th>\n",
       "      <th>OCT</th>\n",
       "      <th>NOV</th>\n",
       "      <th>DEC</th>\n",
       "      <th>Total</th>\n",
       "    </tr>\n",
       "  </thead>\n",
       "  <tbody>\n",
       "    <tr>\n",
       "      <th>0</th>\n",
       "      <td>2021</td>\n",
       "      <td>164922</td>\n",
       "      <td>161428</td>\n",
       "      <td>317054</td>\n",
       "      <td>421232</td>\n",
       "      <td>484442</td>\n",
       "      <td>538530</td>\n",
       "      <td>556766</td>\n",
       "      <td>430684</td>\n",
       "      <td>399321</td>\n",
       "      <td>430734</td>\n",
       "      <td>346971</td>\n",
       "      <td>280593</td>\n",
       "      <td>4532677</td>\n",
       "    </tr>\n",
       "    <tr>\n",
       "      <th>1</th>\n",
       "      <td>2020</td>\n",
       "      <td>246460</td>\n",
       "      <td>252897</td>\n",
       "      <td>276002</td>\n",
       "      <td>0</td>\n",
       "      <td>43397</td>\n",
       "      <td>232267</td>\n",
       "      <td>350003</td>\n",
       "      <td>303900</td>\n",
       "      <td>249010</td>\n",
       "      <td>421568</td>\n",
       "      <td>275764</td>\n",
       "      <td>245830</td>\n",
       "      <td>2897098</td>\n",
       "    </tr>\n",
       "    <tr>\n",
       "      <th>2</th>\n",
       "      <td>2019</td>\n",
       "      <td>225056</td>\n",
       "      <td>213050</td>\n",
       "      <td>451228</td>\n",
       "      <td>562265</td>\n",
       "      <td>618598</td>\n",
       "      <td>643821</td>\n",
       "      <td>756860</td>\n",
       "      <td>700896</td>\n",
       "      <td>578852</td>\n",
       "      <td>551558</td>\n",
       "      <td>347847</td>\n",
       "      <td>324380</td>\n",
       "      <td>5974411</td>\n",
       "    </tr>\n",
       "    <tr>\n",
       "      <th>3</th>\n",
       "      <td>2018</td>\n",
       "      <td>257366</td>\n",
       "      <td>265949</td>\n",
       "      <td>503284</td>\n",
       "      <td>549416</td>\n",
       "      <td>637703</td>\n",
       "      <td>673474</td>\n",
       "      <td>799765</td>\n",
       "      <td>744826</td>\n",
       "      <td>615783</td>\n",
       "      <td>555094</td>\n",
       "      <td>408794</td>\n",
       "      <td>369041</td>\n",
       "      <td>6380495</td>\n",
       "    </tr>\n",
       "    <tr>\n",
       "      <th>4</th>\n",
       "      <td>2017</td>\n",
       "      <td>217102</td>\n",
       "      <td>239154</td>\n",
       "      <td>502739</td>\n",
       "      <td>590006</td>\n",
       "      <td>606247</td>\n",
       "      <td>726916</td>\n",
       "      <td>837258</td>\n",
       "      <td>745613</td>\n",
       "      <td>571946</td>\n",
       "      <td>529825</td>\n",
       "      <td>349326</td>\n",
       "      <td>338106</td>\n",
       "      <td>6254238</td>\n",
       "    </tr>\n",
       "  </tbody>\n",
       "</table>\n",
       "</div>"
      ],
      "text/plain": [
       "   Year     JAN     FEB     MAR     APR     MAY     JUN     JUL     AUG  \\\n",
       "0  2021  164922  161428  317054  421232  484442  538530  556766  430684   \n",
       "1  2020  246460  252897  276002       0   43397  232267  350003  303900   \n",
       "2  2019  225056  213050  451228  562265  618598  643821  756860  700896   \n",
       "3  2018  257366  265949  503284  549416  637703  673474  799765  744826   \n",
       "4  2017  217102  239154  502739  590006  606247  726916  837258  745613   \n",
       "\n",
       "      SEP     OCT     NOV     DEC    Total  \n",
       "0  399321  430734  346971  280593  4532677  \n",
       "1  249010  421568  275764  245830  2897098  \n",
       "2  578852  551558  347847  324380  5974411  \n",
       "3  615783  555094  408794  369041  6380495  \n",
       "4  571946  529825  349326  338106  6254238  "
      ]
     },
     "execution_count": 174,
     "metadata": {},
     "output_type": "execute_result"
    }
   ],
   "source": [
    "# before:\n",
    "df_GRCA_12_21.head()"
   ]
  },
  {
   "cell_type": "code",
   "execution_count": 175,
   "metadata": {},
   "outputs": [],
   "source": [
    "months = ['JAN', 'FEB', 'MAR', 'APR', 'MAY', 'JUN', 'JUL', 'AUG', 'SEP', 'OCT', 'NOV', 'DEC']\n",
    "years = [9,8,7,6,5,4,3,2,1,0]\n",
    "\n",
    "def monthly(dframe, NP_name):\n",
    "\n",
    "    # create an empty dataframe with necessary column names\n",
    "    new_dframe = pd.DataFrame(columns=('Year', 'Month', NP_name + '_Visitation'))\n",
    "\n",
    "    # insert list items and data into the columns\n",
    "    for year in years:\n",
    "        for month in months:\n",
    "            visit_int = dframe.iloc[year][month]\n",
    "            new_dframe.loc[len(new_dframe.index)] = [year, month.title(), visit_int]\n",
    "\n",
    "    # rename the column values to years\n",
    "    # and create a new column that contains year and month data\n",
    "    new_dframe['Year'].replace({9: '2012', 8: '2013', 7: '2014', 6: '2015', 5: '2016', 4: '2017', 3: '2018', 2: '2019', 1: '2020', 0:'2021'}, inplace=True)\n",
    "    new_dframe[\"Year-Month\"] = new_dframe[\"Year\"] + '-' + new_dframe[\"Month\"]\n",
    "\n",
    "    # store the created columns into an empty dataframe\n",
    "    new_dframe = new_dframe[['Year-Month', 'Year', 'Month', NP_name + '_Visitation']]\n",
    "    \n",
    "    return new_dframe\n",
    "\n",
    "# reorganize data by year and month\n",
    "df_GRCA_month = monthly(df_GRCA_12_21, 'GRCA')\n",
    "df_MEVE_month = monthly(df_MEVE_12_21, 'MEVE')\n",
    "df_GUMO_month = monthly(df_GUMO_12_21, 'GUMO')\n",
    "df_YOSE_month = monthly(df_YOSE_12_21, 'YOSE')\n",
    "df_CRLA_month = monthly(df_CRLA_12_21, 'CRLA')\n",
    "df_PINN_month = monthly(df_PINN_12_21, 'PINN')"
   ]
  },
  {
   "cell_type": "code",
   "execution_count": 176,
   "metadata": {},
   "outputs": [
    {
     "data": {
      "text/html": [
       "<div>\n",
       "<style scoped>\n",
       "    .dataframe tbody tr th:only-of-type {\n",
       "        vertical-align: middle;\n",
       "    }\n",
       "\n",
       "    .dataframe tbody tr th {\n",
       "        vertical-align: top;\n",
       "    }\n",
       "\n",
       "    .dataframe thead th {\n",
       "        text-align: right;\n",
       "    }\n",
       "</style>\n",
       "<table border=\"1\" class=\"dataframe\">\n",
       "  <thead>\n",
       "    <tr style=\"text-align: right;\">\n",
       "      <th></th>\n",
       "      <th>Year-Month</th>\n",
       "      <th>Year</th>\n",
       "      <th>Month</th>\n",
       "      <th>GRCA_Visitation</th>\n",
       "    </tr>\n",
       "  </thead>\n",
       "  <tbody>\n",
       "    <tr>\n",
       "      <th>0</th>\n",
       "      <td>2012-Jan</td>\n",
       "      <td>2012</td>\n",
       "      <td>Jan</td>\n",
       "      <td>141357</td>\n",
       "    </tr>\n",
       "    <tr>\n",
       "      <th>1</th>\n",
       "      <td>2012-Feb</td>\n",
       "      <td>2012</td>\n",
       "      <td>Feb</td>\n",
       "      <td>141305</td>\n",
       "    </tr>\n",
       "    <tr>\n",
       "      <th>2</th>\n",
       "      <td>2012-Mar</td>\n",
       "      <td>2012</td>\n",
       "      <td>Mar</td>\n",
       "      <td>291120</td>\n",
       "    </tr>\n",
       "    <tr>\n",
       "      <th>3</th>\n",
       "      <td>2012-Apr</td>\n",
       "      <td>2012</td>\n",
       "      <td>Apr</td>\n",
       "      <td>389777</td>\n",
       "    </tr>\n",
       "    <tr>\n",
       "      <th>4</th>\n",
       "      <td>2012-May</td>\n",
       "      <td>2012</td>\n",
       "      <td>May</td>\n",
       "      <td>416363</td>\n",
       "    </tr>\n",
       "  </tbody>\n",
       "</table>\n",
       "</div>"
      ],
      "text/plain": [
       "  Year-Month  Year Month  GRCA_Visitation\n",
       "0   2012-Jan  2012   Jan           141357\n",
       "1   2012-Feb  2012   Feb           141305\n",
       "2   2012-Mar  2012   Mar           291120\n",
       "3   2012-Apr  2012   Apr           389777\n",
       "4   2012-May  2012   May           416363"
      ]
     },
     "execution_count": 176,
     "metadata": {},
     "output_type": "execute_result"
    }
   ],
   "source": [
    "# after:\n",
    "df_GRCA_month.head()"
   ]
  },
  {
   "cell_type": "markdown",
   "metadata": {},
   "source": [
    "We can split this data into (2012-2019) and (2020-2021) for our convenience."
   ]
  },
  {
   "cell_type": "code",
   "execution_count": 177,
   "metadata": {},
   "outputs": [],
   "source": [
    "# filter out data before 2012 and after 2019\n",
    "# dates are INCLUSIVE\n",
    "def filter(dframe, start_date, end_date):\n",
    "\n",
    "    after_start_date = dframe['Year'] >= start_date\n",
    "    before_end_date = dframe['Year'] <= end_date\n",
    "    between_two_dates = after_start_date & before_end_date\n",
    "    new_dframe = dframe.loc[between_two_dates]\n",
    "\n",
    "    return new_dframe\n",
    "\n",
    "# filter out data before 2012 and after 2019\n",
    "df_GRCA_12_19 = filter(df_GRCA_month, '2012', '2019')\n",
    "df_MEVE_12_19 = filter(df_MEVE_month, '2012', '2019')\n",
    "df_GUMO_12_19 = filter(df_GUMO_month, '2012', '2019')\n",
    "df_YOSE_12_19 = filter(df_YOSE_month, '2012', '2019')\n",
    "df_CRLA_12_19 = filter(df_CRLA_month, '2012', '2019')\n",
    "df_PINN_12_19 = filter(df_PINN_month, '2012', '2019')\n",
    "\n",
    "# filter out data before 2020\n",
    "df_GRCA_20_21 = filter(df_GRCA_month, '2020', '2021').reset_index().drop(columns='index')\n",
    "df_MEVE_20_21 = filter(df_MEVE_month, '2020', '2021').reset_index().drop(columns='index')\n",
    "df_GUMO_20_21 = filter(df_GUMO_month, '2020', '2021').reset_index().drop(columns='index')\n",
    "df_YOSE_20_21 = filter(df_YOSE_month, '2020', '2021').reset_index().drop(columns='index')\n",
    "df_CRLA_20_21 = filter(df_CRLA_month, '2020', '2021').reset_index().drop(columns='index')\n",
    "df_PINN_20_21 = filter(df_PINN_month, '2020', '2021').reset_index().drop(columns='index')"
   ]
  },
  {
   "cell_type": "code",
   "execution_count": 178,
   "metadata": {},
   "outputs": [
    {
     "data": {
      "text/html": [
       "<div>\n",
       "<style scoped>\n",
       "    .dataframe tbody tr th:only-of-type {\n",
       "        vertical-align: middle;\n",
       "    }\n",
       "\n",
       "    .dataframe tbody tr th {\n",
       "        vertical-align: top;\n",
       "    }\n",
       "\n",
       "    .dataframe thead th {\n",
       "        text-align: right;\n",
       "    }\n",
       "</style>\n",
       "<table border=\"1\" class=\"dataframe\">\n",
       "  <thead>\n",
       "    <tr style=\"text-align: right;\">\n",
       "      <th></th>\n",
       "      <th>Year-Month</th>\n",
       "      <th>Year</th>\n",
       "      <th>Month</th>\n",
       "      <th>GRCA_Visitation</th>\n",
       "    </tr>\n",
       "  </thead>\n",
       "  <tbody>\n",
       "    <tr>\n",
       "      <th>0</th>\n",
       "      <td>2012-Jan</td>\n",
       "      <td>2012</td>\n",
       "      <td>Jan</td>\n",
       "      <td>141357</td>\n",
       "    </tr>\n",
       "    <tr>\n",
       "      <th>1</th>\n",
       "      <td>2012-Feb</td>\n",
       "      <td>2012</td>\n",
       "      <td>Feb</td>\n",
       "      <td>141305</td>\n",
       "    </tr>\n",
       "    <tr>\n",
       "      <th>2</th>\n",
       "      <td>2012-Mar</td>\n",
       "      <td>2012</td>\n",
       "      <td>Mar</td>\n",
       "      <td>291120</td>\n",
       "    </tr>\n",
       "    <tr>\n",
       "      <th>3</th>\n",
       "      <td>2012-Apr</td>\n",
       "      <td>2012</td>\n",
       "      <td>Apr</td>\n",
       "      <td>389777</td>\n",
       "    </tr>\n",
       "    <tr>\n",
       "      <th>4</th>\n",
       "      <td>2012-May</td>\n",
       "      <td>2012</td>\n",
       "      <td>May</td>\n",
       "      <td>416363</td>\n",
       "    </tr>\n",
       "  </tbody>\n",
       "</table>\n",
       "</div>"
      ],
      "text/plain": [
       "  Year-Month  Year Month  GRCA_Visitation\n",
       "0   2012-Jan  2012   Jan           141357\n",
       "1   2012-Feb  2012   Feb           141305\n",
       "2   2012-Mar  2012   Mar           291120\n",
       "3   2012-Apr  2012   Apr           389777\n",
       "4   2012-May  2012   May           416363"
      ]
     },
     "execution_count": 178,
     "metadata": {},
     "output_type": "execute_result"
    }
   ],
   "source": [
    "# check out 2012-2019 data\n",
    "df_GRCA_12_19.head()"
   ]
  },
  {
   "cell_type": "code",
   "execution_count": 179,
   "metadata": {},
   "outputs": [
    {
     "data": {
      "text/html": [
       "<div>\n",
       "<style scoped>\n",
       "    .dataframe tbody tr th:only-of-type {\n",
       "        vertical-align: middle;\n",
       "    }\n",
       "\n",
       "    .dataframe tbody tr th {\n",
       "        vertical-align: top;\n",
       "    }\n",
       "\n",
       "    .dataframe thead th {\n",
       "        text-align: right;\n",
       "    }\n",
       "</style>\n",
       "<table border=\"1\" class=\"dataframe\">\n",
       "  <thead>\n",
       "    <tr style=\"text-align: right;\">\n",
       "      <th></th>\n",
       "      <th>Year-Month</th>\n",
       "      <th>Year</th>\n",
       "      <th>Month</th>\n",
       "      <th>GRCA_Visitation</th>\n",
       "    </tr>\n",
       "  </thead>\n",
       "  <tbody>\n",
       "    <tr>\n",
       "      <th>0</th>\n",
       "      <td>2020-Jan</td>\n",
       "      <td>2020</td>\n",
       "      <td>Jan</td>\n",
       "      <td>246460</td>\n",
       "    </tr>\n",
       "    <tr>\n",
       "      <th>1</th>\n",
       "      <td>2020-Feb</td>\n",
       "      <td>2020</td>\n",
       "      <td>Feb</td>\n",
       "      <td>252897</td>\n",
       "    </tr>\n",
       "    <tr>\n",
       "      <th>2</th>\n",
       "      <td>2020-Mar</td>\n",
       "      <td>2020</td>\n",
       "      <td>Mar</td>\n",
       "      <td>276002</td>\n",
       "    </tr>\n",
       "    <tr>\n",
       "      <th>3</th>\n",
       "      <td>2020-Apr</td>\n",
       "      <td>2020</td>\n",
       "      <td>Apr</td>\n",
       "      <td>0</td>\n",
       "    </tr>\n",
       "    <tr>\n",
       "      <th>4</th>\n",
       "      <td>2020-May</td>\n",
       "      <td>2020</td>\n",
       "      <td>May</td>\n",
       "      <td>43397</td>\n",
       "    </tr>\n",
       "  </tbody>\n",
       "</table>\n",
       "</div>"
      ],
      "text/plain": [
       "  Year-Month  Year Month  GRCA_Visitation\n",
       "0   2020-Jan  2020   Jan           246460\n",
       "1   2020-Feb  2020   Feb           252897\n",
       "2   2020-Mar  2020   Mar           276002\n",
       "3   2020-Apr  2020   Apr                0\n",
       "4   2020-May  2020   May            43397"
      ]
     },
     "execution_count": 179,
     "metadata": {},
     "output_type": "execute_result"
    }
   ],
   "source": [
    "# check out 2020-2021 data\n",
    "df_GRCA_20_21.head()"
   ]
  },
  {
   "cell_type": "markdown",
   "metadata": {},
   "source": [
    "Since the dataframes already contain a column with the total year data, we calculate the yearly averages of NP visitation rates by dividing the total monthly visitation count by 12 months, and store this data into new dataframes."
   ]
  },
  {
   "cell_type": "code",
   "execution_count": 180,
   "metadata": {},
   "outputs": [],
   "source": [
    "NPs = ['GRCA', 'MEVE', 'GUMO', 'YOSE', 'CRLA', 'PINN']\n",
    "\n",
    "def yearly_avg(dframe, NP_name):\n",
    "    \n",
    "    # create a new dataframe with selected columns\n",
    "    dframe = dframe.loc[:, ['Year', 'Total']]\n",
    "    \n",
    "    # divide the yearly average visitation numbers by the number of months in an year\n",
    "    dframe['Total'] = dframe['Total'] / 12\n",
    "    \n",
    "    # rename the columns for easier readibility, drop index column, and reset index\n",
    "    dframe = dframe.rename(columns={'Total': NP_name + '_Yearly_Average_Visitation_Numbers'}).reset_index().drop(labels='index', axis=1)\n",
    "    \n",
    "    return dframe\n",
    "\n",
    "# calculate the yearly averages of NP visitation numbers\n",
    "df_GRCA_avg = yearly_avg(df_GRCA_12_21, NPs[0])\n",
    "df_MEVE_avg = yearly_avg(df_MEVE_12_21, NPs[1])\n",
    "df_GUMO_avg = yearly_avg(df_GUMO_12_21, NPs[2])\n",
    "df_YOSE_avg = yearly_avg(df_YOSE_12_21, NPs[3])\n",
    "df_CRLA_avg = yearly_avg(df_CRLA_12_21, NPs[4])\n",
    "df_PINN_avg = yearly_avg(df_PINN_12_21, NPs[5])"
   ]
  },
  {
   "cell_type": "code",
   "execution_count": 181,
   "metadata": {},
   "outputs": [
    {
     "data": {
      "text/html": [
       "<div>\n",
       "<style scoped>\n",
       "    .dataframe tbody tr th:only-of-type {\n",
       "        vertical-align: middle;\n",
       "    }\n",
       "\n",
       "    .dataframe tbody tr th {\n",
       "        vertical-align: top;\n",
       "    }\n",
       "\n",
       "    .dataframe thead th {\n",
       "        text-align: right;\n",
       "    }\n",
       "</style>\n",
       "<table border=\"1\" class=\"dataframe\">\n",
       "  <thead>\n",
       "    <tr style=\"text-align: right;\">\n",
       "      <th></th>\n",
       "      <th>Year</th>\n",
       "      <th>GRCA_Yearly_Average_Visitation_Numbers</th>\n",
       "    </tr>\n",
       "  </thead>\n",
       "  <tbody>\n",
       "    <tr>\n",
       "      <th>0</th>\n",
       "      <td>2021</td>\n",
       "      <td>377723.083333</td>\n",
       "    </tr>\n",
       "    <tr>\n",
       "      <th>1</th>\n",
       "      <td>2020</td>\n",
       "      <td>241424.833333</td>\n",
       "    </tr>\n",
       "    <tr>\n",
       "      <th>2</th>\n",
       "      <td>2019</td>\n",
       "      <td>497867.583333</td>\n",
       "    </tr>\n",
       "    <tr>\n",
       "      <th>3</th>\n",
       "      <td>2018</td>\n",
       "      <td>531707.916667</td>\n",
       "    </tr>\n",
       "    <tr>\n",
       "      <th>4</th>\n",
       "      <td>2017</td>\n",
       "      <td>521186.500000</td>\n",
       "    </tr>\n",
       "  </tbody>\n",
       "</table>\n",
       "</div>"
      ],
      "text/plain": [
       "   Year  GRCA_Yearly_Average_Visitation_Numbers\n",
       "0  2021                           377723.083333\n",
       "1  2020                           241424.833333\n",
       "2  2019                           497867.583333\n",
       "3  2018                           531707.916667\n",
       "4  2017                           521186.500000"
      ]
     },
     "execution_count": 181,
     "metadata": {},
     "output_type": "execute_result"
    }
   ],
   "source": [
    "# check out yearly average visitation numbers of Grand Canyon NP\n",
    "df_GRCA_avg.head()"
   ]
  },
  {
   "cell_type": "code",
   "execution_count": 182,
   "metadata": {},
   "outputs": [
    {
     "data": {
      "text/html": [
       "<div>\n",
       "<style scoped>\n",
       "    .dataframe tbody tr th:only-of-type {\n",
       "        vertical-align: middle;\n",
       "    }\n",
       "\n",
       "    .dataframe tbody tr th {\n",
       "        vertical-align: top;\n",
       "    }\n",
       "\n",
       "    .dataframe thead th {\n",
       "        text-align: right;\n",
       "    }\n",
       "</style>\n",
       "<table border=\"1\" class=\"dataframe\">\n",
       "  <thead>\n",
       "    <tr style=\"text-align: right;\">\n",
       "      <th></th>\n",
       "      <th>Year</th>\n",
       "      <th>MEVE_Yearly_Average_Visitation_Numbers</th>\n",
       "    </tr>\n",
       "  </thead>\n",
       "  <tbody>\n",
       "    <tr>\n",
       "      <th>0</th>\n",
       "      <td>2021</td>\n",
       "      <td>45706.416667</td>\n",
       "    </tr>\n",
       "    <tr>\n",
       "      <th>1</th>\n",
       "      <td>2020</td>\n",
       "      <td>23956.416667</td>\n",
       "    </tr>\n",
       "    <tr>\n",
       "      <th>2</th>\n",
       "      <td>2019</td>\n",
       "      <td>46350.250000</td>\n",
       "    </tr>\n",
       "    <tr>\n",
       "      <th>3</th>\n",
       "      <td>2018</td>\n",
       "      <td>46951.666667</td>\n",
       "    </tr>\n",
       "    <tr>\n",
       "      <th>4</th>\n",
       "      <td>2017</td>\n",
       "      <td>51149.000000</td>\n",
       "    </tr>\n",
       "  </tbody>\n",
       "</table>\n",
       "</div>"
      ],
      "text/plain": [
       "   Year  MEVE_Yearly_Average_Visitation_Numbers\n",
       "0  2021                            45706.416667\n",
       "1  2020                            23956.416667\n",
       "2  2019                            46350.250000\n",
       "3  2018                            46951.666667\n",
       "4  2017                            51149.000000"
      ]
     },
     "execution_count": 182,
     "metadata": {},
     "output_type": "execute_result"
    }
   ],
   "source": [
    "# check out yearly average visitation numbers of Mesa Verde NP\n",
    "df_MEVE_avg.head()"
   ]
  },
  {
   "cell_type": "code",
   "execution_count": 183,
   "metadata": {},
   "outputs": [
    {
     "data": {
      "text/html": [
       "<div>\n",
       "<style scoped>\n",
       "    .dataframe tbody tr th:only-of-type {\n",
       "        vertical-align: middle;\n",
       "    }\n",
       "\n",
       "    .dataframe tbody tr th {\n",
       "        vertical-align: top;\n",
       "    }\n",
       "\n",
       "    .dataframe thead th {\n",
       "        text-align: right;\n",
       "    }\n",
       "</style>\n",
       "<table border=\"1\" class=\"dataframe\">\n",
       "  <thead>\n",
       "    <tr style=\"text-align: right;\">\n",
       "      <th></th>\n",
       "      <th>Year</th>\n",
       "      <th>GUMO_Yearly_Average_Visitation_Numbers</th>\n",
       "    </tr>\n",
       "  </thead>\n",
       "  <tbody>\n",
       "    <tr>\n",
       "      <th>0</th>\n",
       "      <td>2021</td>\n",
       "      <td>20274.250000</td>\n",
       "    </tr>\n",
       "    <tr>\n",
       "      <th>1</th>\n",
       "      <td>2020</td>\n",
       "      <td>12604.666667</td>\n",
       "    </tr>\n",
       "    <tr>\n",
       "      <th>2</th>\n",
       "      <td>2019</td>\n",
       "      <td>15736.083333</td>\n",
       "    </tr>\n",
       "    <tr>\n",
       "      <th>3</th>\n",
       "      <td>2018</td>\n",
       "      <td>14362.250000</td>\n",
       "    </tr>\n",
       "    <tr>\n",
       "      <th>4</th>\n",
       "      <td>2017</td>\n",
       "      <td>18771.416667</td>\n",
       "    </tr>\n",
       "  </tbody>\n",
       "</table>\n",
       "</div>"
      ],
      "text/plain": [
       "   Year  GUMO_Yearly_Average_Visitation_Numbers\n",
       "0  2021                            20274.250000\n",
       "1  2020                            12604.666667\n",
       "2  2019                            15736.083333\n",
       "3  2018                            14362.250000\n",
       "4  2017                            18771.416667"
      ]
     },
     "execution_count": 183,
     "metadata": {},
     "output_type": "execute_result"
    }
   ],
   "source": [
    "# check out yearly average visitation numbers of Guadalupe Mountains NP\n",
    "df_GUMO_avg.head()"
   ]
  },
  {
   "cell_type": "code",
   "execution_count": 184,
   "metadata": {},
   "outputs": [
    {
     "data": {
      "text/html": [
       "<div>\n",
       "<style scoped>\n",
       "    .dataframe tbody tr th:only-of-type {\n",
       "        vertical-align: middle;\n",
       "    }\n",
       "\n",
       "    .dataframe tbody tr th {\n",
       "        vertical-align: top;\n",
       "    }\n",
       "\n",
       "    .dataframe thead th {\n",
       "        text-align: right;\n",
       "    }\n",
       "</style>\n",
       "<table border=\"1\" class=\"dataframe\">\n",
       "  <thead>\n",
       "    <tr style=\"text-align: right;\">\n",
       "      <th></th>\n",
       "      <th>Year</th>\n",
       "      <th>YOSE_Yearly_Average_Visitation_Numbers</th>\n",
       "    </tr>\n",
       "  </thead>\n",
       "  <tbody>\n",
       "    <tr>\n",
       "      <th>0</th>\n",
       "      <td>2021</td>\n",
       "      <td>273966.250000</td>\n",
       "    </tr>\n",
       "    <tr>\n",
       "      <th>1</th>\n",
       "      <td>2020</td>\n",
       "      <td>189026.083333</td>\n",
       "    </tr>\n",
       "    <tr>\n",
       "      <th>2</th>\n",
       "      <td>2019</td>\n",
       "      <td>368571.750000</td>\n",
       "    </tr>\n",
       "    <tr>\n",
       "      <th>3</th>\n",
       "      <td>2018</td>\n",
       "      <td>334119.666667</td>\n",
       "    </tr>\n",
       "    <tr>\n",
       "      <th>4</th>\n",
       "      <td>2017</td>\n",
       "      <td>361407.500000</td>\n",
       "    </tr>\n",
       "  </tbody>\n",
       "</table>\n",
       "</div>"
      ],
      "text/plain": [
       "   Year  YOSE_Yearly_Average_Visitation_Numbers\n",
       "0  2021                           273966.250000\n",
       "1  2020                           189026.083333\n",
       "2  2019                           368571.750000\n",
       "3  2018                           334119.666667\n",
       "4  2017                           361407.500000"
      ]
     },
     "execution_count": 184,
     "metadata": {},
     "output_type": "execute_result"
    }
   ],
   "source": [
    "# check out yearly average visitation numbers of Yosemite NP\n",
    "df_YOSE_avg.head()"
   ]
  },
  {
   "cell_type": "code",
   "execution_count": 185,
   "metadata": {},
   "outputs": [
    {
     "data": {
      "text/html": [
       "<div>\n",
       "<style scoped>\n",
       "    .dataframe tbody tr th:only-of-type {\n",
       "        vertical-align: middle;\n",
       "    }\n",
       "\n",
       "    .dataframe tbody tr th {\n",
       "        vertical-align: top;\n",
       "    }\n",
       "\n",
       "    .dataframe thead th {\n",
       "        text-align: right;\n",
       "    }\n",
       "</style>\n",
       "<table border=\"1\" class=\"dataframe\">\n",
       "  <thead>\n",
       "    <tr style=\"text-align: right;\">\n",
       "      <th></th>\n",
       "      <th>Year</th>\n",
       "      <th>CRLA_Yearly_Average_Visitation_Numbers</th>\n",
       "    </tr>\n",
       "  </thead>\n",
       "  <tbody>\n",
       "    <tr>\n",
       "      <th>0</th>\n",
       "      <td>2021</td>\n",
       "      <td>53979.250000</td>\n",
       "    </tr>\n",
       "    <tr>\n",
       "      <th>1</th>\n",
       "      <td>2020</td>\n",
       "      <td>55875.000000</td>\n",
       "    </tr>\n",
       "    <tr>\n",
       "      <th>2</th>\n",
       "      <td>2019</td>\n",
       "      <td>58709.333333</td>\n",
       "    </tr>\n",
       "    <tr>\n",
       "      <th>3</th>\n",
       "      <td>2018</td>\n",
       "      <td>60054.916667</td>\n",
       "    </tr>\n",
       "    <tr>\n",
       "      <th>4</th>\n",
       "      <td>2017</td>\n",
       "      <td>59312.416667</td>\n",
       "    </tr>\n",
       "  </tbody>\n",
       "</table>\n",
       "</div>"
      ],
      "text/plain": [
       "   Year  CRLA_Yearly_Average_Visitation_Numbers\n",
       "0  2021                            53979.250000\n",
       "1  2020                            55875.000000\n",
       "2  2019                            58709.333333\n",
       "3  2018                            60054.916667\n",
       "4  2017                            59312.416667"
      ]
     },
     "execution_count": 185,
     "metadata": {},
     "output_type": "execute_result"
    }
   ],
   "source": [
    "# check out yearly average visitation numbers of Crater Lake NP\n",
    "df_CRLA_avg.head()"
   ]
  },
  {
   "cell_type": "code",
   "execution_count": 186,
   "metadata": {},
   "outputs": [
    {
     "data": {
      "text/html": [
       "<div>\n",
       "<style scoped>\n",
       "    .dataframe tbody tr th:only-of-type {\n",
       "        vertical-align: middle;\n",
       "    }\n",
       "\n",
       "    .dataframe tbody tr th {\n",
       "        vertical-align: top;\n",
       "    }\n",
       "\n",
       "    .dataframe thead th {\n",
       "        text-align: right;\n",
       "    }\n",
       "</style>\n",
       "<table border=\"1\" class=\"dataframe\">\n",
       "  <thead>\n",
       "    <tr style=\"text-align: right;\">\n",
       "      <th></th>\n",
       "      <th>Year</th>\n",
       "      <th>PINN_Yearly_Average_Visitation_Numbers</th>\n",
       "    </tr>\n",
       "  </thead>\n",
       "  <tbody>\n",
       "    <tr>\n",
       "      <th>0</th>\n",
       "      <td>2021</td>\n",
       "      <td>29071.416667</td>\n",
       "    </tr>\n",
       "    <tr>\n",
       "      <th>1</th>\n",
       "      <td>2020</td>\n",
       "      <td>13811.666667</td>\n",
       "    </tr>\n",
       "    <tr>\n",
       "      <th>2</th>\n",
       "      <td>2019</td>\n",
       "      <td>14768.666667</td>\n",
       "    </tr>\n",
       "    <tr>\n",
       "      <th>3</th>\n",
       "      <td>2018</td>\n",
       "      <td>18512.666667</td>\n",
       "    </tr>\n",
       "    <tr>\n",
       "      <th>4</th>\n",
       "      <td>2017</td>\n",
       "      <td>19444.500000</td>\n",
       "    </tr>\n",
       "  </tbody>\n",
       "</table>\n",
       "</div>"
      ],
      "text/plain": [
       "   Year  PINN_Yearly_Average_Visitation_Numbers\n",
       "0  2021                            29071.416667\n",
       "1  2020                            13811.666667\n",
       "2  2019                            14768.666667\n",
       "3  2018                            18512.666667\n",
       "4  2017                            19444.500000"
      ]
     },
     "execution_count": 186,
     "metadata": {},
     "output_type": "execute_result"
    }
   ],
   "source": [
    "# check out yearly average visitation numbers of Pinnacle NP\n",
    "df_PINN_avg.head()"
   ]
  },
  {
   "cell_type": "markdown",
   "metadata": {},
   "source": [
    "<b>U.S. Covid Cases Dataset (2020-2022)<b/>"
   ]
  },
  {
   "cell_type": "markdown",
   "metadata": {},
   "source": [
    "Finally, we load the covid cases dataframe from New York Times."
   ]
  },
  {
   "cell_type": "code",
   "execution_count": 187,
   "metadata": {},
   "outputs": [],
   "source": [
    "# import daily covid cases data by counties and states in the U.S.\n",
    "df_covid_cases = pd.read_csv('https://raw.githubusercontent.com/nytimes/covid-19-data/master/us-counties.csv')"
   ]
  },
  {
   "cell_type": "markdown",
   "metadata": {},
   "source": [
    " To maintain code consistency and make it easier to work with the code, we capitalize the covid cases dataframe's column names just like the other dataframes'. The data includes February 2022 covid case records-which is when we downloaded the CSV. We remove 2022 data from the dataframe because we will use 2020-2021 data as our pandemic data. We also remove fips and deaths columns because those data won't be useful in our EDA."
   ]
  },
  {
   "cell_type": "code",
   "execution_count": 188,
   "metadata": {},
   "outputs": [
    {
     "data": {
      "text/html": [
       "<div>\n",
       "<style scoped>\n",
       "    .dataframe tbody tr th:only-of-type {\n",
       "        vertical-align: middle;\n",
       "    }\n",
       "\n",
       "    .dataframe tbody tr th {\n",
       "        vertical-align: top;\n",
       "    }\n",
       "\n",
       "    .dataframe thead th {\n",
       "        text-align: right;\n",
       "    }\n",
       "</style>\n",
       "<table border=\"1\" class=\"dataframe\">\n",
       "  <thead>\n",
       "    <tr style=\"text-align: right;\">\n",
       "      <th></th>\n",
       "      <th>Date</th>\n",
       "      <th>County</th>\n",
       "      <th>State</th>\n",
       "      <th>Cases</th>\n",
       "    </tr>\n",
       "  </thead>\n",
       "  <tbody>\n",
       "    <tr>\n",
       "      <th>2070105</th>\n",
       "      <td>2021-12-31</td>\n",
       "      <td>Sweetwater</td>\n",
       "      <td>Wyoming</td>\n",
       "      <td>8320</td>\n",
       "    </tr>\n",
       "    <tr>\n",
       "      <th>2070106</th>\n",
       "      <td>2021-12-31</td>\n",
       "      <td>Teton</td>\n",
       "      <td>Wyoming</td>\n",
       "      <td>5950</td>\n",
       "    </tr>\n",
       "    <tr>\n",
       "      <th>2070107</th>\n",
       "      <td>2021-12-31</td>\n",
       "      <td>Uinta</td>\n",
       "      <td>Wyoming</td>\n",
       "      <td>4154</td>\n",
       "    </tr>\n",
       "    <tr>\n",
       "      <th>2070108</th>\n",
       "      <td>2021-12-31</td>\n",
       "      <td>Washakie</td>\n",
       "      <td>Wyoming</td>\n",
       "      <td>1879</td>\n",
       "    </tr>\n",
       "    <tr>\n",
       "      <th>2070109</th>\n",
       "      <td>2021-12-31</td>\n",
       "      <td>Weston</td>\n",
       "      <td>Wyoming</td>\n",
       "      <td>1254</td>\n",
       "    </tr>\n",
       "  </tbody>\n",
       "</table>\n",
       "</div>"
      ],
      "text/plain": [
       "               Date      County    State  Cases\n",
       "2070105  2021-12-31  Sweetwater  Wyoming   8320\n",
       "2070106  2021-12-31       Teton  Wyoming   5950\n",
       "2070107  2021-12-31       Uinta  Wyoming   4154\n",
       "2070108  2021-12-31    Washakie  Wyoming   1879\n",
       "2070109  2021-12-31      Weston  Wyoming   1254"
      ]
     },
     "execution_count": 188,
     "metadata": {},
     "output_type": "execute_result"
    }
   ],
   "source": [
    "# get only relevant columns\n",
    "df_covid_cases = df_covid_cases[['date', 'county', 'state', 'cases']]\n",
    "\n",
    "# capitalize the first letter of each column\n",
    "df_covid_cases.rename(columns={'date':'Date', 'county':'County', 'state':'State', 'cases':'Cases'},inplace=True)\n",
    "\n",
    "# drop rows based on 2022 column value\n",
    "df_2022_indexes = df_covid_cases[df_covid_cases['Date'].str.contains('2022')].index\n",
    "df_covid_cases.drop(df_2022_indexes, inplace=True)\n",
    "\n",
    "# take a look at the last five observations of the updated covid cases data\n",
    "df_covid_cases.tail()"
   ]
  },
  {
   "cell_type": "markdown",
   "metadata": {},
   "source": [
    "Now, we filter through the counties to only work with covid cases across counties that are in proximity to the NPs and store them into new dataframes. This data will be useful for identifying covid trends before and during the pandemic in counties where our NPs reside in or are nearby."
   ]
  },
  {
   "cell_type": "code",
   "execution_count": 189,
   "metadata": {},
   "outputs": [
    {
     "data": {
      "text/html": [
       "<div>\n",
       "<style scoped>\n",
       "    .dataframe tbody tr th:only-of-type {\n",
       "        vertical-align: middle;\n",
       "    }\n",
       "\n",
       "    .dataframe tbody tr th {\n",
       "        vertical-align: top;\n",
       "    }\n",
       "\n",
       "    .dataframe thead th {\n",
       "        text-align: right;\n",
       "    }\n",
       "</style>\n",
       "<table border=\"1\" class=\"dataframe\">\n",
       "  <thead>\n",
       "    <tr style=\"text-align: right;\">\n",
       "      <th></th>\n",
       "      <th>Date</th>\n",
       "      <th>County</th>\n",
       "      <th>State</th>\n",
       "      <th>Cases</th>\n",
       "    </tr>\n",
       "  </thead>\n",
       "  <tbody>\n",
       "    <tr>\n",
       "      <th>3776</th>\n",
       "      <td>2020-03-18</td>\n",
       "      <td>Coconino</td>\n",
       "      <td>Arizona</td>\n",
       "      <td>1</td>\n",
       "    </tr>\n",
       "    <tr>\n",
       "      <th>4419</th>\n",
       "      <td>2020-03-19</td>\n",
       "      <td>Coconino</td>\n",
       "      <td>Arizona</td>\n",
       "      <td>2</td>\n",
       "    </tr>\n",
       "    <tr>\n",
       "      <th>5190</th>\n",
       "      <td>2020-03-20</td>\n",
       "      <td>Coconino</td>\n",
       "      <td>Arizona</td>\n",
       "      <td>11</td>\n",
       "    </tr>\n",
       "    <tr>\n",
       "      <th>6109</th>\n",
       "      <td>2020-03-21</td>\n",
       "      <td>Coconino</td>\n",
       "      <td>Arizona</td>\n",
       "      <td>11</td>\n",
       "    </tr>\n",
       "    <tr>\n",
       "      <th>7143</th>\n",
       "      <td>2020-03-22</td>\n",
       "      <td>Coconino</td>\n",
       "      <td>Arizona</td>\n",
       "      <td>15</td>\n",
       "    </tr>\n",
       "  </tbody>\n",
       "</table>\n",
       "</div>"
      ],
      "text/plain": [
       "            Date    County    State  Cases\n",
       "3776  2020-03-18  Coconino  Arizona      1\n",
       "4419  2020-03-19  Coconino  Arizona      2\n",
       "5190  2020-03-20  Coconino  Arizona     11\n",
       "6109  2020-03-21  Coconino  Arizona     11\n",
       "7143  2020-03-22  Coconino  Arizona     15"
      ]
     },
     "execution_count": 189,
     "metadata": {},
     "output_type": "execute_result"
    }
   ],
   "source": [
    "# filter out the counties that the NPs are located in/near\n",
    "# Grand Canyon is in Coconino County, AZ\n",
    "df_covid_cases_AR = df_covid_cases[df_covid_cases['State'] == 'Arizona']\n",
    "df_covid_cases_CN = df_covid_cases_AR[df_covid_cases_AR['County'] == 'Coconino']\n",
    "\n",
    "# check out Coconico County data\n",
    "df_covid_cases_CN.head()"
   ]
  },
  {
   "cell_type": "code",
   "execution_count": 190,
   "metadata": {},
   "outputs": [
    {
     "data": {
      "text/html": [
       "<div>\n",
       "<style scoped>\n",
       "    .dataframe tbody tr th:only-of-type {\n",
       "        vertical-align: middle;\n",
       "    }\n",
       "\n",
       "    .dataframe tbody tr th {\n",
       "        vertical-align: top;\n",
       "    }\n",
       "\n",
       "    .dataframe thead th {\n",
       "        text-align: right;\n",
       "    }\n",
       "</style>\n",
       "<table border=\"1\" class=\"dataframe\">\n",
       "  <thead>\n",
       "    <tr style=\"text-align: right;\">\n",
       "      <th></th>\n",
       "      <th>Date</th>\n",
       "      <th>County</th>\n",
       "      <th>State</th>\n",
       "      <th>Cases</th>\n",
       "    </tr>\n",
       "  </thead>\n",
       "  <tbody>\n",
       "    <tr>\n",
       "      <th>17891</th>\n",
       "      <td>2020-03-29</td>\n",
       "      <td>Montezuma</td>\n",
       "      <td>Colorado</td>\n",
       "      <td>1</td>\n",
       "    </tr>\n",
       "    <tr>\n",
       "      <th>19869</th>\n",
       "      <td>2020-03-30</td>\n",
       "      <td>Montezuma</td>\n",
       "      <td>Colorado</td>\n",
       "      <td>1</td>\n",
       "    </tr>\n",
       "    <tr>\n",
       "      <th>21945</th>\n",
       "      <td>2020-03-31</td>\n",
       "      <td>Montezuma</td>\n",
       "      <td>Colorado</td>\n",
       "      <td>1</td>\n",
       "    </tr>\n",
       "    <tr>\n",
       "      <th>24104</th>\n",
       "      <td>2020-04-01</td>\n",
       "      <td>Montezuma</td>\n",
       "      <td>Colorado</td>\n",
       "      <td>1</td>\n",
       "    </tr>\n",
       "    <tr>\n",
       "      <th>26334</th>\n",
       "      <td>2020-04-02</td>\n",
       "      <td>Montezuma</td>\n",
       "      <td>Colorado</td>\n",
       "      <td>3</td>\n",
       "    </tr>\n",
       "  </tbody>\n",
       "</table>\n",
       "</div>"
      ],
      "text/plain": [
       "             Date     County     State  Cases\n",
       "17891  2020-03-29  Montezuma  Colorado      1\n",
       "19869  2020-03-30  Montezuma  Colorado      1\n",
       "21945  2020-03-31  Montezuma  Colorado      1\n",
       "24104  2020-04-01  Montezuma  Colorado      1\n",
       "26334  2020-04-02  Montezuma  Colorado      3"
      ]
     },
     "execution_count": 190,
     "metadata": {},
     "output_type": "execute_result"
    }
   ],
   "source": [
    "# Mesa Verde is in Montezuma County, CO\n",
    "df_covid_cases_CO = df_covid_cases[df_covid_cases['State'] == 'Colorado']\n",
    "df_covid_cases_MO = df_covid_cases_CO[df_covid_cases_CO['County'] == 'Montezuma']\n",
    "\n",
    "# check out Montezuma county data\n",
    "df_covid_cases_MO.head()"
   ]
  },
  {
   "cell_type": "code",
   "execution_count": 191,
   "metadata": {},
   "outputs": [
    {
     "data": {
      "text/html": [
       "<div>\n",
       "<style scoped>\n",
       "    .dataframe tbody tr th:only-of-type {\n",
       "        vertical-align: middle;\n",
       "    }\n",
       "\n",
       "    .dataframe tbody tr th {\n",
       "        vertical-align: top;\n",
       "    }\n",
       "\n",
       "    .dataframe thead th {\n",
       "        text-align: right;\n",
       "    }\n",
       "</style>\n",
       "<table border=\"1\" class=\"dataframe\">\n",
       "  <thead>\n",
       "    <tr style=\"text-align: right;\">\n",
       "      <th></th>\n",
       "      <th>Date</th>\n",
       "      <th>County</th>\n",
       "      <th>State</th>\n",
       "      <th>Cases</th>\n",
       "    </tr>\n",
       "  </thead>\n",
       "  <tbody>\n",
       "    <tr>\n",
       "      <th>258279</th>\n",
       "      <td>2020-06-20</td>\n",
       "      <td>Culberson</td>\n",
       "      <td>Texas</td>\n",
       "      <td>1</td>\n",
       "    </tr>\n",
       "    <tr>\n",
       "      <th>261406</th>\n",
       "      <td>2020-06-21</td>\n",
       "      <td>Culberson</td>\n",
       "      <td>Texas</td>\n",
       "      <td>1</td>\n",
       "    </tr>\n",
       "    <tr>\n",
       "      <th>264534</th>\n",
       "      <td>2020-06-22</td>\n",
       "      <td>Culberson</td>\n",
       "      <td>Texas</td>\n",
       "      <td>1</td>\n",
       "    </tr>\n",
       "    <tr>\n",
       "      <th>267662</th>\n",
       "      <td>2020-06-23</td>\n",
       "      <td>Culberson</td>\n",
       "      <td>Texas</td>\n",
       "      <td>3</td>\n",
       "    </tr>\n",
       "    <tr>\n",
       "      <th>270796</th>\n",
       "      <td>2020-06-24</td>\n",
       "      <td>Culberson</td>\n",
       "      <td>Texas</td>\n",
       "      <td>3</td>\n",
       "    </tr>\n",
       "  </tbody>\n",
       "</table>\n",
       "</div>"
      ],
      "text/plain": [
       "              Date     County  State  Cases\n",
       "258279  2020-06-20  Culberson  Texas      1\n",
       "261406  2020-06-21  Culberson  Texas      1\n",
       "264534  2020-06-22  Culberson  Texas      1\n",
       "267662  2020-06-23  Culberson  Texas      3\n",
       "270796  2020-06-24  Culberson  Texas      3"
      ]
     },
     "execution_count": 191,
     "metadata": {},
     "output_type": "execute_result"
    }
   ],
   "source": [
    "# Guadalupe Mountains is in Culberson county, TX\n",
    "df_covid_cases_TX = df_covid_cases[df_covid_cases['State'] == 'Texas']\n",
    "df_covid_cases_CU = df_covid_cases_TX[(df_covid_cases_TX['County'] == 'Culberson')]\n",
    "\n",
    "# check Culberson counties data\n",
    "df_covid_cases_CU.head()"
   ]
  },
  {
   "cell_type": "code",
   "execution_count": 192,
   "metadata": {},
   "outputs": [
    {
     "data": {
      "text/html": [
       "<div>\n",
       "<style scoped>\n",
       "    .dataframe tbody tr th:only-of-type {\n",
       "        vertical-align: middle;\n",
       "    }\n",
       "\n",
       "    .dataframe tbody tr th {\n",
       "        vertical-align: top;\n",
       "    }\n",
       "\n",
       "    .dataframe thead th {\n",
       "        text-align: right;\n",
       "    }\n",
       "</style>\n",
       "<table border=\"1\" class=\"dataframe\">\n",
       "  <thead>\n",
       "    <tr style=\"text-align: right;\">\n",
       "      <th></th>\n",
       "      <th>Date</th>\n",
       "      <th>County</th>\n",
       "      <th>State</th>\n",
       "      <th>Cases</th>\n",
       "    </tr>\n",
       "  </thead>\n",
       "  <tbody>\n",
       "    <tr>\n",
       "      <th>95510</th>\n",
       "      <td>2020-04-28</td>\n",
       "      <td>Mariposa</td>\n",
       "      <td>California</td>\n",
       "      <td>1</td>\n",
       "    </tr>\n",
       "    <tr>\n",
       "      <th>98355</th>\n",
       "      <td>2020-04-29</td>\n",
       "      <td>Mariposa</td>\n",
       "      <td>California</td>\n",
       "      <td>1</td>\n",
       "    </tr>\n",
       "    <tr>\n",
       "      <th>101205</th>\n",
       "      <td>2020-04-30</td>\n",
       "      <td>Mariposa</td>\n",
       "      <td>California</td>\n",
       "      <td>3</td>\n",
       "    </tr>\n",
       "    <tr>\n",
       "      <th>104060</th>\n",
       "      <td>2020-05-01</td>\n",
       "      <td>Mariposa</td>\n",
       "      <td>California</td>\n",
       "      <td>13</td>\n",
       "    </tr>\n",
       "    <tr>\n",
       "      <th>106925</th>\n",
       "      <td>2020-05-02</td>\n",
       "      <td>Mariposa</td>\n",
       "      <td>California</td>\n",
       "      <td>13</td>\n",
       "    </tr>\n",
       "  </tbody>\n",
       "</table>\n",
       "</div>"
      ],
      "text/plain": [
       "              Date    County       State  Cases\n",
       "95510   2020-04-28  Mariposa  California      1\n",
       "98355   2020-04-29  Mariposa  California      1\n",
       "101205  2020-04-30  Mariposa  California      3\n",
       "104060  2020-05-01  Mariposa  California     13\n",
       "106925  2020-05-02  Mariposa  California     13"
      ]
     },
     "execution_count": 192,
     "metadata": {},
     "output_type": "execute_result"
    }
   ],
   "source": [
    "# Yosemite is in Mariposa County, CA\n",
    "df_covid_cases_CA = df_covid_cases[df_covid_cases['State'] == 'California']\n",
    "df_covid_cases_MR = df_covid_cases_CA[df_covid_cases_CA['County'] == 'Mariposa']\n",
    "\n",
    "\n",
    "# check out Mariposa County data\n",
    "df_covid_cases_MR.head()"
   ]
  },
  {
   "cell_type": "code",
   "execution_count": 193,
   "metadata": {},
   "outputs": [
    {
     "data": {
      "text/html": [
       "<div>\n",
       "<style scoped>\n",
       "    .dataframe tbody tr th:only-of-type {\n",
       "        vertical-align: middle;\n",
       "    }\n",
       "\n",
       "    .dataframe tbody tr th {\n",
       "        vertical-align: top;\n",
       "    }\n",
       "\n",
       "    .dataframe thead th {\n",
       "        text-align: right;\n",
       "    }\n",
       "</style>\n",
       "<table border=\"1\" class=\"dataframe\">\n",
       "  <thead>\n",
       "    <tr style=\"text-align: right;\">\n",
       "      <th></th>\n",
       "      <th>Date</th>\n",
       "      <th>County</th>\n",
       "      <th>State</th>\n",
       "      <th>Cases</th>\n",
       "    </tr>\n",
       "  </thead>\n",
       "  <tbody>\n",
       "    <tr>\n",
       "      <th>723</th>\n",
       "      <td>2020-03-07</td>\n",
       "      <td>Klamath</td>\n",
       "      <td>Oregon</td>\n",
       "      <td>1</td>\n",
       "    </tr>\n",
       "    <tr>\n",
       "      <th>831</th>\n",
       "      <td>2020-03-08</td>\n",
       "      <td>Klamath</td>\n",
       "      <td>Oregon</td>\n",
       "      <td>1</td>\n",
       "    </tr>\n",
       "    <tr>\n",
       "      <th>959</th>\n",
       "      <td>2020-03-09</td>\n",
       "      <td>Klamath</td>\n",
       "      <td>Oregon</td>\n",
       "      <td>1</td>\n",
       "    </tr>\n",
       "    <tr>\n",
       "      <th>1110</th>\n",
       "      <td>2020-03-10</td>\n",
       "      <td>Klamath</td>\n",
       "      <td>Oregon</td>\n",
       "      <td>1</td>\n",
       "    </tr>\n",
       "    <tr>\n",
       "      <th>1300</th>\n",
       "      <td>2020-03-11</td>\n",
       "      <td>Klamath</td>\n",
       "      <td>Oregon</td>\n",
       "      <td>1</td>\n",
       "    </tr>\n",
       "  </tbody>\n",
       "</table>\n",
       "</div>"
      ],
      "text/plain": [
       "            Date   County   State  Cases\n",
       "723   2020-03-07  Klamath  Oregon      1\n",
       "831   2020-03-08  Klamath  Oregon      1\n",
       "959   2020-03-09  Klamath  Oregon      1\n",
       "1110  2020-03-10  Klamath  Oregon      1\n",
       "1300  2020-03-11  Klamath  Oregon      1"
      ]
     },
     "execution_count": 193,
     "metadata": {},
     "output_type": "execute_result"
    }
   ],
   "source": [
    "# Crater Lake is in Klamath County, Oregon\n",
    "df_covid_cases_OR = df_covid_cases[df_covid_cases['State'] == 'Oregon']\n",
    "df_covid_cases_KL = df_covid_cases_OR[df_covid_cases_OR['County'] == 'Klamath']\n",
    "\n",
    "# check out Klamath County data\n",
    "df_covid_cases_KL.head()"
   ]
  },
  {
   "cell_type": "code",
   "execution_count": 194,
   "metadata": {},
   "outputs": [
    {
     "data": {
      "text/html": [
       "<div>\n",
       "<style scoped>\n",
       "    .dataframe tbody tr th:only-of-type {\n",
       "        vertical-align: middle;\n",
       "    }\n",
       "\n",
       "    .dataframe tbody tr th {\n",
       "        vertical-align: top;\n",
       "    }\n",
       "\n",
       "    .dataframe thead th {\n",
       "        text-align: right;\n",
       "    }\n",
       "</style>\n",
       "<table border=\"1\" class=\"dataframe\">\n",
       "  <thead>\n",
       "    <tr style=\"text-align: right;\">\n",
       "      <th></th>\n",
       "      <th>Date</th>\n",
       "      <th>County</th>\n",
       "      <th>State</th>\n",
       "      <th>Cases</th>\n",
       "    </tr>\n",
       "  </thead>\n",
       "  <tbody>\n",
       "    <tr>\n",
       "      <th>1642</th>\n",
       "      <td>2020-03-13</td>\n",
       "      <td>San Benito</td>\n",
       "      <td>California</td>\n",
       "      <td>1</td>\n",
       "    </tr>\n",
       "    <tr>\n",
       "      <th>1959</th>\n",
       "      <td>2020-03-14</td>\n",
       "      <td>San Benito</td>\n",
       "      <td>California</td>\n",
       "      <td>1</td>\n",
       "    </tr>\n",
       "    <tr>\n",
       "      <th>2338</th>\n",
       "      <td>2020-03-15</td>\n",
       "      <td>San Benito</td>\n",
       "      <td>California</td>\n",
       "      <td>1</td>\n",
       "    </tr>\n",
       "    <tr>\n",
       "      <th>2773</th>\n",
       "      <td>2020-03-16</td>\n",
       "      <td>San Benito</td>\n",
       "      <td>California</td>\n",
       "      <td>1</td>\n",
       "    </tr>\n",
       "    <tr>\n",
       "      <th>3255</th>\n",
       "      <td>2020-03-17</td>\n",
       "      <td>San Benito</td>\n",
       "      <td>California</td>\n",
       "      <td>2</td>\n",
       "    </tr>\n",
       "  </tbody>\n",
       "</table>\n",
       "</div>"
      ],
      "text/plain": [
       "            Date      County       State  Cases\n",
       "1642  2020-03-13  San Benito  California      1\n",
       "1959  2020-03-14  San Benito  California      1\n",
       "2338  2020-03-15  San Benito  California      1\n",
       "2773  2020-03-16  San Benito  California      1\n",
       "3255  2020-03-17  San Benito  California      2"
      ]
     },
     "execution_count": 194,
     "metadata": {},
     "output_type": "execute_result"
    }
   ],
   "source": [
    "# Pinnacles is San Benito County, CA\n",
    "df_covid_cases_CA = df_covid_cases[df_covid_cases['State'] == 'California']\n",
    "df_covid_cases_SB = df_covid_cases_CA[(df_covid_cases_CA['County'] == 'San Benito')]\n",
    "\n",
    "# check out San Benito county data\n",
    "df_covid_cases_SB.head()"
   ]
  },
  {
   "cell_type": "markdown",
   "metadata": {},
   "source": [
    "There are too many dates to filter through, so we group covid case data by month and year and calculate total Covid-19 cases across the counties. We also convert Date values into int types."
   ]
  },
  {
   "cell_type": "code",
   "execution_count": 233,
   "metadata": {},
   "outputs": [],
   "source": [
    "def yearly(dframe):\n",
    "\n",
    "    # create a copy of original dataframe\n",
    "    new_df = dframe.copy()\n",
    "\n",
    "    # extract years from date and cast as int types\n",
    "    new_df['Year'] = new_df['Date'].str[:4].astype(int)\n",
    "    df_2020 = new_df.loc[new_df[\"Year\"] == 2020]\n",
    "    df_2021 = new_df.loc[new_df[\"Year\"] == 2021]\n",
    "\n",
    "    # create column that stores both year and month data\n",
    "    # store the created columns into an empty dataframe\n",
    "    df_2020['Month'] = new_df['Date'].str[5:7].astype(int)\n",
    "    df_2021['Month'] = new_df['Date'].str[5:7].astype(int)\n",
    "\n",
    "    # groupby and aggregrate\n",
    "    # concatenate 2020 and 2021 dfs\n",
    "    df_2020 = df_2020.groupby(['Year', 'Month', 'County', 'State'], as_index=False).agg({'Cases':'sum'})\n",
    "    df_2021 = df_2021.groupby(['Year', 'Month', 'County', 'State'], as_index=False).agg({'Cases':'sum'})\n",
    "    new_dframe = pd.concat([df_2020, df_2021]).reset_index().drop(labels='index', axis=1)\n",
    "\n",
    "    return new_dframe\n",
    "\n",
    "# reorganize data by year\n",
    "df_covid_cases_CN_20_21 = yearly(df_covid_cases_CN)\n",
    "df_covid_cases_MO_20_21 = yearly(df_covid_cases_MO)\n",
    "df_covid_cases_CU_20_21 = yearly(df_covid_cases_CU)\n",
    "df_covid_cases_MR_20_21 = yearly(df_covid_cases_MR)\n",
    "df_covid_cases_KL_20_21 = yearly(df_covid_cases_KL)\n",
    "df_covid_cases_SB_20_21 = yearly(df_covid_cases_SB)"
   ]
  },
  {
   "cell_type": "code",
   "execution_count": 234,
   "metadata": {},
   "outputs": [],
   "source": [
    "months21 = [12, 11, 10, 9, 8, 7, 6, 5, 4, 3, 2, 1]\n",
    "years21 = [2019, 2018, 2017, 2016, 2015, 2014, 2013, 2012]\n",
    "\n",
    "def blanks(dframe): \n",
    "\n",
    "    dframe.loc[-1] = [2020, 2, dframe['County'][0], dframe['State'][0], 0]\n",
    "    dframe.index = dframe.index + 1\n",
    "    dframe.sort_index(inplace=True) \n",
    "    dframe.loc[-1] = [2020, 1, dframe['County'][0], dframe['State'][0], 0]\n",
    "    dframe.index = dframe.index + 1\n",
    "    dframe.sort_index(inplace=True) \n",
    "\n",
    "    for year in years21:\n",
    "        for month in months21:\n",
    "            dframe.loc[-1] = [year, month, dframe['County'][0], dframe['State'][0], 0]\n",
    "            dframe.index = dframe.index + 1\n",
    "            dframe.sort_index(inplace=True) \n",
    "\n",
    "    return dframe\n",
    "\n",
    "df_covid_cases_CN_12_21 = blanks(df_covid_cases_CN_20_21)\n",
    "df_covid_cases_MO_12_21 = blanks(df_covid_cases_MO_20_21)\n",
    "df_covid_cases_CU_12_21 = blanks(df_covid_cases_CU_20_21)\n",
    "df_covid_cases_MR_12_21 = blanks(df_covid_cases_MR_20_21)\n",
    "df_covid_cases_KL_12_21 = blanks(df_covid_cases_KL_20_21)\n",
    "df_covid_cases_SB_12_21 = blanks(df_covid_cases_SB_20_21)"
   ]
  },
  {
   "cell_type": "code",
   "execution_count": 235,
   "metadata": {},
   "outputs": [],
   "source": [
    "df_covid_cases_CN_12_21['Year-Month'] = df_covid_cases_CN_12_21[\"Year\"].astype(str) + '-' + df_covid_cases_CN_12_21[\"Month\"].astype(str)\n",
    "df_covid_cases_MO_12_21['Year-Month'] = df_covid_cases_MO_12_21[\"Year\"].astype(str) + '-' + df_covid_cases_MO_12_21[\"Month\"].astype(str)\n",
    "df_covid_cases_CU_12_21['Year-Month'] = df_covid_cases_CU_12_21[\"Year\"].astype(str) + '-' + df_covid_cases_CU_12_21[\"Month\"].astype(str)\n",
    "df_covid_cases_MR_12_21['Year-Month'] = df_covid_cases_MR_12_21[\"Year\"].astype(str) + '-' + df_covid_cases_MR_12_21[\"Month\"].astype(str)\n",
    "df_covid_cases_KL_12_21['Year-Month'] = df_covid_cases_KL_12_21[\"Year\"].astype(str) + '-' + df_covid_cases_KL_12_21[\"Month\"].astype(str)\n",
    "df_covid_cases_SB_12_21['Year-Month'] = df_covid_cases_SB_12_21[\"Year\"].astype(str) + '-' + df_covid_cases_SB_12_21[\"Month\"].astype(str)"
   ]
  },
  {
   "cell_type": "code",
   "execution_count": 236,
   "metadata": {},
   "outputs": [
    {
     "data": {
      "text/html": [
       "<div>\n",
       "<style scoped>\n",
       "    .dataframe tbody tr th:only-of-type {\n",
       "        vertical-align: middle;\n",
       "    }\n",
       "\n",
       "    .dataframe tbody tr th {\n",
       "        vertical-align: top;\n",
       "    }\n",
       "\n",
       "    .dataframe thead th {\n",
       "        text-align: right;\n",
       "    }\n",
       "</style>\n",
       "<table border=\"1\" class=\"dataframe\">\n",
       "  <thead>\n",
       "    <tr style=\"text-align: right;\">\n",
       "      <th></th>\n",
       "      <th>Year</th>\n",
       "      <th>Month</th>\n",
       "      <th>County</th>\n",
       "      <th>State</th>\n",
       "      <th>Cases</th>\n",
       "      <th>Year-Month</th>\n",
       "    </tr>\n",
       "  </thead>\n",
       "  <tbody>\n",
       "    <tr>\n",
       "      <th>0</th>\n",
       "      <td>2012</td>\n",
       "      <td>1</td>\n",
       "      <td>San Benito</td>\n",
       "      <td>California</td>\n",
       "      <td>0</td>\n",
       "      <td>2012-1</td>\n",
       "    </tr>\n",
       "    <tr>\n",
       "      <th>1</th>\n",
       "      <td>2012</td>\n",
       "      <td>2</td>\n",
       "      <td>San Benito</td>\n",
       "      <td>California</td>\n",
       "      <td>0</td>\n",
       "      <td>2012-2</td>\n",
       "    </tr>\n",
       "    <tr>\n",
       "      <th>2</th>\n",
       "      <td>2012</td>\n",
       "      <td>3</td>\n",
       "      <td>San Benito</td>\n",
       "      <td>California</td>\n",
       "      <td>0</td>\n",
       "      <td>2012-3</td>\n",
       "    </tr>\n",
       "    <tr>\n",
       "      <th>3</th>\n",
       "      <td>2012</td>\n",
       "      <td>4</td>\n",
       "      <td>San Benito</td>\n",
       "      <td>California</td>\n",
       "      <td>0</td>\n",
       "      <td>2012-4</td>\n",
       "    </tr>\n",
       "    <tr>\n",
       "      <th>4</th>\n",
       "      <td>2012</td>\n",
       "      <td>5</td>\n",
       "      <td>San Benito</td>\n",
       "      <td>California</td>\n",
       "      <td>0</td>\n",
       "      <td>2012-5</td>\n",
       "    </tr>\n",
       "  </tbody>\n",
       "</table>\n",
       "</div>"
      ],
      "text/plain": [
       "   Year  Month      County       State  Cases Year-Month\n",
       "0  2012      1  San Benito  California      0     2012-1\n",
       "1  2012      2  San Benito  California      0     2012-2\n",
       "2  2012      3  San Benito  California      0     2012-3\n",
       "3  2012      4  San Benito  California      0     2012-4\n",
       "4  2012      5  San Benito  California      0     2012-5"
      ]
     },
     "execution_count": 236,
     "metadata": {},
     "output_type": "execute_result"
    }
   ],
   "source": [
    "\n",
    "# check out 2012 - 2021 San Benito data\n",
    "# df_covid_cases_SB_12_21.head()"
   ]
  },
  {
   "cell_type": "code",
   "execution_count": 237,
   "metadata": {},
   "outputs": [
    {
     "data": {
      "text/html": [
       "<div>\n",
       "<style scoped>\n",
       "    .dataframe tbody tr th:only-of-type {\n",
       "        vertical-align: middle;\n",
       "    }\n",
       "\n",
       "    .dataframe tbody tr th {\n",
       "        vertical-align: top;\n",
       "    }\n",
       "\n",
       "    .dataframe thead th {\n",
       "        text-align: right;\n",
       "    }\n",
       "</style>\n",
       "<table border=\"1\" class=\"dataframe\">\n",
       "  <thead>\n",
       "    <tr style=\"text-align: right;\">\n",
       "      <th></th>\n",
       "      <th>Year</th>\n",
       "      <th>Month</th>\n",
       "      <th>County</th>\n",
       "      <th>State</th>\n",
       "      <th>Cases</th>\n",
       "      <th>Year-Month</th>\n",
       "    </tr>\n",
       "  </thead>\n",
       "  <tbody>\n",
       "    <tr>\n",
       "      <th>0</th>\n",
       "      <td>2012</td>\n",
       "      <td>1</td>\n",
       "      <td>Coconino</td>\n",
       "      <td>Arizona</td>\n",
       "      <td>0</td>\n",
       "      <td>2012-1</td>\n",
       "    </tr>\n",
       "    <tr>\n",
       "      <th>1</th>\n",
       "      <td>2012</td>\n",
       "      <td>2</td>\n",
       "      <td>Coconino</td>\n",
       "      <td>Arizona</td>\n",
       "      <td>0</td>\n",
       "      <td>2012-2</td>\n",
       "    </tr>\n",
       "    <tr>\n",
       "      <th>2</th>\n",
       "      <td>2012</td>\n",
       "      <td>3</td>\n",
       "      <td>Coconino</td>\n",
       "      <td>Arizona</td>\n",
       "      <td>0</td>\n",
       "      <td>2012-3</td>\n",
       "    </tr>\n",
       "    <tr>\n",
       "      <th>3</th>\n",
       "      <td>2012</td>\n",
       "      <td>4</td>\n",
       "      <td>Coconino</td>\n",
       "      <td>Arizona</td>\n",
       "      <td>0</td>\n",
       "      <td>2012-4</td>\n",
       "    </tr>\n",
       "    <tr>\n",
       "      <th>4</th>\n",
       "      <td>2012</td>\n",
       "      <td>5</td>\n",
       "      <td>Coconino</td>\n",
       "      <td>Arizona</td>\n",
       "      <td>0</td>\n",
       "      <td>2012-5</td>\n",
       "    </tr>\n",
       "  </tbody>\n",
       "</table>\n",
       "</div>"
      ],
      "text/plain": [
       "   Year  Month    County    State  Cases Year-Month\n",
       "0  2012      1  Coconino  Arizona      0     2012-1\n",
       "1  2012      2  Coconino  Arizona      0     2012-2\n",
       "2  2012      3  Coconino  Arizona      0     2012-3\n",
       "3  2012      4  Coconino  Arizona      0     2012-4\n",
       "4  2012      5  Coconino  Arizona      0     2012-5"
      ]
     },
     "execution_count": 237,
     "metadata": {},
     "output_type": "execute_result"
    }
   ],
   "source": [
    "# check out 2012 - 2021 Coconico data\n",
    "df_covid_cases_CN_12_21.head()"
   ]
  },
  {
   "cell_type": "code",
   "execution_count": 238,
   "metadata": {},
   "outputs": [
    {
     "data": {
      "text/html": [
       "<div>\n",
       "<style scoped>\n",
       "    .dataframe tbody tr th:only-of-type {\n",
       "        vertical-align: middle;\n",
       "    }\n",
       "\n",
       "    .dataframe tbody tr th {\n",
       "        vertical-align: top;\n",
       "    }\n",
       "\n",
       "    .dataframe thead th {\n",
       "        text-align: right;\n",
       "    }\n",
       "</style>\n",
       "<table border=\"1\" class=\"dataframe\">\n",
       "  <thead>\n",
       "    <tr style=\"text-align: right;\">\n",
       "      <th></th>\n",
       "      <th>Year</th>\n",
       "      <th>Month</th>\n",
       "      <th>County</th>\n",
       "      <th>State</th>\n",
       "      <th>Cases</th>\n",
       "      <th>Year-Month</th>\n",
       "    </tr>\n",
       "  </thead>\n",
       "  <tbody>\n",
       "    <tr>\n",
       "      <th>0</th>\n",
       "      <td>2012</td>\n",
       "      <td>1</td>\n",
       "      <td>Montezuma</td>\n",
       "      <td>Colorado</td>\n",
       "      <td>0</td>\n",
       "      <td>2012-1</td>\n",
       "    </tr>\n",
       "    <tr>\n",
       "      <th>1</th>\n",
       "      <td>2012</td>\n",
       "      <td>2</td>\n",
       "      <td>Montezuma</td>\n",
       "      <td>Colorado</td>\n",
       "      <td>0</td>\n",
       "      <td>2012-2</td>\n",
       "    </tr>\n",
       "    <tr>\n",
       "      <th>2</th>\n",
       "      <td>2012</td>\n",
       "      <td>3</td>\n",
       "      <td>Montezuma</td>\n",
       "      <td>Colorado</td>\n",
       "      <td>0</td>\n",
       "      <td>2012-3</td>\n",
       "    </tr>\n",
       "    <tr>\n",
       "      <th>3</th>\n",
       "      <td>2012</td>\n",
       "      <td>4</td>\n",
       "      <td>Montezuma</td>\n",
       "      <td>Colorado</td>\n",
       "      <td>0</td>\n",
       "      <td>2012-4</td>\n",
       "    </tr>\n",
       "    <tr>\n",
       "      <th>4</th>\n",
       "      <td>2012</td>\n",
       "      <td>5</td>\n",
       "      <td>Montezuma</td>\n",
       "      <td>Colorado</td>\n",
       "      <td>0</td>\n",
       "      <td>2012-5</td>\n",
       "    </tr>\n",
       "  </tbody>\n",
       "</table>\n",
       "</div>"
      ],
      "text/plain": [
       "   Year  Month     County     State  Cases Year-Month\n",
       "0  2012      1  Montezuma  Colorado      0     2012-1\n",
       "1  2012      2  Montezuma  Colorado      0     2012-2\n",
       "2  2012      3  Montezuma  Colorado      0     2012-3\n",
       "3  2012      4  Montezuma  Colorado      0     2012-4\n",
       "4  2012      5  Montezuma  Colorado      0     2012-5"
      ]
     },
     "execution_count": 238,
     "metadata": {},
     "output_type": "execute_result"
    }
   ],
   "source": [
    "# check out 2012 - 2021 Montezuma County data\n",
    "df_covid_cases_MO_12_21.head()"
   ]
  },
  {
   "cell_type": "code",
   "execution_count": 201,
   "metadata": {},
   "outputs": [
    {
     "data": {
      "text/html": [
       "<div>\n",
       "<style scoped>\n",
       "    .dataframe tbody tr th:only-of-type {\n",
       "        vertical-align: middle;\n",
       "    }\n",
       "\n",
       "    .dataframe tbody tr th {\n",
       "        vertical-align: top;\n",
       "    }\n",
       "\n",
       "    .dataframe thead th {\n",
       "        text-align: right;\n",
       "    }\n",
       "</style>\n",
       "<table border=\"1\" class=\"dataframe\">\n",
       "  <thead>\n",
       "    <tr style=\"text-align: right;\">\n",
       "      <th></th>\n",
       "      <th>Year</th>\n",
       "      <th>Month</th>\n",
       "      <th>County</th>\n",
       "      <th>State</th>\n",
       "      <th>Cases</th>\n",
       "      <th>Year-Month</th>\n",
       "    </tr>\n",
       "  </thead>\n",
       "  <tbody>\n",
       "    <tr>\n",
       "      <th>0</th>\n",
       "      <td>2012</td>\n",
       "      <td>1</td>\n",
       "      <td>Culberson</td>\n",
       "      <td>Texas</td>\n",
       "      <td>0</td>\n",
       "      <td>2012-1</td>\n",
       "    </tr>\n",
       "    <tr>\n",
       "      <th>1</th>\n",
       "      <td>2012</td>\n",
       "      <td>2</td>\n",
       "      <td>Culberson</td>\n",
       "      <td>Texas</td>\n",
       "      <td>0</td>\n",
       "      <td>2012-2</td>\n",
       "    </tr>\n",
       "    <tr>\n",
       "      <th>2</th>\n",
       "      <td>2012</td>\n",
       "      <td>3</td>\n",
       "      <td>Culberson</td>\n",
       "      <td>Texas</td>\n",
       "      <td>0</td>\n",
       "      <td>2012-3</td>\n",
       "    </tr>\n",
       "    <tr>\n",
       "      <th>3</th>\n",
       "      <td>2012</td>\n",
       "      <td>4</td>\n",
       "      <td>Culberson</td>\n",
       "      <td>Texas</td>\n",
       "      <td>0</td>\n",
       "      <td>2012-4</td>\n",
       "    </tr>\n",
       "    <tr>\n",
       "      <th>4</th>\n",
       "      <td>2012</td>\n",
       "      <td>5</td>\n",
       "      <td>Culberson</td>\n",
       "      <td>Texas</td>\n",
       "      <td>0</td>\n",
       "      <td>2012-5</td>\n",
       "    </tr>\n",
       "  </tbody>\n",
       "</table>\n",
       "</div>"
      ],
      "text/plain": [
       "   Year  Month     County  State  Cases Year-Month\n",
       "0  2012      1  Culberson  Texas      0     2012-1\n",
       "1  2012      2  Culberson  Texas      0     2012-2\n",
       "2  2012      3  Culberson  Texas      0     2012-3\n",
       "3  2012      4  Culberson  Texas      0     2012-4\n",
       "4  2012      5  Culberson  Texas      0     2012-5"
      ]
     },
     "execution_count": 201,
     "metadata": {},
     "output_type": "execute_result"
    }
   ],
   "source": [
    "# check out 2012 - 2021 Guadalupe Mountains County data\n",
    "df_covid_cases_CU_12_21.head()"
   ]
  },
  {
   "cell_type": "code",
   "execution_count": 239,
   "metadata": {},
   "outputs": [
    {
     "data": {
      "text/html": [
       "<div>\n",
       "<style scoped>\n",
       "    .dataframe tbody tr th:only-of-type {\n",
       "        vertical-align: middle;\n",
       "    }\n",
       "\n",
       "    .dataframe tbody tr th {\n",
       "        vertical-align: top;\n",
       "    }\n",
       "\n",
       "    .dataframe thead th {\n",
       "        text-align: right;\n",
       "    }\n",
       "</style>\n",
       "<table border=\"1\" class=\"dataframe\">\n",
       "  <thead>\n",
       "    <tr style=\"text-align: right;\">\n",
       "      <th></th>\n",
       "      <th>Year</th>\n",
       "      <th>Month</th>\n",
       "      <th>County</th>\n",
       "      <th>State</th>\n",
       "      <th>Cases</th>\n",
       "      <th>Year-Month</th>\n",
       "    </tr>\n",
       "  </thead>\n",
       "  <tbody>\n",
       "    <tr>\n",
       "      <th>0</th>\n",
       "      <td>2012</td>\n",
       "      <td>1</td>\n",
       "      <td>Mariposa</td>\n",
       "      <td>California</td>\n",
       "      <td>0</td>\n",
       "      <td>2012-1</td>\n",
       "    </tr>\n",
       "    <tr>\n",
       "      <th>1</th>\n",
       "      <td>2012</td>\n",
       "      <td>2</td>\n",
       "      <td>Mariposa</td>\n",
       "      <td>California</td>\n",
       "      <td>0</td>\n",
       "      <td>2012-2</td>\n",
       "    </tr>\n",
       "    <tr>\n",
       "      <th>2</th>\n",
       "      <td>2012</td>\n",
       "      <td>3</td>\n",
       "      <td>Mariposa</td>\n",
       "      <td>California</td>\n",
       "      <td>0</td>\n",
       "      <td>2012-3</td>\n",
       "    </tr>\n",
       "    <tr>\n",
       "      <th>3</th>\n",
       "      <td>2012</td>\n",
       "      <td>4</td>\n",
       "      <td>Mariposa</td>\n",
       "      <td>California</td>\n",
       "      <td>0</td>\n",
       "      <td>2012-4</td>\n",
       "    </tr>\n",
       "    <tr>\n",
       "      <th>4</th>\n",
       "      <td>2012</td>\n",
       "      <td>5</td>\n",
       "      <td>Mariposa</td>\n",
       "      <td>California</td>\n",
       "      <td>0</td>\n",
       "      <td>2012-5</td>\n",
       "    </tr>\n",
       "  </tbody>\n",
       "</table>\n",
       "</div>"
      ],
      "text/plain": [
       "   Year  Month    County       State  Cases Year-Month\n",
       "0  2012      1  Mariposa  California      0     2012-1\n",
       "1  2012      2  Mariposa  California      0     2012-2\n",
       "2  2012      3  Mariposa  California      0     2012-3\n",
       "3  2012      4  Mariposa  California      0     2012-4\n",
       "4  2012      5  Mariposa  California      0     2012-5"
      ]
     },
     "execution_count": 239,
     "metadata": {},
     "output_type": "execute_result"
    }
   ],
   "source": [
    "# check out 2012 - 2021 Mariposa County data\n",
    "df_covid_cases_MR_12_21.head()\n"
   ]
  },
  {
   "cell_type": "code",
   "execution_count": 240,
   "metadata": {},
   "outputs": [
    {
     "data": {
      "text/html": [
       "<div>\n",
       "<style scoped>\n",
       "    .dataframe tbody tr th:only-of-type {\n",
       "        vertical-align: middle;\n",
       "    }\n",
       "\n",
       "    .dataframe tbody tr th {\n",
       "        vertical-align: top;\n",
       "    }\n",
       "\n",
       "    .dataframe thead th {\n",
       "        text-align: right;\n",
       "    }\n",
       "</style>\n",
       "<table border=\"1\" class=\"dataframe\">\n",
       "  <thead>\n",
       "    <tr style=\"text-align: right;\">\n",
       "      <th></th>\n",
       "      <th>Year</th>\n",
       "      <th>Month</th>\n",
       "      <th>County</th>\n",
       "      <th>State</th>\n",
       "      <th>Cases</th>\n",
       "      <th>Year-Month</th>\n",
       "    </tr>\n",
       "  </thead>\n",
       "  <tbody>\n",
       "    <tr>\n",
       "      <th>0</th>\n",
       "      <td>2012</td>\n",
       "      <td>1</td>\n",
       "      <td>Klamath</td>\n",
       "      <td>Oregon</td>\n",
       "      <td>0</td>\n",
       "      <td>2012-1</td>\n",
       "    </tr>\n",
       "    <tr>\n",
       "      <th>1</th>\n",
       "      <td>2012</td>\n",
       "      <td>2</td>\n",
       "      <td>Klamath</td>\n",
       "      <td>Oregon</td>\n",
       "      <td>0</td>\n",
       "      <td>2012-2</td>\n",
       "    </tr>\n",
       "    <tr>\n",
       "      <th>2</th>\n",
       "      <td>2012</td>\n",
       "      <td>3</td>\n",
       "      <td>Klamath</td>\n",
       "      <td>Oregon</td>\n",
       "      <td>0</td>\n",
       "      <td>2012-3</td>\n",
       "    </tr>\n",
       "    <tr>\n",
       "      <th>3</th>\n",
       "      <td>2012</td>\n",
       "      <td>4</td>\n",
       "      <td>Klamath</td>\n",
       "      <td>Oregon</td>\n",
       "      <td>0</td>\n",
       "      <td>2012-4</td>\n",
       "    </tr>\n",
       "    <tr>\n",
       "      <th>4</th>\n",
       "      <td>2012</td>\n",
       "      <td>5</td>\n",
       "      <td>Klamath</td>\n",
       "      <td>Oregon</td>\n",
       "      <td>0</td>\n",
       "      <td>2012-5</td>\n",
       "    </tr>\n",
       "  </tbody>\n",
       "</table>\n",
       "</div>"
      ],
      "text/plain": [
       "   Year  Month   County   State  Cases Year-Month\n",
       "0  2012      1  Klamath  Oregon      0     2012-1\n",
       "1  2012      2  Klamath  Oregon      0     2012-2\n",
       "2  2012      3  Klamath  Oregon      0     2012-3\n",
       "3  2012      4  Klamath  Oregon      0     2012-4\n",
       "4  2012      5  Klamath  Oregon      0     2012-5"
      ]
     },
     "execution_count": 240,
     "metadata": {},
     "output_type": "execute_result"
    }
   ],
   "source": [
    "# check out 2012 - 2021 Klamath County data\n",
    "df_covid_cases_KL_12_21.head()"
   ]
  },
  {
   "cell_type": "code",
   "execution_count": 241,
   "metadata": {},
   "outputs": [
    {
     "data": {
      "text/html": [
       "<div>\n",
       "<style scoped>\n",
       "    .dataframe tbody tr th:only-of-type {\n",
       "        vertical-align: middle;\n",
       "    }\n",
       "\n",
       "    .dataframe tbody tr th {\n",
       "        vertical-align: top;\n",
       "    }\n",
       "\n",
       "    .dataframe thead th {\n",
       "        text-align: right;\n",
       "    }\n",
       "</style>\n",
       "<table border=\"1\" class=\"dataframe\">\n",
       "  <thead>\n",
       "    <tr style=\"text-align: right;\">\n",
       "      <th></th>\n",
       "      <th>Year</th>\n",
       "      <th>Month</th>\n",
       "      <th>County</th>\n",
       "      <th>State</th>\n",
       "      <th>Cases</th>\n",
       "      <th>Year-Month</th>\n",
       "    </tr>\n",
       "  </thead>\n",
       "  <tbody>\n",
       "    <tr>\n",
       "      <th>0</th>\n",
       "      <td>2012</td>\n",
       "      <td>1</td>\n",
       "      <td>San Benito</td>\n",
       "      <td>California</td>\n",
       "      <td>0</td>\n",
       "      <td>2012-1</td>\n",
       "    </tr>\n",
       "    <tr>\n",
       "      <th>1</th>\n",
       "      <td>2012</td>\n",
       "      <td>2</td>\n",
       "      <td>San Benito</td>\n",
       "      <td>California</td>\n",
       "      <td>0</td>\n",
       "      <td>2012-2</td>\n",
       "    </tr>\n",
       "    <tr>\n",
       "      <th>2</th>\n",
       "      <td>2012</td>\n",
       "      <td>3</td>\n",
       "      <td>San Benito</td>\n",
       "      <td>California</td>\n",
       "      <td>0</td>\n",
       "      <td>2012-3</td>\n",
       "    </tr>\n",
       "    <tr>\n",
       "      <th>3</th>\n",
       "      <td>2012</td>\n",
       "      <td>4</td>\n",
       "      <td>San Benito</td>\n",
       "      <td>California</td>\n",
       "      <td>0</td>\n",
       "      <td>2012-4</td>\n",
       "    </tr>\n",
       "    <tr>\n",
       "      <th>4</th>\n",
       "      <td>2012</td>\n",
       "      <td>5</td>\n",
       "      <td>San Benito</td>\n",
       "      <td>California</td>\n",
       "      <td>0</td>\n",
       "      <td>2012-5</td>\n",
       "    </tr>\n",
       "  </tbody>\n",
       "</table>\n",
       "</div>"
      ],
      "text/plain": [
       "   Year  Month      County       State  Cases Year-Month\n",
       "0  2012      1  San Benito  California      0     2012-1\n",
       "1  2012      2  San Benito  California      0     2012-2\n",
       "2  2012      3  San Benito  California      0     2012-3\n",
       "3  2012      4  San Benito  California      0     2012-4\n",
       "4  2012      5  San Benito  California      0     2012-5"
      ]
     },
     "execution_count": 241,
     "metadata": {},
     "output_type": "execute_result"
    }
   ],
   "source": [
    "# check out 2012 - 2021 San Benito County data\n",
    "df_covid_cases_SB_12_21.head()"
   ]
  },
  {
   "cell_type": "markdown",
   "metadata": {},
   "source": [
    "# Data Analysis & Results"
   ]
  },
  {
   "cell_type": "markdown",
   "metadata": {},
   "source": [
    "Now, we want to carry out exploratory analysis on our datasets so that we can have a better understanding of the NP and covid case distributions and the possible relationship between them. To view distributions of each dataset, we will first merge the corresponding NP dataframes with covid cases dataframe and plot them. Next, we will run linear regression models for each NP and visualize the averages across the NPs."
   ]
  },
  {
   "cell_type": "code",
   "execution_count": 249,
   "metadata": {},
   "outputs": [
    {
     "data": {
      "text/html": [
       "<div>\n",
       "<style scoped>\n",
       "    .dataframe tbody tr th:only-of-type {\n",
       "        vertical-align: middle;\n",
       "    }\n",
       "\n",
       "    .dataframe tbody tr th {\n",
       "        vertical-align: top;\n",
       "    }\n",
       "\n",
       "    .dataframe thead th {\n",
       "        text-align: right;\n",
       "    }\n",
       "</style>\n",
       "<table border=\"1\" class=\"dataframe\">\n",
       "  <thead>\n",
       "    <tr style=\"text-align: right;\">\n",
       "      <th></th>\n",
       "      <th>Year</th>\n",
       "      <th>Month</th>\n",
       "      <th>County</th>\n",
       "      <th>State</th>\n",
       "      <th>Cases</th>\n",
       "      <th>Year-Month</th>\n",
       "      <th>GRCA_Yearly_Average_Visitation_Numbers</th>\n",
       "    </tr>\n",
       "  </thead>\n",
       "  <tbody>\n",
       "    <tr>\n",
       "      <th>0</th>\n",
       "      <td>2012</td>\n",
       "      <td>1</td>\n",
       "      <td>Coconino</td>\n",
       "      <td>Arizona</td>\n",
       "      <td>0</td>\n",
       "      <td>2012-1</td>\n",
       "      <td>368446.0</td>\n",
       "    </tr>\n",
       "    <tr>\n",
       "      <th>1</th>\n",
       "      <td>2012</td>\n",
       "      <td>2</td>\n",
       "      <td>Coconino</td>\n",
       "      <td>Arizona</td>\n",
       "      <td>0</td>\n",
       "      <td>2012-2</td>\n",
       "      <td>368446.0</td>\n",
       "    </tr>\n",
       "  </tbody>\n",
       "</table>\n",
       "</div>"
      ],
      "text/plain": [
       "   Year  Month    County    State  Cases Year-Month  \\\n",
       "0  2012      1  Coconino  Arizona      0     2012-1   \n",
       "1  2012      2  Coconino  Arizona      0     2012-2   \n",
       "\n",
       "   GRCA_Yearly_Average_Visitation_Numbers  \n",
       "0                                368446.0  \n",
       "1                                368446.0  "
      ]
     },
     "execution_count": 249,
     "metadata": {},
     "output_type": "execute_result"
    }
   ],
   "source": [
    "# combine each park and covid case dataset\n",
    "df_GRCA_covid_cases_12_21 = pd.merge(df_covid_cases_CN_12_21, df_GRCA_avg)[:2]\n",
    "df_GRCA_covid_cases_12_21.head()"
   ]
  },
  {
   "cell_type": "code",
   "execution_count": 242,
   "metadata": {},
   "outputs": [
    {
     "data": {
      "text/html": [
       "<div>\n",
       "<style scoped>\n",
       "    .dataframe tbody tr th:only-of-type {\n",
       "        vertical-align: middle;\n",
       "    }\n",
       "\n",
       "    .dataframe tbody tr th {\n",
       "        vertical-align: top;\n",
       "    }\n",
       "\n",
       "    .dataframe thead th {\n",
       "        text-align: right;\n",
       "    }\n",
       "</style>\n",
       "<table border=\"1\" class=\"dataframe\">\n",
       "  <thead>\n",
       "    <tr style=\"text-align: right;\">\n",
       "      <th></th>\n",
       "      <th>Year</th>\n",
       "      <th>Month</th>\n",
       "      <th>County</th>\n",
       "      <th>State</th>\n",
       "      <th>Cases</th>\n",
       "      <th>Year-Month</th>\n",
       "      <th>MEVE_Yearly_Average_Visitation_Numbers</th>\n",
       "    </tr>\n",
       "  </thead>\n",
       "  <tbody>\n",
       "    <tr>\n",
       "      <th>0</th>\n",
       "      <td>2012</td>\n",
       "      <td>1</td>\n",
       "      <td>Montezuma</td>\n",
       "      <td>Colorado</td>\n",
       "      <td>0</td>\n",
       "      <td>2012-1</td>\n",
       "      <td>40738.333333</td>\n",
       "    </tr>\n",
       "    <tr>\n",
       "      <th>1</th>\n",
       "      <td>2012</td>\n",
       "      <td>2</td>\n",
       "      <td>Montezuma</td>\n",
       "      <td>Colorado</td>\n",
       "      <td>0</td>\n",
       "      <td>2012-2</td>\n",
       "      <td>40738.333333</td>\n",
       "    </tr>\n",
       "  </tbody>\n",
       "</table>\n",
       "</div>"
      ],
      "text/plain": [
       "   Year  Month     County     State  Cases Year-Month  \\\n",
       "0  2012      1  Montezuma  Colorado      0     2012-1   \n",
       "1  2012      2  Montezuma  Colorado      0     2012-2   \n",
       "\n",
       "   MEVE_Yearly_Average_Visitation_Numbers  \n",
       "0                            40738.333333  \n",
       "1                            40738.333333  "
      ]
     },
     "execution_count": 242,
     "metadata": {},
     "output_type": "execute_result"
    }
   ],
   "source": [
    "df_MEVE_covid_cases_12_21 = pd.merge(df_covid_cases_MO_12_21, df_MEVE_avg)[:2]\n",
    "df_MEVE_covid_cases_12_21.head()"
   ]
  },
  {
   "cell_type": "code",
   "execution_count": 244,
   "metadata": {},
   "outputs": [
    {
     "data": {
      "text/html": [
       "<div>\n",
       "<style scoped>\n",
       "    .dataframe tbody tr th:only-of-type {\n",
       "        vertical-align: middle;\n",
       "    }\n",
       "\n",
       "    .dataframe tbody tr th {\n",
       "        vertical-align: top;\n",
       "    }\n",
       "\n",
       "    .dataframe thead th {\n",
       "        text-align: right;\n",
       "    }\n",
       "</style>\n",
       "<table border=\"1\" class=\"dataframe\">\n",
       "  <thead>\n",
       "    <tr style=\"text-align: right;\">\n",
       "      <th></th>\n",
       "      <th>Year</th>\n",
       "      <th>Month</th>\n",
       "      <th>County</th>\n",
       "      <th>State</th>\n",
       "      <th>Cases</th>\n",
       "      <th>Year-Month</th>\n",
       "      <th>GUMO_Yearly_Average_Visitation_Numbers</th>\n",
       "    </tr>\n",
       "  </thead>\n",
       "  <tbody>\n",
       "    <tr>\n",
       "      <th>0</th>\n",
       "      <td>2012</td>\n",
       "      <td>1</td>\n",
       "      <td>Culberson</td>\n",
       "      <td>Texas</td>\n",
       "      <td>0</td>\n",
       "      <td>2012-1</td>\n",
       "      <td>13280.0</td>\n",
       "    </tr>\n",
       "    <tr>\n",
       "      <th>1</th>\n",
       "      <td>2012</td>\n",
       "      <td>2</td>\n",
       "      <td>Culberson</td>\n",
       "      <td>Texas</td>\n",
       "      <td>0</td>\n",
       "      <td>2012-2</td>\n",
       "      <td>13280.0</td>\n",
       "    </tr>\n",
       "  </tbody>\n",
       "</table>\n",
       "</div>"
      ],
      "text/plain": [
       "   Year  Month     County  State  Cases Year-Month  \\\n",
       "0  2012      1  Culberson  Texas      0     2012-1   \n",
       "1  2012      2  Culberson  Texas      0     2012-2   \n",
       "\n",
       "   GUMO_Yearly_Average_Visitation_Numbers  \n",
       "0                                 13280.0  \n",
       "1                                 13280.0  "
      ]
     },
     "execution_count": 244,
     "metadata": {},
     "output_type": "execute_result"
    }
   ],
   "source": [
    "df_GUMO_covid_cases_12_21 = pd.merge(df_covid_cases_CU_12_21, df_GUMO_avg)[:2]\n",
    "df_GUMO_covid_cases_12_21.head()"
   ]
  },
  {
   "cell_type": "code",
   "execution_count": 245,
   "metadata": {},
   "outputs": [
    {
     "data": {
      "text/html": [
       "<div>\n",
       "<style scoped>\n",
       "    .dataframe tbody tr th:only-of-type {\n",
       "        vertical-align: middle;\n",
       "    }\n",
       "\n",
       "    .dataframe tbody tr th {\n",
       "        vertical-align: top;\n",
       "    }\n",
       "\n",
       "    .dataframe thead th {\n",
       "        text-align: right;\n",
       "    }\n",
       "</style>\n",
       "<table border=\"1\" class=\"dataframe\">\n",
       "  <thead>\n",
       "    <tr style=\"text-align: right;\">\n",
       "      <th></th>\n",
       "      <th>Year</th>\n",
       "      <th>Month</th>\n",
       "      <th>County</th>\n",
       "      <th>State</th>\n",
       "      <th>Cases</th>\n",
       "      <th>Year-Month</th>\n",
       "      <th>YOSE_Yearly_Average_Visitation_Numbers</th>\n",
       "    </tr>\n",
       "  </thead>\n",
       "  <tbody>\n",
       "    <tr>\n",
       "      <th>0</th>\n",
       "      <td>2012</td>\n",
       "      <td>1</td>\n",
       "      <td>Mariposa</td>\n",
       "      <td>California</td>\n",
       "      <td>0</td>\n",
       "      <td>2012-1</td>\n",
       "      <td>321117.0</td>\n",
       "    </tr>\n",
       "    <tr>\n",
       "      <th>1</th>\n",
       "      <td>2012</td>\n",
       "      <td>2</td>\n",
       "      <td>Mariposa</td>\n",
       "      <td>California</td>\n",
       "      <td>0</td>\n",
       "      <td>2012-2</td>\n",
       "      <td>321117.0</td>\n",
       "    </tr>\n",
       "  </tbody>\n",
       "</table>\n",
       "</div>"
      ],
      "text/plain": [
       "   Year  Month    County       State  Cases Year-Month  \\\n",
       "0  2012      1  Mariposa  California      0     2012-1   \n",
       "1  2012      2  Mariposa  California      0     2012-2   \n",
       "\n",
       "   YOSE_Yearly_Average_Visitation_Numbers  \n",
       "0                                321117.0  \n",
       "1                                321117.0  "
      ]
     },
     "execution_count": 245,
     "metadata": {},
     "output_type": "execute_result"
    }
   ],
   "source": [
    "df_YOSE_covid_cases_12_21 = pd.merge(df_covid_cases_MR_12_21, df_YOSE_avg)[:2]\n",
    "df_YOSE_covid_cases_12_21.head()"
   ]
  },
  {
   "cell_type": "code",
   "execution_count": 246,
   "metadata": {},
   "outputs": [
    {
     "data": {
      "text/html": [
       "<div>\n",
       "<style scoped>\n",
       "    .dataframe tbody tr th:only-of-type {\n",
       "        vertical-align: middle;\n",
       "    }\n",
       "\n",
       "    .dataframe tbody tr th {\n",
       "        vertical-align: top;\n",
       "    }\n",
       "\n",
       "    .dataframe thead th {\n",
       "        text-align: right;\n",
       "    }\n",
       "</style>\n",
       "<table border=\"1\" class=\"dataframe\">\n",
       "  <thead>\n",
       "    <tr style=\"text-align: right;\">\n",
       "      <th></th>\n",
       "      <th>Year</th>\n",
       "      <th>Month</th>\n",
       "      <th>County</th>\n",
       "      <th>State</th>\n",
       "      <th>Cases</th>\n",
       "      <th>Year-Month</th>\n",
       "      <th>CRLA_Yearly_Average_Visitation_Numbers</th>\n",
       "    </tr>\n",
       "  </thead>\n",
       "  <tbody>\n",
       "    <tr>\n",
       "      <th>0</th>\n",
       "      <td>2012</td>\n",
       "      <td>1</td>\n",
       "      <td>Klamath</td>\n",
       "      <td>Oregon</td>\n",
       "      <td>0</td>\n",
       "      <td>2012-1</td>\n",
       "      <td>37270.916667</td>\n",
       "    </tr>\n",
       "    <tr>\n",
       "      <th>1</th>\n",
       "      <td>2012</td>\n",
       "      <td>2</td>\n",
       "      <td>Klamath</td>\n",
       "      <td>Oregon</td>\n",
       "      <td>0</td>\n",
       "      <td>2012-2</td>\n",
       "      <td>37270.916667</td>\n",
       "    </tr>\n",
       "  </tbody>\n",
       "</table>\n",
       "</div>"
      ],
      "text/plain": [
       "   Year  Month   County   State  Cases Year-Month  \\\n",
       "0  2012      1  Klamath  Oregon      0     2012-1   \n",
       "1  2012      2  Klamath  Oregon      0     2012-2   \n",
       "\n",
       "   CRLA_Yearly_Average_Visitation_Numbers  \n",
       "0                            37270.916667  \n",
       "1                            37270.916667  "
      ]
     },
     "execution_count": 246,
     "metadata": {},
     "output_type": "execute_result"
    }
   ],
   "source": [
    "df_CRLA_covid_cases_12_21 = pd.merge(df_covid_cases_KL_12_21, df_CRLA_avg)[:2]\n",
    "df_CRLA_covid_cases_12_21.head()"
   ]
  },
  {
   "cell_type": "code",
   "execution_count": 247,
   "metadata": {},
   "outputs": [
    {
     "data": {
      "text/html": [
       "<div>\n",
       "<style scoped>\n",
       "    .dataframe tbody tr th:only-of-type {\n",
       "        vertical-align: middle;\n",
       "    }\n",
       "\n",
       "    .dataframe tbody tr th {\n",
       "        vertical-align: top;\n",
       "    }\n",
       "\n",
       "    .dataframe thead th {\n",
       "        text-align: right;\n",
       "    }\n",
       "</style>\n",
       "<table border=\"1\" class=\"dataframe\">\n",
       "  <thead>\n",
       "    <tr style=\"text-align: right;\">\n",
       "      <th></th>\n",
       "      <th>Year</th>\n",
       "      <th>Month</th>\n",
       "      <th>County</th>\n",
       "      <th>State</th>\n",
       "      <th>Cases</th>\n",
       "      <th>Year-Month</th>\n",
       "      <th>PINN_Yearly_Average_Visitation_Numbers</th>\n",
       "    </tr>\n",
       "  </thead>\n",
       "  <tbody>\n",
       "    <tr>\n",
       "      <th>0</th>\n",
       "      <td>2012</td>\n",
       "      <td>1</td>\n",
       "      <td>San Benito</td>\n",
       "      <td>California</td>\n",
       "      <td>0</td>\n",
       "      <td>2012-1</td>\n",
       "      <td>18706.333333</td>\n",
       "    </tr>\n",
       "    <tr>\n",
       "      <th>1</th>\n",
       "      <td>2012</td>\n",
       "      <td>2</td>\n",
       "      <td>San Benito</td>\n",
       "      <td>California</td>\n",
       "      <td>0</td>\n",
       "      <td>2012-2</td>\n",
       "      <td>18706.333333</td>\n",
       "    </tr>\n",
       "  </tbody>\n",
       "</table>\n",
       "</div>"
      ],
      "text/plain": [
       "   Year  Month      County       State  Cases Year-Month  \\\n",
       "0  2012      1  San Benito  California      0     2012-1   \n",
       "1  2012      2  San Benito  California      0     2012-2   \n",
       "\n",
       "   PINN_Yearly_Average_Visitation_Numbers  \n",
       "0                            18706.333333  \n",
       "1                            18706.333333  "
      ]
     },
     "execution_count": 247,
     "metadata": {},
     "output_type": "execute_result"
    }
   ],
   "source": [
    "df_PINN_covid_cases_12_21 = pd.merge(df_covid_cases_SB_12_21, df_PINN_avg)[:2]\n",
    "df_PINN_covid_cases_12_21.head()"
   ]
  },
  {
   "cell_type": "code",
   "execution_count": 212,
   "metadata": {},
   "outputs": [],
   "source": [
    "# perform linear regressions (6)"
   ]
  },
  {
   "cell_type": "markdown",
   "metadata": {},
   "source": [
    "We are going to use Ordinary Least Squares (OLS) regression to estimate the relationship between our indepedent variable, number of COVID cases in the region a national park is located in/near, and the dependent variable, park visitation numbers. "
   ]
  },
  {
   "cell_type": "markdown",
   "metadata": {},
   "source": [
    "We extract COVID case data and national park visitation numbers for each park and place them in new data frames to perform OLS regression. "
   ]
  },
  {
   "cell_type": "code",
   "execution_count": 250,
   "metadata": {},
   "outputs": [],
   "source": [
    "# extract only Cases and Yearly Avg Visitation Numbers column for GRCA\n",
    "df_GRCA_cases_visits = df_GRCA_covid_cases_12_21[['Cases', 'GRCA_Yearly_Average_Visitation_Numbers']]"
   ]
  },
  {
   "cell_type": "code",
   "execution_count": 251,
   "metadata": {},
   "outputs": [],
   "source": [
    "# MEVE\n",
    "df_MEVE_cases_visits = df_MEVE_covid_cases_12_21[['Cases', 'MEVE_Yearly_Average_Visitation_Numbers']]"
   ]
  },
  {
   "cell_type": "code",
   "execution_count": 252,
   "metadata": {},
   "outputs": [],
   "source": [
    "# GUMO\n",
    "df_GUMO_cases_visits = df_GUMO_covid_cases_12_21[['Cases', 'GUMO_Yearly_Average_Visitation_Numbers']]"
   ]
  },
  {
   "cell_type": "code",
   "execution_count": 253,
   "metadata": {},
   "outputs": [],
   "source": [
    "# YOSE\n",
    "df_YOSE_cases_visits = df_YOSE_covid_cases_12_21[['Cases', 'YOSE_Yearly_Average_Visitation_Numbers']]"
   ]
  },
  {
   "cell_type": "code",
   "execution_count": 254,
   "metadata": {},
   "outputs": [],
   "source": [
    "# CRLA\n",
    "df_CRLA_cases_visits = df_CRLA_covid_cases_12_21[['Cases', 'CRLA_Yearly_Average_Visitation_Numbers']]"
   ]
  },
  {
   "cell_type": "code",
   "execution_count": 255,
   "metadata": {},
   "outputs": [],
   "source": [
    "# PINN\n",
    "df_PINN_cases_visits = df_PINN_covid_cases_12_21[['Cases', 'PINN_Yearly_Average_Visitation_Numbers']]"
   ]
  },
  {
   "cell_type": "markdown",
   "metadata": {},
   "source": [
    "Now, we can perform OLS regression. "
   ]
  },
  {
   "cell_type": "code",
   "execution_count": 256,
   "metadata": {},
   "outputs": [
    {
     "name": "stdout",
     "output_type": "stream",
     "text": [
      "                                      OLS Regression Results                                      \n",
      "==================================================================================================\n",
      "Dep. Variable:     GRCA_Yearly_Average_Visitation_Numbers   R-squared:                        -inf\n",
      "Model:                                                OLS   Adj. R-squared:                   -inf\n",
      "Method:                                     Least Squares   F-statistic:                       nan\n",
      "Date:                                    Mon, 14 Mar 2022   Prob (F-statistic):                nan\n",
      "Time:                                            19:32:06   Log-Likelihood:                 42.910\n",
      "No. Observations:                                       2   AIC:                            -83.82\n",
      "Df Residuals:                                           1   BIC:                            -85.13\n",
      "Df Model:                                               0                                         \n",
      "Covariance Type:                                nonrobust                                         \n",
      "==============================================================================\n",
      "                 coef    std err          t      P>|t|      [0.025      0.975]\n",
      "------------------------------------------------------------------------------\n",
      "Intercept   3.684e+05   1.16e-10   3.16e+15      0.000    3.68e+05    3.68e+05\n",
      "Cases               0          0        nan        nan           0           0\n",
      "==============================================================================\n",
      "Omnibus:                          nan   Durbin-Watson:                   0.000\n",
      "Prob(Omnibus):                    nan   Jarque-Bera (JB):                0.750\n",
      "Skew:                           0.000   Prob(JB):                        0.687\n",
      "Kurtosis:                       0.000   Cond. No.                          inf\n",
      "==============================================================================\n",
      "\n",
      "Notes:\n",
      "[1] Standard Errors assume that the covariance matrix of the errors is correctly specified.\n",
      "[2] The smallest eigenvalue is      0. This might indicate that there are\n",
      "strong multicollinearity problems or that the design matrix is singular.\n"
     ]
    },
    {
     "name": "stderr",
     "output_type": "stream",
     "text": [
      "C:\\Users\\eunic\\AppData\\Local\\Programs\\Python\\Python310\\lib\\site-packages\\statsmodels\\stats\\stattools.py:74: ValueWarning: omni_normtest is not valid with less than 8 observations; 2 samples were given.\n",
      "  warn(\"omni_normtest is not valid with less than 8 observations; %i \"\n",
      "C:\\Users\\eunic\\AppData\\Local\\Programs\\Python\\Python310\\lib\\site-packages\\statsmodels\\regression\\linear_model.py:1918: RuntimeWarning: divide by zero encountered in double_scalars\n",
      "  return np.sqrt(eigvals[0]/eigvals[-1])\n",
      "C:\\Users\\eunic\\AppData\\Local\\Programs\\Python\\Python310\\lib\\site-packages\\statsmodels\\regression\\linear_model.py:1736: RuntimeWarning: divide by zero encountered in double_scalars\n",
      "  return 1 - self.ssr/self.centered_tss\n"
     ]
    }
   ],
   "source": [
    "# OLS regression model for GRCA \n",
    "outcome_GRCA, predictors_GRCA = patsy.dmatrices('GRCA_Yearly_Average_Visitation_Numbers ~ Cases', df_GRCA_cases_visits)\n",
    "mod_GRCA = sm.OLS(outcome_GRCA, predictors_GRCA)\n",
    "res_GRCA = mod_GRCA.fit()\n",
    "print(res_GRCA.summary())"
   ]
  },
  {
   "cell_type": "code",
   "execution_count": 257,
   "metadata": {},
   "outputs": [
    {
     "name": "stdout",
     "output_type": "stream",
     "text": [
      "                                      OLS Regression Results                                      \n",
      "==================================================================================================\n",
      "Dep. Variable:     MEVE_Yearly_Average_Visitation_Numbers   R-squared:                        -inf\n",
      "Model:                                                OLS   Adj. R-squared:                   -inf\n",
      "Method:                                     Least Squares   F-statistic:                       nan\n",
      "Date:                                    Mon, 14 Mar 2022   Prob (F-statistic):                nan\n",
      "Time:                                            19:32:15   Log-Likelihood:                 47.069\n",
      "No. Observations:                                       2   AIC:                            -92.14\n",
      "Df Residuals:                                           1   BIC:                            -93.44\n",
      "Df Model:                                               0                                         \n",
      "Covariance Type:                                nonrobust                                         \n",
      "==============================================================================\n",
      "                 coef    std err          t      P>|t|      [0.025      0.975]\n",
      "------------------------------------------------------------------------------\n",
      "Intercept   4.074e+04   1.46e-11    2.8e+15      0.000    4.07e+04    4.07e+04\n",
      "Cases               0          0        nan        nan           0           0\n",
      "==============================================================================\n",
      "Omnibus:                          nan   Durbin-Watson:                   0.000\n",
      "Prob(Omnibus):                    nan   Jarque-Bera (JB):                0.750\n",
      "Skew:                           0.000   Prob(JB):                        0.687\n",
      "Kurtosis:                       0.000   Cond. No.                          inf\n",
      "==============================================================================\n",
      "\n",
      "Notes:\n",
      "[1] Standard Errors assume that the covariance matrix of the errors is correctly specified.\n",
      "[2] The smallest eigenvalue is      0. This might indicate that there are\n",
      "strong multicollinearity problems or that the design matrix is singular.\n"
     ]
    },
    {
     "name": "stderr",
     "output_type": "stream",
     "text": [
      "C:\\Users\\eunic\\AppData\\Local\\Programs\\Python\\Python310\\lib\\site-packages\\statsmodels\\stats\\stattools.py:74: ValueWarning: omni_normtest is not valid with less than 8 observations; 2 samples were given.\n",
      "  warn(\"omni_normtest is not valid with less than 8 observations; %i \"\n",
      "C:\\Users\\eunic\\AppData\\Local\\Programs\\Python\\Python310\\lib\\site-packages\\statsmodels\\regression\\linear_model.py:1918: RuntimeWarning: divide by zero encountered in double_scalars\n",
      "  return np.sqrt(eigvals[0]/eigvals[-1])\n",
      "C:\\Users\\eunic\\AppData\\Local\\Programs\\Python\\Python310\\lib\\site-packages\\statsmodels\\regression\\linear_model.py:1736: RuntimeWarning: divide by zero encountered in double_scalars\n",
      "  return 1 - self.ssr/self.centered_tss\n"
     ]
    }
   ],
   "source": [
    "# OLS regression model for MEVE\n",
    "outcome_MEVE, predictors_MEVE = patsy.dmatrices('MEVE_Yearly_Average_Visitation_Numbers ~ Cases', df_MEVE_cases_visits)\n",
    "mod_MEVE = sm.OLS(outcome_MEVE, predictors_MEVE)\n",
    "res_MEVE = mod_MEVE.fit()\n",
    "print(res_MEVE.summary())"
   ]
  },
  {
   "cell_type": "code",
   "execution_count": 258,
   "metadata": {},
   "outputs": [
    {
     "name": "stdout",
     "output_type": "stream",
     "text": [
      "                                      OLS Regression Results                                      \n",
      "==================================================================================================\n",
      "Dep. Variable:     GUMO_Yearly_Average_Visitation_Numbers   R-squared:                        -inf\n",
      "Model:                                                OLS   Adj. R-squared:                   -inf\n",
      "Method:                                     Least Squares   F-statistic:                       nan\n",
      "Date:                                    Mon, 14 Mar 2022   Prob (F-statistic):                nan\n",
      "Time:                                            19:32:21   Log-Likelihood:                 49.030\n",
      "No. Observations:                                       2   AIC:                            -96.06\n",
      "Df Residuals:                                           1   BIC:                            -97.37\n",
      "Df Model:                                               0                                         \n",
      "Covariance Type:                                nonrobust                                         \n",
      "==============================================================================\n",
      "                 coef    std err          t      P>|t|      [0.025      0.975]\n",
      "------------------------------------------------------------------------------\n",
      "Intercept   1.328e+04   5.46e-12   2.43e+15      0.000    1.33e+04    1.33e+04\n",
      "Cases               0          0        nan        nan           0           0\n",
      "==============================================================================\n",
      "Omnibus:                          nan   Durbin-Watson:                   0.000\n",
      "Prob(Omnibus):                    nan   Jarque-Bera (JB):                0.750\n",
      "Skew:                           0.000   Prob(JB):                        0.687\n",
      "Kurtosis:                       0.000   Cond. No.                          inf\n",
      "==============================================================================\n",
      "\n",
      "Notes:\n",
      "[1] Standard Errors assume that the covariance matrix of the errors is correctly specified.\n",
      "[2] The smallest eigenvalue is      0. This might indicate that there are\n",
      "strong multicollinearity problems or that the design matrix is singular.\n"
     ]
    },
    {
     "name": "stderr",
     "output_type": "stream",
     "text": [
      "C:\\Users\\eunic\\AppData\\Local\\Programs\\Python\\Python310\\lib\\site-packages\\statsmodels\\stats\\stattools.py:74: ValueWarning: omni_normtest is not valid with less than 8 observations; 2 samples were given.\n",
      "  warn(\"omni_normtest is not valid with less than 8 observations; %i \"\n",
      "C:\\Users\\eunic\\AppData\\Local\\Programs\\Python\\Python310\\lib\\site-packages\\statsmodels\\regression\\linear_model.py:1918: RuntimeWarning: divide by zero encountered in double_scalars\n",
      "  return np.sqrt(eigvals[0]/eigvals[-1])\n",
      "C:\\Users\\eunic\\AppData\\Local\\Programs\\Python\\Python310\\lib\\site-packages\\statsmodels\\regression\\linear_model.py:1736: RuntimeWarning: divide by zero encountered in double_scalars\n",
      "  return 1 - self.ssr/self.centered_tss\n"
     ]
    }
   ],
   "source": [
    "# OLS regression model for GUMO \n",
    "outcome_GUMO, predictors_GUMO = patsy.dmatrices('GUMO_Yearly_Average_Visitation_Numbers ~ Cases', df_GUMO_cases_visits)\n",
    "mod_GUMO = sm.OLS(outcome_GUMO, predictors_GUMO)\n",
    "res_GUMO = mod_GUMO.fit()\n",
    "print(res_GUMO.summary())"
   ]
  },
  {
   "cell_type": "code",
   "execution_count": 259,
   "metadata": {},
   "outputs": [
    {
     "name": "stdout",
     "output_type": "stream",
     "text": [
      "                                      OLS Regression Results                                      \n",
      "==================================================================================================\n",
      "Dep. Variable:     YOSE_Yearly_Average_Visitation_Numbers   R-squared:                        -inf\n",
      "Model:                                                OLS   Adj. R-squared:                   -inf\n",
      "Method:                                     Least Squares   F-statistic:                       nan\n",
      "Date:                                    Mon, 14 Mar 2022   Prob (F-statistic):                nan\n",
      "Time:                                            19:32:25   Log-Likelihood:                 42.910\n",
      "No. Observations:                                       2   AIC:                            -83.82\n",
      "Df Residuals:                                           1   BIC:                            -85.13\n",
      "Df Model:                                               0                                         \n",
      "Covariance Type:                                nonrobust                                         \n",
      "==============================================================================\n",
      "                 coef    std err          t      P>|t|      [0.025      0.975]\n",
      "------------------------------------------------------------------------------\n",
      "Intercept   3.211e+05   1.16e-10   2.76e+15      0.000    3.21e+05    3.21e+05\n",
      "Cases               0          0        nan        nan           0           0\n",
      "==============================================================================\n",
      "Omnibus:                          nan   Durbin-Watson:                   0.000\n",
      "Prob(Omnibus):                    nan   Jarque-Bera (JB):                0.750\n",
      "Skew:                           0.000   Prob(JB):                        0.687\n",
      "Kurtosis:                       0.000   Cond. No.                          inf\n",
      "==============================================================================\n",
      "\n",
      "Notes:\n",
      "[1] Standard Errors assume that the covariance matrix of the errors is correctly specified.\n",
      "[2] The smallest eigenvalue is      0. This might indicate that there are\n",
      "strong multicollinearity problems or that the design matrix is singular.\n"
     ]
    },
    {
     "name": "stderr",
     "output_type": "stream",
     "text": [
      "C:\\Users\\eunic\\AppData\\Local\\Programs\\Python\\Python310\\lib\\site-packages\\statsmodels\\stats\\stattools.py:74: ValueWarning: omni_normtest is not valid with less than 8 observations; 2 samples were given.\n",
      "  warn(\"omni_normtest is not valid with less than 8 observations; %i \"\n",
      "C:\\Users\\eunic\\AppData\\Local\\Programs\\Python\\Python310\\lib\\site-packages\\statsmodels\\regression\\linear_model.py:1918: RuntimeWarning: divide by zero encountered in double_scalars\n",
      "  return np.sqrt(eigvals[0]/eigvals[-1])\n",
      "C:\\Users\\eunic\\AppData\\Local\\Programs\\Python\\Python310\\lib\\site-packages\\statsmodels\\regression\\linear_model.py:1736: RuntimeWarning: divide by zero encountered in double_scalars\n",
      "  return 1 - self.ssr/self.centered_tss\n"
     ]
    }
   ],
   "source": [
    "# OLS regression model for YOSE \n",
    "outcome_YOSE, predictors_YOSE = patsy.dmatrices('YOSE_Yearly_Average_Visitation_Numbers ~ Cases', df_YOSE_cases_visits)\n",
    "mod_YOSE = sm.OLS(outcome_YOSE, predictors_YOSE)\n",
    "res_YOSE = mod_YOSE.fit()\n",
    "print(res_YOSE.summary())"
   ]
  },
  {
   "cell_type": "code",
   "execution_count": 260,
   "metadata": {},
   "outputs": [
    {
     "name": "stdout",
     "output_type": "stream",
     "text": [
      "                                      OLS Regression Results                                      \n",
      "==================================================================================================\n",
      "Dep. Variable:     CRLA_Yearly_Average_Visitation_Numbers   R-squared:                        -inf\n",
      "Model:                                                OLS   Adj. R-squared:                   -inf\n",
      "Method:                                     Least Squares   F-statistic:                       nan\n",
      "Date:                                    Mon, 14 Mar 2022   Prob (F-statistic):                nan\n",
      "Time:                                            19:32:31   Log-Likelihood:                 47.069\n",
      "No. Observations:                                       2   AIC:                            -92.14\n",
      "Df Residuals:                                           1   BIC:                            -93.44\n",
      "Df Model:                                               0                                         \n",
      "Covariance Type:                                nonrobust                                         \n",
      "==============================================================================\n",
      "                 coef    std err          t      P>|t|      [0.025      0.975]\n",
      "------------------------------------------------------------------------------\n",
      "Intercept   3.727e+04   1.46e-11   2.56e+15      0.000    3.73e+04    3.73e+04\n",
      "Cases               0          0        nan        nan           0           0\n",
      "==============================================================================\n",
      "Omnibus:                          nan   Durbin-Watson:                   0.000\n",
      "Prob(Omnibus):                    nan   Jarque-Bera (JB):                0.750\n",
      "Skew:                           0.000   Prob(JB):                        0.687\n",
      "Kurtosis:                       0.000   Cond. No.                          inf\n",
      "==============================================================================\n",
      "\n",
      "Notes:\n",
      "[1] Standard Errors assume that the covariance matrix of the errors is correctly specified.\n",
      "[2] The smallest eigenvalue is      0. This might indicate that there are\n",
      "strong multicollinearity problems or that the design matrix is singular.\n"
     ]
    },
    {
     "name": "stderr",
     "output_type": "stream",
     "text": [
      "C:\\Users\\eunic\\AppData\\Local\\Programs\\Python\\Python310\\lib\\site-packages\\statsmodels\\stats\\stattools.py:74: ValueWarning: omni_normtest is not valid with less than 8 observations; 2 samples were given.\n",
      "  warn(\"omni_normtest is not valid with less than 8 observations; %i \"\n",
      "C:\\Users\\eunic\\AppData\\Local\\Programs\\Python\\Python310\\lib\\site-packages\\statsmodels\\regression\\linear_model.py:1918: RuntimeWarning: divide by zero encountered in double_scalars\n",
      "  return np.sqrt(eigvals[0]/eigvals[-1])\n",
      "C:\\Users\\eunic\\AppData\\Local\\Programs\\Python\\Python310\\lib\\site-packages\\statsmodels\\regression\\linear_model.py:1736: RuntimeWarning: divide by zero encountered in double_scalars\n",
      "  return 1 - self.ssr/self.centered_tss\n"
     ]
    }
   ],
   "source": [
    "# OLS regression model for CRLA\n",
    "outcome_CRLA, predictors_CRLA = patsy.dmatrices('CRLA_Yearly_Average_Visitation_Numbers ~ Cases', df_CRLA_cases_visits)\n",
    "mod_CRLA = sm.OLS(outcome_CRLA, predictors_CRLA)\n",
    "res_CRLA = mod_CRLA.fit()\n",
    "print(res_CRLA.summary())"
   ]
  },
  {
   "cell_type": "code",
   "execution_count": 261,
   "metadata": {},
   "outputs": [
    {
     "name": "stdout",
     "output_type": "stream",
     "text": [
      "                                      OLS Regression Results                                      \n",
      "==================================================================================================\n",
      "Dep. Variable:     PINN_Yearly_Average_Visitation_Numbers   R-squared:                        -inf\n",
      "Model:                                                OLS   Adj. R-squared:                   -inf\n",
      "Method:                                     Least Squares   F-statistic:                       nan\n",
      "Date:                                    Mon, 14 Mar 2022   Prob (F-statistic):                nan\n",
      "Time:                                            19:32:49   Log-Likelihood:                 48.455\n",
      "No. Observations:                                       2   AIC:                            -94.91\n",
      "Df Residuals:                                           1   BIC:                            -96.22\n",
      "Df Model:                                               0                                         \n",
      "Covariance Type:                                nonrobust                                         \n",
      "==============================================================================\n",
      "                 coef    std err          t      P>|t|      [0.025      0.975]\n",
      "------------------------------------------------------------------------------\n",
      "Intercept   1.871e+04   7.28e-12   2.57e+15      0.000    1.87e+04    1.87e+04\n",
      "Cases               0          0        nan        nan           0           0\n",
      "==============================================================================\n",
      "Omnibus:                          nan   Durbin-Watson:                   0.000\n",
      "Prob(Omnibus):                    nan   Jarque-Bera (JB):                0.750\n",
      "Skew:                           0.000   Prob(JB):                        0.687\n",
      "Kurtosis:                       0.000   Cond. No.                          inf\n",
      "==============================================================================\n",
      "\n",
      "Notes:\n",
      "[1] Standard Errors assume that the covariance matrix of the errors is correctly specified.\n",
      "[2] The smallest eigenvalue is      0. This might indicate that there are\n",
      "strong multicollinearity problems or that the design matrix is singular.\n"
     ]
    },
    {
     "name": "stderr",
     "output_type": "stream",
     "text": [
      "C:\\Users\\eunic\\AppData\\Local\\Programs\\Python\\Python310\\lib\\site-packages\\statsmodels\\stats\\stattools.py:74: ValueWarning: omni_normtest is not valid with less than 8 observations; 2 samples were given.\n",
      "  warn(\"omni_normtest is not valid with less than 8 observations; %i \"\n",
      "C:\\Users\\eunic\\AppData\\Local\\Programs\\Python\\Python310\\lib\\site-packages\\statsmodels\\regression\\linear_model.py:1918: RuntimeWarning: divide by zero encountered in double_scalars\n",
      "  return np.sqrt(eigvals[0]/eigvals[-1])\n",
      "C:\\Users\\eunic\\AppData\\Local\\Programs\\Python\\Python310\\lib\\site-packages\\statsmodels\\regression\\linear_model.py:1736: RuntimeWarning: divide by zero encountered in double_scalars\n",
      "  return 1 - self.ssr/self.centered_tss\n"
     ]
    }
   ],
   "source": [
    "# OLS regression model for PINN\n",
    "outcome_PINN, predictors_PINN = patsy.dmatrices('PINN_Yearly_Average_Visitation_Numbers ~ Cases', df_PINN_cases_visits)\n",
    "mod_PINN = sm.OLS(outcome_PINN, predictors_PINN)\n",
    "res_PINN = mod_PINN.fit()\n",
    "print(res_PINN.summary())"
   ]
  },
  {
   "cell_type": "markdown",
   "metadata": {},
   "source": [
    "The OLS regression results for each park show us that we might have strong multicollinearity or other numerical problems. This finding reveals that we might have more than one independent variable at play in our model. These independent variables all may be correlated as well and a change in one independent variable can lead to changes in another independent variable."
   ]
  },
  {
   "cell_type": "markdown",
   "metadata": {},
   "source": [
    "Next, we plot the monthly visitation rates for each park and see if there are any general trends each park has over the course of an average year. "
   ]
  },
  {
   "cell_type": "code",
   "execution_count": 262,
   "metadata": {},
   "outputs": [
    {
     "data": {
      "image/png": "[encoded data removed]",
      "text/plain": [
       "<Figure size 864x360 with 1 Axes>"
      ]
     },
     "metadata": {},
     "output_type": "display_data"
    }
   ],
   "source": [
    "plt.plot(df_GRCA_month['Year-Month'], df_GRCA_month['GRCA_Visitation'], label='GRCA')\n",
    "plt.plot(df_MEVE_month['Year-Month'], df_MEVE_month['MEVE_Visitation'], label='MEVE')\n",
    "plt.plot(df_GUMO_month['Year-Month'], df_GUMO_month['GUMO_Visitation'], label='GUMO')\n",
    "plt.plot(df_YOSE_month['Year-Month'], df_YOSE_month['YOSE_Visitation'], label='YOSE')\n",
    "plt.plot(df_CRLA_month['Year-Month'], df_CRLA_month['CRLA_Visitation'], label='CRLA')\n",
    "plt.plot(df_PINN_month['Year-Month'], df_PINN_month['PINN_Visitation'], label='PINN')\n",
    "plt.xlabel('Year')\n",
    "plt.ylabel('Visitation')\n",
    "plt.xticks(np.arange(0,120,step=12))\n",
    "plt.xticks(fontsize=12)\n",
    "plt.legend(bbox_to_anchor=(1.02, 1))\n",
    "plt.show()"
   ]
  },
  {
   "cell_type": "markdown",
   "metadata": {},
   "source": [
    "The visitation line plot above combines the six national parks visits and visualizes how visit numbers rise and fall across the years. We notice that overall, most of the parks rise and fall around the same times annually. Parks like Grand Canyon and Yosemite have more visitors which makes sense because these are two of the most popular national parks in the US. In general, it seems like most of the parks recieve the most visitors in the middle of year, which is when the summer season starts. The park visits seem to fall again after this peak in the middle of the year, which coincides with the start of the American school year. \n"
   ]
  },
  {
   "cell_type": "markdown",
   "metadata": {},
   "source": [
    "Interestingly, when looking closer at Jan 2020, we notice that the dip that usually exists at the beginning of each year is even lower compared to other years. Early 2020 is when COVID-19 began to spread rapidly in the US and state governments instituted lockdown that closed down many operations in-person and transitioned many things to an online format. The lockdown also affected national parks and this factor was most likely the biggest contributer to the very low visit numbers in early 2020. "
   ]
  },
  {
   "cell_type": "markdown",
   "metadata": {},
   "source": [
    "We also will plot visitation numbers looking exclusively at Jan 2020 to past Oct 2021 to see if there are any special COVID patterns that affected national park visit numbers. "
   ]
  },
  {
   "cell_type": "code",
   "execution_count": 264,
   "metadata": {},
   "outputs": [
    {
     "data": {
      "image/png": "[encoded data removed]",
      "text/plain": [
       "<Figure size 864x360 with 1 Axes>"
      ]
     },
     "metadata": {},
     "output_type": "display_data"
    }
   ],
   "source": [
    "plt.plot(df_GRCA_20_21['Year-Month'], df_GRCA_20_21['GRCA_Visitation'], label='GRCA')\n",
    "plt.plot(df_MEVE_20_21['Year-Month'], df_MEVE_20_21['MEVE_Visitation'], label='MEVE')\n",
    "plt.plot(df_GUMO_20_21['Year-Month'], df_GUMO_20_21['GUMO_Visitation'], label='GUMO')\n",
    "plt.plot(df_YOSE_20_21['Year-Month'], df_YOSE_20_21['YOSE_Visitation'], label='YOSE')\n",
    "plt.plot(df_CRLA_20_21['Year-Month'], df_CRLA_20_21['CRLA_Visitation'], label='CRLA')\n",
    "plt.plot(df_PINN_20_21['Year-Month'], df_PINN_20_21['PINN_Visitation'], label='PINN')\n",
    "plt.xlabel('Year')\n",
    "plt.ylabel('Visitation')\n",
    "plt.xticks(np.arange(0,24,step=3))\n",
    "plt.xticks(fontsize=12)\n",
    "plt.legend(bbox_to_anchor=(1.02, 1))\n",
    "plt.show()"
   ]
  },
  {
   "cell_type": "markdown",
   "metadata": {},
   "source": [
    "This plot from Jan 2020 to past Oct 2021 shows us some interesting trends across montly visits since the pandemic began. The first thing to notice is how all of the parks we are analyzing recieved 0 visits in April 2020, which is right about when the government lockdown began because COVID cases were spreading quickly. We can see the effect of the state lockdowns much clearer in this graph than in the one above that showed us yearly patterns. We can also see a rapid rise in vists after April 2020 in some of the parks such as Grand Canyon, Yosemite, and Crater Lake. This rise may be attributed to the fact that generally, more people have the time to visit national parks when the summer season begins and the American school year ends. This rise also may be attributed to the fact that several state governments ended their lockdowns a few months after March 2020, when the pandemic began to spread in the US. \n",
    "For example, Crater Lakes (CRLA) is in Oregon and this state began its lockdown in the end of March 2020 and lifted the lockdown in mid May 2020 (information from https://en.wikipedia.org/wiki/COVID-19_lockdowns). When looking at our line graph, we notice a rise in visits to Crater Lake in around May 2020 that lasted until around end of July 2020. Visitors may have flocked to this park because they had the chance to since the lockdown began. When we look at visits to Crater LAke after about one year in the summer of 2021, we notice a more gradual rise in visits compared to the steeper rise in visits in the summer of 2020. We believe this difference is most likely due to the effect of the pandemic. "
   ]
  },
  {
   "cell_type": "markdown",
   "metadata": {},
   "source": [
    "Next, we will look at bar graphs that plot annual vistis to the national parks we're analyzing from 2012 to 2021. "
   ]
  },
  {
   "cell_type": "code",
   "execution_count": 266,
   "metadata": {},
   "outputs": [
    {
     "data": {
      "text/html": [
       "<div>\n",
       "<style scoped>\n",
       "    .dataframe tbody tr th:only-of-type {\n",
       "        vertical-align: middle;\n",
       "    }\n",
       "\n",
       "    .dataframe tbody tr th {\n",
       "        vertical-align: top;\n",
       "    }\n",
       "\n",
       "    .dataframe thead th {\n",
       "        text-align: right;\n",
       "    }\n",
       "</style>\n",
       "<table border=\"1\" class=\"dataframe\">\n",
       "  <thead>\n",
       "    <tr style=\"text-align: right;\">\n",
       "      <th></th>\n",
       "      <th>Year-Month</th>\n",
       "      <th>Year</th>\n",
       "      <th>Month</th>\n",
       "      <th>GRCA_Visitation</th>\n",
       "      <th>MEVE_Visitation</th>\n",
       "      <th>GUMO_Visitation</th>\n",
       "      <th>YOSE_Visitation</th>\n",
       "      <th>CRLA_Visitation</th>\n",
       "      <th>PINN_Visitation</th>\n",
       "    </tr>\n",
       "  </thead>\n",
       "  <tbody>\n",
       "    <tr>\n",
       "      <th>0</th>\n",
       "      <td>2020-Jan</td>\n",
       "      <td>2020</td>\n",
       "      <td>Jan</td>\n",
       "      <td>246460</td>\n",
       "      <td>6872</td>\n",
       "      <td>14151</td>\n",
       "      <td>132742</td>\n",
       "      <td>3492</td>\n",
       "      <td>23959</td>\n",
       "    </tr>\n",
       "    <tr>\n",
       "      <th>1</th>\n",
       "      <td>2020-Feb</td>\n",
       "      <td>2020</td>\n",
       "      <td>Feb</td>\n",
       "      <td>252897</td>\n",
       "      <td>7422</td>\n",
       "      <td>14716</td>\n",
       "      <td>167778</td>\n",
       "      <td>3351</td>\n",
       "      <td>22021</td>\n",
       "    </tr>\n",
       "    <tr>\n",
       "      <th>2</th>\n",
       "      <td>2020-Mar</td>\n",
       "      <td>2020</td>\n",
       "      <td>Mar</td>\n",
       "      <td>276002</td>\n",
       "      <td>10193</td>\n",
       "      <td>19505</td>\n",
       "      <td>92324</td>\n",
       "      <td>5304</td>\n",
       "      <td>18537</td>\n",
       "    </tr>\n",
       "    <tr>\n",
       "      <th>3</th>\n",
       "      <td>2020-Apr</td>\n",
       "      <td>2020</td>\n",
       "      <td>Apr</td>\n",
       "      <td>0</td>\n",
       "      <td>0</td>\n",
       "      <td>2321</td>\n",
       "      <td>0</td>\n",
       "      <td>686</td>\n",
       "      <td>1635</td>\n",
       "    </tr>\n",
       "    <tr>\n",
       "      <th>4</th>\n",
       "      <td>2020-May</td>\n",
       "      <td>2020</td>\n",
       "      <td>May</td>\n",
       "      <td>43397</td>\n",
       "      <td>3029</td>\n",
       "      <td>0</td>\n",
       "      <td>0</td>\n",
       "      <td>814</td>\n",
       "      <td>4640</td>\n",
       "    </tr>\n",
       "  </tbody>\n",
       "</table>\n",
       "</div>"
      ],
      "text/plain": [
       "  Year-Month  Year Month  GRCA_Visitation  MEVE_Visitation  GUMO_Visitation  \\\n",
       "0   2020-Jan  2020   Jan           246460             6872            14151   \n",
       "1   2020-Feb  2020   Feb           252897             7422            14716   \n",
       "2   2020-Mar  2020   Mar           276002            10193            19505   \n",
       "3   2020-Apr  2020   Apr                0                0             2321   \n",
       "4   2020-May  2020   May            43397             3029                0   \n",
       "\n",
       "   YOSE_Visitation  CRLA_Visitation  PINN_Visitation  \n",
       "0           132742             3492            23959  \n",
       "1           167778             3351            22021  \n",
       "2            92324             5304            18537  \n",
       "3                0              686             1635  \n",
       "4                0              814             4640  "
      ]
     },
     "execution_count": 266,
     "metadata": {},
     "output_type": "execute_result"
    }
   ],
   "source": [
    "# dataframe containing all parks \n",
    "df_20_21 = pd.concat([df_GRCA_20_21, df_MEVE_20_21['MEVE_Visitation'], df_GUMO_20_21['GUMO_Visitation'], df_YOSE_20_21['YOSE_Visitation'], df_CRLA_20_21['CRLA_Visitation'], df_PINN_20_21['PINN_Visitation']], axis=1)\n",
    "\n",
    "df_20_21.head()"
   ]
  },
  {
   "cell_type": "code",
   "execution_count": 268,
   "metadata": {},
   "outputs": [
    {
     "data": {
      "image/png": "[encoded data removed]",
      "text/plain": [
       "<Figure size 864x360 with 1 Axes>"
      ]
     },
     "metadata": {},
     "output_type": "display_data"
    }
   ],
   "source": [
    "sns.barplot(x='Year', y='GRCA_Yearly_Average_Visitation_Numbers', data=df_GRCA_avg)\n",
    "f1 = plt.gcf()"
   ]
  },
  {
   "cell_type": "code",
   "execution_count": 269,
   "metadata": {},
   "outputs": [
    {
     "data": {
      "image/png": "[encoded data removed]",
      "text/plain": [
       "<Figure size 864x360 with 1 Axes>"
      ]
     },
     "metadata": {},
     "output_type": "display_data"
    }
   ],
   "source": [
    "sns.barplot(x='Year', y='MEVE_Yearly_Average_Visitation_Numbers', data=df_MEVE_avg)\n",
    "f1 = plt.gcf()"
   ]
  },
  {
   "cell_type": "code",
   "execution_count": 270,
   "metadata": {},
   "outputs": [
    {
     "data": {
      "image/png": "[encoded data removed]",
      "text/plain": [
       "<Figure size 864x360 with 1 Axes>"
      ]
     },
     "metadata": {},
     "output_type": "display_data"
    }
   ],
   "source": [
    "sns.barplot(x='Year', y='GUMO_Yearly_Average_Visitation_Numbers', data=df_GUMO_avg)\n",
    "f1 = plt.gcf()"
   ]
  },
  {
   "cell_type": "code",
   "execution_count": 271,
   "metadata": {},
   "outputs": [
    {
     "data": {
      "image/png": "[encoded data removed]",
      "text/plain": [
       "<Figure size 864x360 with 1 Axes>"
      ]
     },
     "metadata": {},
     "output_type": "display_data"
    }
   ],
   "source": [
    "sns.barplot(x='Year', y='YOSE_Yearly_Average_Visitation_Numbers', data=df_YOSE_avg)\n",
    "f1 = plt.gcf()"
   ]
  },
  {
   "cell_type": "code",
   "execution_count": 272,
   "metadata": {},
   "outputs": [
    {
     "data": {
      "image/png": "[encoded data removed]",
      "text/plain": [
       "<Figure size 864x360 with 1 Axes>"
      ]
     },
     "metadata": {},
     "output_type": "display_data"
    }
   ],
   "source": [
    "sns.barplot(x='Year', y='CRLA_Yearly_Average_Visitation_Numbers', data=df_CRLA_avg)\n",
    "f1 = plt.gcf()"
   ]
  },
  {
   "cell_type": "code",
   "execution_count": 273,
   "metadata": {},
   "outputs": [
    {
     "data": {
      "image/png": "[encoded data removed]",
      "text/plain": [
       "<Figure size 864x360 with 1 Axes>"
      ]
     },
     "metadata": {},
     "output_type": "display_data"
    }
   ],
   "source": [
    "sns.barplot(x='Year', y='PINN_Yearly_Average_Visitation_Numbers', data=df_PINN_avg)\n",
    "f1 = plt.gcf()"
   ]
  },
  {
   "cell_type": "markdown",
   "metadata": {},
   "source": [
    "We also plot Covid cases in our NP counties to look for any general trends. "
   ]
  },
  {
   "cell_type": "code",
   "execution_count": 274,
   "metadata": {},
   "outputs": [
    {
     "data": {
      "text/html": [
       "<div>\n",
       "<style scoped>\n",
       "    .dataframe tbody tr th:only-of-type {\n",
       "        vertical-align: middle;\n",
       "    }\n",
       "\n",
       "    .dataframe tbody tr th {\n",
       "        vertical-align: top;\n",
       "    }\n",
       "\n",
       "    .dataframe thead th {\n",
       "        text-align: right;\n",
       "    }\n",
       "</style>\n",
       "<table border=\"1\" class=\"dataframe\">\n",
       "  <thead>\n",
       "    <tr style=\"text-align: right;\">\n",
       "      <th></th>\n",
       "      <th>Date</th>\n",
       "      <th>County</th>\n",
       "      <th>State</th>\n",
       "      <th>Cases</th>\n",
       "    </tr>\n",
       "  </thead>\n",
       "  <tbody>\n",
       "    <tr>\n",
       "      <th>3776</th>\n",
       "      <td>2020-03-18</td>\n",
       "      <td>Coconino</td>\n",
       "      <td>Arizona</td>\n",
       "      <td>1</td>\n",
       "    </tr>\n",
       "    <tr>\n",
       "      <th>4419</th>\n",
       "      <td>2020-03-19</td>\n",
       "      <td>Coconino</td>\n",
       "      <td>Arizona</td>\n",
       "      <td>2</td>\n",
       "    </tr>\n",
       "    <tr>\n",
       "      <th>5190</th>\n",
       "      <td>2020-03-20</td>\n",
       "      <td>Coconino</td>\n",
       "      <td>Arizona</td>\n",
       "      <td>11</td>\n",
       "    </tr>\n",
       "    <tr>\n",
       "      <th>6109</th>\n",
       "      <td>2020-03-21</td>\n",
       "      <td>Coconino</td>\n",
       "      <td>Arizona</td>\n",
       "      <td>11</td>\n",
       "    </tr>\n",
       "    <tr>\n",
       "      <th>7143</th>\n",
       "      <td>2020-03-22</td>\n",
       "      <td>Coconino</td>\n",
       "      <td>Arizona</td>\n",
       "      <td>15</td>\n",
       "    </tr>\n",
       "  </tbody>\n",
       "</table>\n",
       "</div>"
      ],
      "text/plain": [
       "            Date    County    State  Cases\n",
       "3776  2020-03-18  Coconino  Arizona      1\n",
       "4419  2020-03-19  Coconino  Arizona      2\n",
       "5190  2020-03-20  Coconino  Arizona     11\n",
       "6109  2020-03-21  Coconino  Arizona     11\n",
       "7143  2020-03-22  Coconino  Arizona     15"
      ]
     },
     "execution_count": 274,
     "metadata": {},
     "output_type": "execute_result"
    }
   ],
   "source": [
    "df_covid_cases_CN.head()"
   ]
  },
  {
   "cell_type": "markdown",
   "metadata": {},
   "source": [
    "For each covid case dataset, we create a line plot to visualize the trend in covid cases by region from 2020 to 2021."
   ]
  },
  {
   "cell_type": "code",
   "execution_count": 275,
   "metadata": {},
   "outputs": [
    {
     "data": {
      "text/plain": [
       "3776    2020-03-18\n",
       "4419    2020-03-19\n",
       "5190    2020-03-20\n",
       "6109    2020-03-21\n",
       "7143    2020-03-22\n",
       "Name: Date, dtype: object"
      ]
     },
     "execution_count": 275,
     "metadata": {},
     "output_type": "execute_result"
    }
   ],
   "source": [
    "df_covid_cases_CN['Date'].head()"
   ]
  },
  {
   "cell_type": "code",
   "execution_count": 276,
   "metadata": {},
   "outputs": [
    {
     "data": {
      "image/png": "[encoded data removed]",
      "text/plain": [
       "<Figure size 864x360 with 1 Axes>"
      ]
     },
     "metadata": {},
     "output_type": "display_data"
    }
   ],
   "source": [
    "plt.plot(df_covid_cases_CN['Date'], df_covid_cases_CN['Cases'], label='CN')\n",
    "plt.xlabel('Date')\n",
    "plt.ylabel('Coconino Cases')\n",
    "plt.xticks(np.arange(0,670,step=80))\n",
    "plt.xticks(fontsize=12)\n",
    "plt.show()"
   ]
  },
  {
   "cell_type": "code",
   "execution_count": 277,
   "metadata": {},
   "outputs": [
    {
     "data": {
      "image/png": "[encoded data removed]",
      "text/plain": [
       "<Figure size 864x360 with 1 Axes>"
      ]
     },
     "metadata": {},
     "output_type": "display_data"
    }
   ],
   "source": [
    "plt.plot(df_covid_cases_MO['Date'], df_covid_cases_MO['Cases'], label='MO')\n",
    "plt.xlabel('Date')\n",
    "plt.ylabel('Montezuma Cases')\n",
    "plt.xticks(np.arange(0,670,step=80))\n",
    "plt.xticks(fontsize=12)\n",
    "plt.show()"
   ]
  },
  {
   "cell_type": "code",
   "execution_count": 278,
   "metadata": {},
   "outputs": [
    {
     "data": {
      "image/png": "[encoded data removed]",
      "text/plain": [
       "<Figure size 864x360 with 1 Axes>"
      ]
     },
     "metadata": {},
     "output_type": "display_data"
    }
   ],
   "source": [
    "plt.plot(df_covid_cases_CU['Date'], df_covid_cases_CU['Cases'], label='CU')\n",
    "plt.xlabel('Date')\n",
    "plt.ylabel('Culberson Cases')\n",
    "plt.xticks(np.arange(0,670,step=80))\n",
    "plt.xticks(fontsize=12)\n",
    "plt.show()"
   ]
  },
  {
   "cell_type": "code",
   "execution_count": 279,
   "metadata": {},
   "outputs": [
    {
     "data": {
      "image/png": "[encoded data removed]",
      "text/plain": [
       "<Figure size 864x360 with 1 Axes>"
      ]
     },
     "metadata": {},
     "output_type": "display_data"
    }
   ],
   "source": [
    "plt.plot(df_covid_cases_MR['Date'], df_covid_cases_MR['Cases'], label='MR')\n",
    "plt.xlabel('Date')\n",
    "plt.ylabel('Mariposa Cases')\n",
    "plt.xticks(np.arange(0,670,step=80))\n",
    "plt.xticks(fontsize=12)\n",
    "plt.show()"
   ]
  },
  {
   "cell_type": "code",
   "execution_count": 280,
   "metadata": {},
   "outputs": [
    {
     "data": {
      "image/png": "[encoded data removed]",
      "text/plain": [
       "<Figure size 864x360 with 1 Axes>"
      ]
     },
     "metadata": {},
     "output_type": "display_data"
    }
   ],
   "source": [
    "plt.plot(df_covid_cases_KL['Date'], df_covid_cases_KL['Cases'], label='KL')\n",
    "plt.xlabel('Date')\n",
    "plt.ylabel('Klamath Cases')\n",
    "plt.xticks(np.arange(0,670,step=80))\n",
    "plt.xticks(fontsize=12)\n",
    "plt.show()"
   ]
  },
  {
   "cell_type": "code",
   "execution_count": 281,
   "metadata": {},
   "outputs": [
    {
     "data": {
      "image/png": "[encoded data removed]",
      "text/plain": [
       "<Figure size 864x360 with 1 Axes>"
      ]
     },
     "metadata": {},
     "output_type": "display_data"
    }
   ],
   "source": [
    "plt.plot(df_covid_cases_SB['Date'], df_covid_cases_SB['Cases'], label='SB')\n",
    "plt.xlabel('Date')\n",
    "plt.ylabel('San Benito Cases')\n",
    "plt.xticks(np.arange(0,670,step=80))\n",
    "plt.xticks(fontsize=12)\n",
    "plt.show()"
   ]
  },
  {
   "cell_type": "markdown",
   "metadata": {},
   "source": [
    "Here, we create a function that normalizes each data and plot the covid case datasets into one graph so that we can see the relationship between COVID cases and different counties more clearly."
   ]
  },
  {
   "cell_type": "code",
   "execution_count": 282,
   "metadata": {},
   "outputs": [],
   "source": [
    "# divide cases across all counties by max value of cases\n",
    "# normalization equation used : x' = (x - xmin) / (xmax - xmin)\n",
    "def normalize(cases, max):\n",
    "    cases = (cases - 1) / (max - 1)\n",
    "    return cases"
   ]
  },
  {
   "cell_type": "code",
   "execution_count": 283,
   "metadata": {},
   "outputs": [],
   "source": [
    "# find max value of cases in counties\n",
    "CN_max = df_covid_cases_CN['Cases'].max()\n",
    "MO_max = df_covid_cases_MO['Cases'].max()\n",
    "CU_max = df_covid_cases_CU['Cases'].max()\n",
    "MR_max = df_covid_cases_MR['Cases'].max()\n",
    "KL_max = df_covid_cases_KL['Cases'].max()\n",
    "SB_max = df_covid_cases_SB['Cases'].max()"
   ]
  },
  {
   "cell_type": "code",
   "execution_count": 284,
   "metadata": {},
   "outputs": [
    {
     "data": {
      "image/png": "[encoded data removed]",
      "text/plain": [
       "<Figure size 864x360 with 1 Axes>"
      ]
     },
     "metadata": {},
     "output_type": "display_data"
    }
   ],
   "source": [
    "# plot function with normalized values to see relationship between cases across counties\n",
    "plt.plot(df_covid_cases_CN['Date'], df_covid_cases_CN['Cases'].apply(normalize, max = CN_max), label='CN')\n",
    "plt.plot(df_covid_cases_MO['Date'], df_covid_cases_MO['Cases'].apply(normalize, max = MO_max), label='MO')\n",
    "plt.plot(df_covid_cases_CU['Date'], df_covid_cases_CU['Cases'].apply(normalize, max = CU_max), label='CU')\n",
    "plt.plot(df_covid_cases_MR['Date'], df_covid_cases_MR['Cases'].apply(normalize, max = MR_max), label='MR')\n",
    "plt.plot(df_covid_cases_KL['Date'], df_covid_cases_KL['Cases'].apply(normalize, max = KL_max), label='KL')\n",
    "plt.plot(df_covid_cases_SB['Date'], df_covid_cases_SB['Cases'].apply(normalize, max = SB_max), label='SB')\n",
    "plt.xlabel('Date')\n",
    "plt.ylabel('Cases')\n",
    "plt.xticks(np.arange(0,670,step=80))\n",
    "plt.xticks(fontsize=12)\n",
    "plt.legend(bbox_to_anchor=(1.02, 1))\n",
    "plt.show()"
   ]
  },
  {
   "cell_type": "markdown",
   "metadata": {},
   "source": [
    "The plots above show that different counties had different amounts of cases in each year. In our unnormalized graphs, in general, there was a big spike in cases in 2021 compared to 2020 across all counties. Some counties were hit harder in 2021 like Coconino County which had almost 20,000 cases while Mariposa County had around 800 cases in 2021. Once we normalized the line plot, we can see some different trends compared to the unnormalized line plot trends. \n",
    "In the normalized plot, we notice that Culberson (CU) county in Texas seems to have contracted more COVID cases over 2020-2021 compared to other counties. There was a steady rise in cases after June 2020 and this started to flatten out by around February 2021. \n",
    "In general, all the counties we are analyzing steadily rose at different rates and then cases started to flatten out by the beginning of 2021. However, we notice that in Mariposa (MR) county in CA, there was a pretty steady and sharp rise in cases after July 2021. Other counties' cases also began to rise after this time but not to the same degree that Mariposa experienced. \n",
    "One reason Mariposa county experienced this rise may be because California's statewide lockdown ended in June 2021 and a new delta variant of the COVID virus began to spread rapidly (info from (https://calmatters.org/health/coronavirus/2021/07/california-covid-cases-surging/). "
   ]
  },
  {
   "cell_type": "markdown",
   "metadata": {},
   "source": [
    "# Ethics & Privacy"
   ]
  },
  {
   "cell_type": "markdown",
   "metadata": {},
   "source": [
    "This section will address concerns regarding the Ethics and Privacy of the data used for our research question.\n",
    "\n",
    "We believe that the data gathered and the way it was utilized was both respectful of privacy and ethical. All of our data is sourced from the United States National Park Service’s (NPS) portal called Integrated Resource Management Applications (IRMA). This portal is a tool that both government employees and the public may access to obtain data regarding National Parks. The data we obtained from IRMA, specifically the National Park visitation rates, contains no personally identifiable information (PII) that may reveal who visited which National Parks. For this reason, we are able to respect the privacy of the individuals who visited since any PII is not in the datasets. \n",
    "\n",
    "Additionally, we are using COVID-19 case data from the New York Times for specific counties near to these national parks. The Times is a highly reputable source, and since this data is also statistical, we did not need to account for bias/discrimination, classification issues, or exclusion of specific demographics when looking into how the data was obtained. We are also able to expect that personally identifiable information (PII) has not been collected in this dataset, since it is only pertaining to COVID-19 case data.\n",
    "\n",
    "Regarding the ethics of our research question, the US NPS is the most reliable organization to source this data from, as it is the official source. The research question we have chosen studies the general population, so we did not make any decisions to focus on a particular demographic. Our datasets are statistics, not surveys, so we did not need to account for bias/discrimination, classification issues, or exclusion of specific demographics when looking into how the data was obtained. When selecting the specific parks to analyze, we narrowed down the options by choosing the Intermountain and Pacific West Regions as well as using a 3-tier option (large, medium, and small quantity of visitors) to sift the selected parks into. These decisions were made without any particular National Parks in mind, and specifically to help address the research question more directly. The 6 National Parks used to answer the research question were selected at random, and when wrangling and cleaning the data all 6 National Parks were treated equally. For these reasons, we do not have any ethical concerns surrounding how the data was sourced and how it was handled. \n"
   ]
  },
  {
   "cell_type": "markdown",
   "metadata": {},
   "source": [
    "# Conclusion & Discussion"
   ]
  },
  {
   "cell_type": "markdown",
   "metadata": {},
   "source": [
    "*Fill in your discussion information here*"
   ]
  },
  {
   "cell_type": "markdown",
   "metadata": {},
   "source": [
    "# Team Contributions"
   ]
  },
  {
   "cell_type": "markdown",
   "metadata": {},
   "source": [
    "- Maria Dhilla:\n",
    "- Eunice Lee:\n",
    "- Prem Shelat:\n",
    "- Maryam Amin:\n",
    "- Najma Adeeb:"
   ]
  }
 ],
 "metadata": {
  "kernelspec": {
   "display_name": "Python 3",
   "language": "python",
   "name": "python3"
  },
  "language_info": {
   "codemirror_mode": {
    "name": "ipython",
    "version": 3
   },
   "file_extension": ".py",
   "mimetype": "text/x-python",
   "name": "python",
   "nbconvert_exporter": "python",
   "pygments_lexer": "ipython3",
   "version": "3.10.2"
  }
 },
 "nbformat": 4,
 "nbformat_minor": 2
}
