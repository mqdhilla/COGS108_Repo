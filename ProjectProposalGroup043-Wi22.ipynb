{
 "cells": [
  {
   "cell_type": "markdown",
   "metadata": {},
   "source": [
    "# COGS 108 - Final Project Proposal"
   ]
  },
  {
   "cell_type": "markdown",
   "metadata": {},
   "source": [
    "# Names\n",
    "\n",
    "- Maria Dhilla\n",
    "- Eunice Lee\n",
    "- Prem Shelat\n",
    "- Maryam Amin\n",
    "- Najma Adeeb"
   ]
  },
  {
   "cell_type": "markdown",
   "metadata": {},
   "source": [
    "# Research Question"
   ]
  },
  {
   "cell_type": "markdown",
   "metadata": {},
   "source": [
    "\n",
    "Is there a relationship between COVID-19 air travel restrictions (measured by the number of passenger flights) due to declared states of emergency and the visitation of the U.S. National Parks by region from 2019 to 2021?\n"
   ]
  },
  {
   "cell_type": "markdown",
   "metadata": {},
   "source": [
    "## Background and Prior Work"
   ]
  },
  {
   "cell_type": "markdown",
   "metadata": {},
   "source": [
    "<b>*Why it is of interest to us.*</b>\n",
    "\n",
    "As a group we are passionate about the welfare of our National Park’s system. Established in 1916 by President Wilson, the creation of the National Park Service ushered in a new era of environmentalism ensuring the safety of our nation's natural beauty. \n",
    "\n",
    "During the last few decades, several heavily trafficked national parks, such as Yosemite, have experienced tourist overcrowding and understaffing that was exacerbated by the pandemic. Based on research done by researchers published in Biological Conservation, there has been a shift in the way national parks are operated due to the pandemic, mainly due to reduced staff and pandemic related closures (4). \n",
    "\n",
    "Our group came to realize that we all enjoy spending time outdoors in nature, whether it be hiking, running, biking, or merely going for long walks. A few of us have visited many national parks and, after discussing with park rangers, know firsthand the resources and staffing required to maintain them. This inspired us to investigate how the recent emergence of COVID-19 plays into the visitation of these landmarks. \n",
    "\n",
    "<b>*What background information led you to your hypothesis.*</b>\n",
    "\n",
    "The emergence and continuation of the COVID-19 pandemic drastically changed the world we live in today. Government lockdowns along with company work-at-home orders due to the COVID-19 virus are two factors that especially impacted the transportation sector. A combination of strict international travel restrictions and a desire to avoid the risk of contracting the contagious virus from others confined together in a closed space like a plane helped contribute to a significant decrease in demand for air flights. In fact, by as early in the pandemic as April 2020, Revenue Passengers Kilometer (RPKs), which is a common metric used to measure passenger air transportation by calculating how many kilometers passengers flew, fell by more than 94% compared to before (1).\n",
    "\n",
    "Land vehicle transportation was impacted in different ways as well. As many employees began to work from home around the world, road transport activity fell by as much as 50% by the end of March 2020 compared to 2019 (2). Less people drove their own cars and fewer people used public transportation and car services like taxis and Uber on a daily basis to get to work and go back home. In August of 2019, before the pandemic, only around 8% of California households had at least 1 adult teleworking who did not have to travel to their workplace; by 2020-2021, during the pandemic, this percentage increased to 40% (3). The number of employees who drove to and back from work every day decreased. This behavior can imply that traffic congestion and road activity by personal vehicles decreased during the pandemic compared to before. \n",
    "\n",
    "Interestingly enough, there was also an increase in road travel for purposes other than going to and back from work when COVID-19 cases began to drop and travel restrictions were eased. Surveys show that on average, 44% more Americans were taking road trips in the summer of 2021 due to the pandemic (7). Opting to travel by car instead of a plane, many people drove to their vacation destinations such as U.S. national parks. In the beginning of 2020, national parks’ visitation rates fell drastically by 87% compared to 2019 rates most likely due to stay-at-home orders and social distancing restrictions in place during the beginning of the pandemic (4). \n",
    "\n",
    "By the time it was summer of 2020, restrictions were lifted and many people drove to national parks. There was about a 335% increase in park visits nationally in July of 2020 compared to May of 2020 (4). It can be assumed that most of these visitors traveled by car due to air travel restrictions as well as the fear of air travel that was prevalent in mid-2020, and therefore, visitation may have increased. CNN reports have also shown that in June 2021, visitation, hiking, and camping numbers increased between 2019 and 2021 (8).\n",
    "\n",
    "<b>*Why is this important?*</b>\n",
    "\n",
    "Overcrowding at national parks lead to several consequences for both tourists and the land itself. Many tourists enjoy taking pictures during their trips to the parks, but certain ideal photo spots can be overrun by tourists who don’t know proper procedures for visitation. A tragic example of this would be the death of a man from Phoenix who fell to his death at the very popular Horseshoe Bend, which has a steep open cliff edge . Another example would be the fact that many tourists have “tossed rocks and debris into Yellowstone’s sensitive geothermal features, which risks destroying them forever” (9). The land is also affected by overcrowding. One example of this would be when too many people walked around the famous Sequoia trees and damaged their roots at Yosemite (10). This issue becomes a bigger problem when taking into consideration recent budget cuts and understaffing due to the COVID-19 pandemic, despite record setting visitation numbers (11). \n",
    "Analyzing the impact of COVID-19 restrictions on national parks would help to better understand how the national parks system should take various travel and health restrictions into consideration in the future. Our project aims to solidify the link between the restrictions brought on by the pandemic and the increase of tourism in National Parks, in part because tourists were unable to go to usual tourist attractions due to social distancing regulations.\n",
    "What has already been done on this topic? What is already known?\n",
    " \n",
    "Research published by the International Hospitality Review Journal discusses the economic impact of visits to Utah national parks and the tourism sector at large. Instead of recording “an immediate drop in visitation, as was experienced elsewhere across the USA,” the research explains how “visitors flocked to the national parks as a means to ‘safely social distance’ in the outdoors” (12). These crowds were of concern to locals who were worried about tourists spreading the virus.\n",
    "\n",
    "A study investigating what factors impacted park visitation rates in the western states of the U.S. and how park visits can affect wellbeing was published in the journal Wellbeing, Space and Society in 2021. Visiting parks is tied to people’s overall wellbeing and mental health and “parks often serve as places of restoration for those dealing with crisis”, and a common crisis everyone faced was the pandemic and all of its impacts to their daily lives (13). For urban residents facing strong travel restrictions during the beginning of the pandemic, their outdoor activity was affected significantly more and most likely helped contribute to the overcrowding at national parks when restrictions eased up. \n",
    "\n",
    "<b>*References (include links):*</b>\n",
    "\n",
    "<ol>\n",
    "<li>https://www.iata.org/en/iata-repository/publications/economic-reports/air-passenger-monthly-analysis---apr-20202/</li> \n",
    "<li>https://www.iea.org/articles/changes-in-transport-behaviour-during-the-covid-19-crisis </li> \n",
    "<li>https://www.bts.gov/browse-statistical-products-and-data/covid-related/effects-covid-19-telework-state </li> \n",
    "<li>https://www.sciencedirect.com/science/article/pii/S0006320721000902#s0150 </li> \n",
    "<li>https://www.unwto.org/covid-19-travel-restrictions</li> \n",
    "<li>https://www.transtats.bts.gov/Data_Elements.aspx?Data=1 </li> \n",
    "<li>https://swnsdigital.com/us/2020/08/pandemic-driving-americans-to-take-more-road-trips/</li> \n",
    "<li>https://www.cnn.com/travel/article/national-park-visitors-surge/index.html</li> \n",
    "​​<li>https://www.theguardian.com/environment/2018/nov/20/national-parks-america-overcrowding-crisis-tourism-visitation-solutions</li> \n",
    "<li>https://www.livescience.com/overcrowding-us-national-parks.html</li> \n",
    "<li>https://www.usatoday.com/story/travel/experience/national-parks/2021/10/23/yellowstone-national-park-workforce-labor-shortage-staff-record-tourism-year/6154890001/</li> \n",
    "<li>https://www.emerald.com/insight/content/doi/10.1108/IHR-08-2020-0039/full/html</li> \n",
    "<li>https://www.sciencedirect.com/science/article/pii/S2666558121000105</li> \n",
    "</ol>\n"
   ]
  },
  {
   "cell_type": "markdown",
   "metadata": {},
   "source": [
    "# Hypothesis\n"
   ]
  },
  {
   "cell_type": "markdown",
   "metadata": {},
   "source": [
    "We hypothesize that air travel restrictions and visitation to the U.S. National Parks will be correlated. We believe that once pandemic restrictions waned enough to allow for domestic road travel instead of air travel, visitation to national parks increased, though we acknowledge that there are confounding factors like the distance from urban areas, closure of parks, and varying travel restrictions."
   ]
  },
  {
   "cell_type": "markdown",
   "metadata": {},
   "source": [
    "# Data"
   ]
  },
  {
   "cell_type": "markdown",
   "metadata": {},
   "source": [
    "Ideally we would want data for national parks that measured monthly recreational visits in different parks and regions up till 2021. This data would preferably be collected by the National Park Service or other reputable source for national parks, and would be organized by park and region. \n",
    "\n",
    "We would also like a data set that compares enplanement, which tracks the number of paying passengers boarding flights, across different months in different states up till 2021. This data would be collected by airlines or the Bureau of Transportation by collecting the number of passengers taking flights from a region, and would be organized by month and state. \n",
    "\n",
    "Ideally we would also want data showing a timeline for different travel restrictions in different states in order to see if it lines up with enplanement data up till 2021 and see if this correlates with changes in national parks’ visitation rates. This data could be compiled from various news sources reporting on travel restrictions and government reports within the past 2 years. "
   ]
  },
  {
   "cell_type": "markdown",
   "metadata": {},
   "source": [
    "# Ethics & Privacy"
   ]
  },
  {
   "cell_type": "markdown",
   "metadata": {},
   "source": [
    "The vast majority of the data that we are collecting is open to the public for free-use, since it is sourced from government websites. Since there is no personally identifiable information gathered without consent in those websites, we do not anticipate any privacy concerns in our project at this time. Our datasets are statistics, not surveys, so we do not need to account for bias/discrimination, classification issues, or exclusion of specific demographics."
   ]
  },
  {
   "cell_type": "markdown",
   "metadata": {},
   "source": [
    "# Team Expectations "
   ]
  },
  {
   "cell_type": "markdown",
   "metadata": {},
   "source": [
    "* All team members should be expected to contribute a similar amount of time/effort towards the development/coding of the final project\n",
    "* It is expected that each member stays informed about the project details by reading their Discord messages and notifications. We will monitor each other’s progress by punctually notifying on the Discord server/channel of completed tasks\n",
    "* Members will schedule meetings and inform each other of schedule changes in case of emergency"
   ]
  },
  {
   "cell_type": "markdown",
   "metadata": {},
   "source": [
    "# Project Timeline Proposal"
   ]
  },
  {
   "cell_type": "markdown",
   "metadata": {},
   "source": [
    "| Meeting Date  | Meeting Time| Completed Before Meeting  | Discuss at Meeting |\n",
    "|---|---|---|---|\n",
    "| 1/23  |  9:30 AM | Read & Think about COGS 108 expectations; brainstorm topics/questions  | Discuss and decide on final project topic; work on Project Proposal discuss hypothesis; begin background research | \n",
    "| 1/27  |  5 PM |  Do background research on topic | Discuss ideal dataset(s) and ethics; draft/submit project proposal | \n",
    "| 1/30  | 10 AM  | Edit, finalize, and submit proposal; Search for datasets  | Discuss Wrangling and possible analytical approaches; Assign group members to lead each specific part   |\n",
    "| 2/13  | 10 AM  | Import & Wrangle Data (Ant Man); EDA (Hulk) | Review/Edit wrangling/EDA; Discuss Analysis Plan   |\n",
    "| 2/20  | 10 AM  | Finalize wrangling/EDA; Begin Analysis (Iron Man; Thor) | Discuss/edit Analysis; Complete project check-in |\n",
    "| 3/13  | 12 PM  | Complete analysis; Draft results/conclusion/discussion (Wasp)| Discuss/edit full project |\n",
    "| 3/19  | Before 11:59 PM  | NA | Turn in Final Project & Group Project Surveys |"
   ]
  }
 ],
 "metadata": {
  "kernelspec": {
   "display_name": "Python 3",
   "language": "python",
   "name": "python3"
  },
  "language_info": {
   "codemirror_mode": {
    "name": "ipython",
    "version": 3
   },
   "file_extension": ".py",
   "mimetype": "text/x-python",
   "name": "python",
   "nbconvert_exporter": "python",
   "pygments_lexer": "ipython3",
   "version": "3.7.9"
  }
 },
 "nbformat": 4,
 "nbformat_minor": 2
}
